{
 "metadata": {
  "name": "",
  "signature": "sha256:4197b6652a5d030971cddcb451a783f67d148954bbee1050a87311fb4eda09f3"
 },
 "nbformat": 3,
 "nbformat_minor": 0,
 "worksheets": [
  {
   "cells": [
    {
     "cell_type": "code",
     "collapsed": false,
     "input": [
      "# hide this cell if possible\n",
      "from __future__ import print_function"
     ],
     "language": "python",
     "metadata": {},
     "outputs": [],
     "prompt_number": 53
    },
    {
     "cell_type": "markdown",
     "metadata": {},
     "source": [
      "Parse coordinate string"
     ]
    },
    {
     "cell_type": "code",
     "collapsed": false,
     "input": [
      "import astropy.coordinates as coords\n",
      "target1 = coords.ICRS(\"00h42m44.3s +41d16m9s\")"
     ],
     "language": "python",
     "metadata": {},
     "outputs": [],
     "prompt_number": 54
    },
    {
     "cell_type": "markdown",
     "metadata": {},
     "source": [
      "Access the RA/Dec values"
     ]
    },
    {
     "cell_type": "code",
     "collapsed": false,
     "input": [
      "target1.ra"
     ],
     "language": "python",
     "metadata": {},
     "outputs": [
      {
       "latex": [
        "$0^\\mathrm{h}42^\\mathrm{m}44.3^\\mathrm{s}$"
       ],
       "metadata": {},
       "output_type": "pyout",
       "prompt_number": 55,
       "text": [
        "<Longitude 0.712305555555556 hourangle>"
       ]
      }
     ],
     "prompt_number": 55
    },
    {
     "cell_type": "code",
     "collapsed": false,
     "input": [
      "target1.dec"
     ],
     "language": "python",
     "metadata": {},
     "outputs": [
      {
       "latex": [
        "$41^\\circ16{}^\\prime09{}^{\\prime\\prime}$"
       ],
       "metadata": {},
       "output_type": "pyout",
       "prompt_number": 56,
       "text": [
        "<Latitude 41.26916666666666 deg>"
       ]
      }
     ],
     "prompt_number": 56
    },
    {
     "cell_type": "code",
     "collapsed": false,
     "input": [
      "target1.ra.degree"
     ],
     "language": "python",
     "metadata": {},
     "outputs": [
      {
       "metadata": {},
       "output_type": "pyout",
       "prompt_number": 57,
       "text": [
        "10.684583333333338"
       ]
      }
     ],
     "prompt_number": 57
    },
    {
     "cell_type": "code",
     "collapsed": false,
     "input": [
      "target1.ra.hms"
     ],
     "language": "python",
     "metadata": {},
     "outputs": [
      {
       "metadata": {},
       "output_type": "pyout",
       "prompt_number": 58,
       "text": [
        "(0.0, 42.0, 44.300000000001489)"
       ]
      }
     ],
     "prompt_number": 58
    },
    {
     "cell_type": "markdown",
     "metadata": {},
     "source": [
      "Convert to Galactic coordinates"
     ]
    },
    {
     "cell_type": "code",
     "collapsed": false,
     "input": [
      "target1.galactic.l"
     ],
     "language": "python",
     "metadata": {},
     "outputs": [
      {
       "latex": [
        "$2.11489\\mathrm{rad}$"
       ],
       "metadata": {},
       "output_type": "pyout",
       "prompt_number": 59,
       "text": [
        "<Longitude 2.1148905944326613 rad>"
       ]
      }
     ],
     "prompt_number": 59
    },
    {
     "cell_type": "code",
     "collapsed": false,
     "input": [
      "target1.galactic.b"
     ],
     "language": "python",
     "metadata": {},
     "outputs": [
      {
       "latex": [
        "$-0.376516\\mathrm{rad}$"
       ],
       "metadata": {},
       "output_type": "pyout",
       "prompt_number": 60,
       "text": [
        "<Latitude -0.3765164496798999 rad>"
       ]
      }
     ],
     "prompt_number": 60
    },
    {
     "cell_type": "markdown",
     "metadata": {},
     "source": [
      "Create a separate object in Galactic coordinates"
     ]
    },
    {
     "cell_type": "code",
     "collapsed": false,
     "input": [
      "from astropy import units as u\n",
      "target1_galactic = target1.transform_to(coords.Galactic)\n",
      "# equivalently:\n",
      "target1_galactic = target1.galactic\n",
      "target1_galactic.l.format(u.degree, sep=\":\", precision=3)"
     ],
     "language": "python",
     "metadata": {},
     "outputs": [
      {
       "metadata": {},
       "output_type": "pyout",
       "prompt_number": 87,
       "text": [
        "u'121:10:27.499'"
       ]
      }
     ],
     "prompt_number": 87
    },
    {
     "cell_type": "markdown",
     "metadata": {},
     "source": [
      "Set the distance and view the cartesian coordinates"
     ]
    },
    {
     "cell_type": "code",
     "collapsed": false,
     "input": [
      "target1.distance = coords.Distance(770., u.kpc)\n",
      "print(target1.x, target1.y, target1.z)"
     ],
     "language": "python",
     "metadata": {},
     "outputs": [
      {
       "output_type": "stream",
       "stream": "stdout",
       "text": [
        "568.712888217 kpc 107.300935969 kpc 507.889909249 kpc\n"
       ]
      }
     ],
     "prompt_number": 91
    },
    {
     "cell_type": "raw",
     "metadata": {},
     "source": [
      "The same, but in Galactic coordinates:"
     ]
    },
    {
     "cell_type": "code",
     "collapsed": false,
     "input": [
      "print(target1_galactic.x, target1_galactic.y, target1_galactic.z)"
     ],
     "language": "python",
     "metadata": {},
     "outputs": [
      {
       "output_type": "stream",
       "stream": "stdout",
       "text": [
        "-370.664927667 kpc 612.660441382 kpc -283.116045048 kpc\n"
       ]
      }
     ],
     "prompt_number": 92
    },
    {
     "cell_type": "markdown",
     "metadata": {},
     "source": [
      "Query SIMBAD to get coordinates from object names"
     ]
    },
    {
     "cell_type": "code",
     "collapsed": false,
     "input": [
      "m32_coords = coords.ICRS.from_name(\"M32\")\n",
      "m32_coords"
     ],
     "language": "python",
     "metadata": {},
     "outputs": [
      {
       "metadata": {},
       "output_type": "pyout",
       "prompt_number": 65,
       "text": [
        "<ICRS RA=10.67427 deg, Dec=40.86517 deg>"
       ]
      }
     ],
     "prompt_number": 65
    },
    {
     "cell_type": "markdown",
     "metadata": {},
     "source": [
      "Two coordinates can be used to get distances"
     ]
    },
    {
     "cell_type": "code",
     "collapsed": false,
     "input": [
      "m32_coords.distance = coords.Distance(765., u.kpc)\n",
      "m32_coords.separation_3d(target1)"
     ],
     "language": "python",
     "metadata": {},
     "outputs": [
      {
       "latex": [
        "$7.36865 \\; \\mathrm{kpc}$"
       ],
       "metadata": {},
       "output_type": "pyout",
       "prompt_number": 66,
       "text": [
        "<Distance 7.368647671349118 kpc>"
       ]
      }
     ],
     "prompt_number": 66
    },
    {
     "cell_type": "markdown",
     "metadata": {},
     "source": [
      "There are many equivalent ways to create a new `Coordinate` object:"
     ]
    },
    {
     "cell_type": "code",
     "collapsed": false,
     "input": [
      "coords.Galactic(0,0,unit=('deg','deg'))\n",
      "coords.Galactic(0*u.deg,0*u.deg)\n",
      "coords.Galactic(0,0,unit=(u.deg,u.deg))\n",
      "coords.Galactic(\"0d0m0s 0d0m0s\")"
     ],
     "language": "python",
     "metadata": {},
     "outputs": [
      {
       "metadata": {},
       "output_type": "pyout",
       "prompt_number": 67,
       "text": [
        "<Galactic l=-0.00000 deg, b=0.00000 deg>"
       ]
      }
     ],
     "prompt_number": 67
    },
    {
     "cell_type": "markdown",
     "metadata": {},
     "source": [
      "Coordinates can be printed as strings:"
     ]
    },
    {
     "cell_type": "code",
     "collapsed": false,
     "input": [
      "print(\"HMS/DMS: \"+m32_coords.to_string()+\"\\n\"+\n",
      "      \"DMS/DMS: \"+m32_coords.to_string('dms')+\"\\n\"+\n",
      "      \"Deg/Deg: \"+m32_coords.to_string('decimal'))"
     ],
     "language": "python",
     "metadata": {},
     "outputs": [
      {
       "output_type": "stream",
       "stream": "stdout",
       "text": [
        "HMS/DMS: 0h42m41.825s 40d51m54.61s\n",
        "HMS/DMS: 0:42:41.825 40:51:54.61\n",
        "DMS/DMS: 10d40m27.375s 40d51m54.61s\n",
        "Deg/Deg: 10.6743 40.8652\n"
       ]
      }
     ],
     "prompt_number": 73
    },
    {
     "cell_type": "markdown",
     "metadata": {},
     "source": [
      "Colon-separated Sexagesimal:"
     ]
    },
    {
     "cell_type": "code",
     "collapsed": false,
     "input": [
      "print(\"HMS/DMS: \"+m32_coords.to_string(sep=\":\"))"
     ],
     "language": "python",
     "metadata": {},
     "outputs": [
      {
       "output_type": "stream",
       "stream": "stdout",
       "text": [
        "HMS/DMS: 0:42:41.825 40:51:54.61\n"
       ]
      }
     ],
     "prompt_number": 74
    },
    {
     "cell_type": "markdown",
     "metadata": {},
     "source": [
      "Other options:\n",
      "\n",
      " * Increase the printed precision\n",
      " * Always show the leading sign in front of the angles\n",
      " * Round to the nearest arcminute\n",
      " * Print in LaTeX format"
     ]
    },
    {
     "cell_type": "code",
     "collapsed": false,
     "input": [
      "print(m32_coords.to_string(sep=\":\",precision=5))\n",
      "print(m32_coords.to_string(sep=\":\",alwayssign=True))\n",
      "print(m32_coords.to_string(fields=2))\n",
      "print(m32_coords.to_string(format='latex'))"
     ],
     "language": "python",
     "metadata": {},
     "outputs": [
      {
       "output_type": "stream",
       "stream": "stdout",
       "text": [
        "0:42:41.82499 40:51:54.60984\n",
        "+0:42:41.825 +40:51:54.6098\n",
        "0h43m 40d52m\n",
        "$0^\\mathrm{h}42^\\mathrm{m}41.825^\\mathrm{s}$ $40^\\circ51{}^\\prime54.6098{}^{\\prime\\prime}$\n"
       ]
      }
     ],
     "prompt_number": 86
    },
    {
     "cell_type": "code",
     "collapsed": false,
     "input": [],
     "language": "python",
     "metadata": {},
     "outputs": [],
     "prompt_number": 86
    },
    {
     "cell_type": "code",
     "collapsed": false,
     "input": [],
     "language": "python",
     "metadata": {},
     "outputs": []
    }
   ],
   "metadata": {}
  }
 ]
}