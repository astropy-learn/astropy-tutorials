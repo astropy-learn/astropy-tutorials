{
 "metadata": {
  "name": "CoordinateConversion"
 },
 "nbformat": 3,
 "nbformat_minor": 0,
 "worksheets": [
  {
   "cells": [
    {
     "cell_type": "markdown",
     "metadata": {},
     "source": [
      "Parse coordinate string"
     ]
    },
    {
     "cell_type": "code",
     "collapsed": false,
     "input": [
      ">>> import astropy.coordinates as coords\n",
      ">>> c = coords.ICRSCoordinates(\"00h42m44.3s +41d16m9s\")"
     ],
     "language": "python",
     "metadata": {},
     "outputs": [],
     "prompt_number": 1
    },
    {
     "cell_type": "markdown",
     "metadata": {},
     "source": [
      "Access the RA/Dec values"
     ]
    },
    {
     "cell_type": "code",
     "collapsed": false,
     "input": [
      ">>> c.ra"
     ],
     "language": "python",
     "metadata": {},
     "outputs": [
      {
       "latex": [
        "$0^\\mathrm{h}42^\\mathrm{m}44.30000^\\mathrm{s}$"
       ],
       "output_type": "pyout",
       "prompt_number": 2,
       "text": [
        "<Longitude 0.712305555555556 hourangle>"
       ]
      }
     ],
     "prompt_number": 2
    },
    {
     "cell_type": "code",
     "collapsed": false,
     "input": [
      ">>> c.dec"
     ],
     "language": "python",
     "metadata": {},
     "outputs": [
      {
       "latex": [
        "$41^\\circ16{}^\\prime09.00000{}^{\\prime\\prime}$"
       ],
       "output_type": "pyout",
       "prompt_number": 3,
       "text": [
        "<Latitude 41.26916666666666 deg>"
       ]
      }
     ],
     "prompt_number": 3
    },
    {
     "cell_type": "code",
     "collapsed": false,
     "input": [
      ">>> c.ra.degree"
     ],
     "language": "python",
     "metadata": {},
     "outputs": [
      {
       "output_type": "pyout",
       "prompt_number": 4,
       "text": [
        "10.684583333333338"
       ]
      }
     ],
     "prompt_number": 4
    },
    {
     "cell_type": "code",
     "collapsed": false,
     "input": [
      ">>> c.ra.hms"
     ],
     "language": "python",
     "metadata": {},
     "outputs": [
      {
       "output_type": "pyout",
       "prompt_number": 5,
       "text": [
        "(0.0, 42.0, 44.300000000001489)"
       ]
      }
     ],
     "prompt_number": 5
    },
    {
     "cell_type": "markdown",
     "metadata": {},
     "source": [
      "Convert to Galactic coordinates"
     ]
    },
    {
     "cell_type": "code",
     "collapsed": false,
     "input": [
      ">>> c.galactic.l"
     ],
     "language": "python",
     "metadata": {},
     "outputs": [
      {
       "latex": [
        "$2.11489\\mathrm{rad}$"
       ],
       "output_type": "pyout",
       "prompt_number": 6,
       "text": [
        "<Longitude 2.1148905944326613 rad>"
       ]
      }
     ],
     "prompt_number": 6
    },
    {
     "cell_type": "code",
     "collapsed": false,
     "input": [
      ">>> c.galactic.b"
     ],
     "language": "python",
     "metadata": {},
     "outputs": [
      {
       "latex": [
        "$-0.37652\\mathrm{rad}$"
       ],
       "output_type": "pyout",
       "prompt_number": 7,
       "text": [
        "<Latitude -0.3765164496798999 rad>"
       ]
      }
     ],
     "prompt_number": 7
    },
    {
     "cell_type": "markdown",
     "metadata": {},
     "source": [
      "Create a separate object in Galactic coordinates"
     ]
    },
    {
     "cell_type": "code",
     "collapsed": false,
     "input": [
      ">>> from astropy import units as u\n",
      ">>> g = c.transform_to(coords.GalacticCoordinates)\n",
      ">>> g.l.format(u.degree, sep=\":\", precision=3)"
     ],
     "language": "python",
     "metadata": {},
     "outputs": [
      {
       "output_type": "pyout",
       "prompt_number": 8,
       "text": [
        "u'121:10:27.499'"
       ]
      }
     ],
     "prompt_number": 8
    },
    {
     "cell_type": "markdown",
     "metadata": {},
     "source": [
      "Set the distance and view the cartesian coordinates"
     ]
    },
    {
     "cell_type": "code",
     "collapsed": false,
     "input": [
      ">>> c.distance = coords.Distance(770., u.kpc)\n",
      ">>> c.x"
     ],
     "language": "python",
     "metadata": {},
     "outputs": [
      {
       "latex": [
        "$568.713 \\; \\mathrm{kpc}$"
       ],
       "output_type": "pyout",
       "prompt_number": 9,
       "text": [
        "<Quantity 568.712888216568 kpc>"
       ]
      }
     ],
     "prompt_number": 9
    },
    {
     "cell_type": "code",
     "collapsed": false,
     "input": [
      ">>> c.y"
     ],
     "language": "python",
     "metadata": {},
     "outputs": [
      {
       "latex": [
        "$107.301 \\; \\mathrm{kpc}$"
       ],
       "output_type": "pyout",
       "prompt_number": 10,
       "text": [
        "<Quantity 107.30093596881035 kpc>"
       ]
      }
     ],
     "prompt_number": 10
    },
    {
     "cell_type": "code",
     "collapsed": false,
     "input": [
      ">>> c.z"
     ],
     "language": "python",
     "metadata": {},
     "outputs": [
      {
       "latex": [
        "$507.89 \\; \\mathrm{kpc}$"
       ],
       "output_type": "pyout",
       "prompt_number": 11,
       "text": [
        "<Quantity 507.8899092486349 kpc>"
       ]
      }
     ],
     "prompt_number": 11
    },
    {
     "cell_type": "markdown",
     "metadata": {},
     "source": [
      "Query SIMBAD to get coordinates from object names"
     ]
    },
    {
     "cell_type": "code",
     "collapsed": false,
     "input": [
      ">>> m = coords.ICRSCoordinates.from_name(\"M32\")\n",
      ">>> m"
     ],
     "language": "python",
     "metadata": {},
     "outputs": [
      {
       "output_type": "pyout",
       "prompt_number": 12,
       "text": [
        "<ICRSCoordinates RA=10.67427 deg, Dec=40.86517 deg>"
       ]
      }
     ],
     "prompt_number": 12
    },
    {
     "cell_type": "markdown",
     "metadata": {},
     "source": [
      "Two coordinates can be used to get distances"
     ]
    },
    {
     "cell_type": "code",
     "collapsed": false,
     "input": [
      ">>> m.distance = coords.Distance(765., u.kpc)\n",
      ">>> m.separation_3d(c)"
     ],
     "language": "python",
     "metadata": {},
     "outputs": [
      {
       "latex": [
        "$7.36865 \\; \\mathrm{kpc}$"
       ],
       "output_type": "pyout",
       "prompt_number": 13,
       "text": [
        "<Distance 7.36864806914017 kpc>"
       ]
      }
     ],
     "prompt_number": 13
    }
   ],
   "metadata": {}
  }
 ]
}