{
 "cells": [
  {
   "cell_type": "markdown",
   "id": "5cd63a37-6a0c-4c92-a970-3e2ad24cbde2",
   "metadata": {},
   "source": [
    "# Working with large FITS files\n",
    "\n",
    "## Authors\n",
    "C. E. Brasseur\n",
    "\n",
    "## Learning Goals\n",
    "* Build a *large* FITS file (*large* means is too large to fit in memory all at once)\n",
    "* Access data from a *large* FITS file\n",
    "* Modify a *large* FITS file\n",
    "\n",
    "## Keywords\n",
    "Example, example, example\n",
    "\n",
    "## Companion Content\n",
    "LINK TO FITS DOCUMENTATION\n",
    "\n",
    "## Summary\n",
    "In this tutorial, we will download a data file, do something to it, and then\n",
    "visualize it."
   ]
  },
  {
   "cell_type": "markdown",
   "id": "b1e73414-7111-4f27-9478-0cbc015276ca",
   "metadata": {},
   "source": []
  },
  {
   "cell_type": "markdown",
   "id": "7dfd952d-56e3-4963-8540-f43020a7ea9e",
   "metadata": {},
   "source": [
    "## Building a large FITS file"
   ]
  },
  {
   "cell_type": "code",
   "execution_count": null,
   "id": "5f301e48-ab85-422d-817e-7926e4c1d6c8",
   "metadata": {},
   "outputs": [],
   "source": []
  }
 ],
 "metadata": {
  "language_info": {
   "codemirror_mode": {
    "name": "ipython"
   },
   "file_extension": ".py",
   "mimetype": "text/x-python",
   "name": "python",
   "nbconvert_exporter": "python"
  }
 },
 "nbformat": 4,
 "nbformat_minor": 5
}
