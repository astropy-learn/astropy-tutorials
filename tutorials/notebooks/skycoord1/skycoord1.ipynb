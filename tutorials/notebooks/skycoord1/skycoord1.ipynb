{
 "cells": [
  {
   "cell_type": "markdown",
   "metadata": {},
   "source": [
    "# **SkyCoord 1: Reading and plotting**"
   ]
  },
  {
   "cell_type": "markdown",
   "metadata": {},
   "source": [
    "## Authors\n",
    "\n",
    "Kris Stern, Kelle Cruz, Lia Corrales, David Shupe\n",
    "\n",
    "## Learning Goals\n",
    "\n",
    "This tutorial series aims to show how the content of Chapter 1 of \"An Introduction to Modern Astrophysics\" by Carroll and Ostlie can be applied to real life astrohpysics research situations, using tools in the Astropy ecosystem. In this tutorial we deal with the **setting up of a world coordinate system (WCS) for astrophysical data**. \n",
    "\n",
    "## Keywords\n",
    "\n",
    "WCS, coordinates, matplotlib\n",
    "\n",
    "## Companion Contents\n",
    "1. \"An Introduction to Modern Astrophysics\" ([Carroll & Ostlie](https://ui.adsabs.harvard.edu/abs/2006ima..book.....C/abstract))\n",
    "2. [FITS WCS page at GSFC](https://fits.gsfc.nasa.gov/fits_wcs.html)\n",
    "\n",
    "## Summary\n",
    "\n",
    "In this tutorial we introduce two different approaches to building build one's own `astropy.wcs.WCS` object, which serves as a starting point for using Astropy to investigate the FITS World Coordinate System (WCS) used extensively in astronomy by the scientific community. \n",
    "\n",
    "First we will need to import the required package `astropy`."
   ]
  },
  {
   "cell_type": "code",
   "execution_count": 12,
   "metadata": {},
   "outputs": [],
   "source": [
    "from astropy.wcs import WCS"
   ]
  },
  {
   "cell_type": "markdown",
   "metadata": {},
   "source": [
    "## **Section 1: Two ways to build your own `astropy.wcs.WCS` object**\n",
    "\n",
    "*World coordinates* serve to locate a measurement in some multi-dimensional parameter space. A World Coordinate System (WCS) specifies the physical, or world, coordintes to be attached to each pixel or voxel of an N-dimensional image or array. For the Flexible Image Transport System (FITS) format, an [elaborate set of standards and conventions](https://fits.gsfc.nasa.gov/fits_wcs.html) have been developed for the Flexible Image Transport System (FITS) format ([Wells et al. 1981](https://ui.adsabs.harvard.edu/abs/1981A&AS...44..363W/abstract)). A typical WCS example is to specify the Right Ascension (RA) and Declination (Dec) on the sky associated with a given the pixel or spaxel location in a 2-dimensional celestial image ([Greisen & Calabretta 2002](https://ui.adsabs.harvard.edu/abs/2002A&A...395.1061G/abstract); [Calabretta and Greisen 2002](https://ui.adsabs.harvard.edu/abs/2002A&A...395.1077C/abstract)).\n",
    "\n",
    "The [`astropy.wcs` subpackage](https://docs.astropy.org/en/stable/wcs/) implements FITS standards and conventions for World Coordinate Systems. Using the `astropy.wcs.WCS` object and `matplotlib`, we can generate images of the sky that have axes labeled with coordinates such as right ascension (RA) and declination (Dec). This requires selecting the proper projections for `matplotlib` and providing a `WCSAxes` object.\n",
    "\n",
    "There are two main ways to initialize a `WCSAxes` object: with a Python dictionary or with Python lists. This tutorial provides examples of both."
   ]
  },
  {
   "cell_type": "markdown",
   "metadata": {},
   "source": [
    "For example, we can initialize an `astropy.wcs.WCS` object with two axes. The axes are defined by `CTYPE` keywords. In this example, we define a two coordinate axes with units of degrees.\n",
    "\n",
    "Below is a table detailing how each basic WCS keywords are for (where n is some integer): \n",
    "\n",
    "* **CRVALn**: the coordinate value at the reference point\n",
    "* **CRPIXn**: the array location of the reference point in pixels\n",
    "* **CDELTn**: the coordinate increment at the reference point \n",
    "* **CTYPEn**: the axis type (8 characters)\n",
    "* **CUNITn**: character-valued and overrides default units\n",
    "\n",
    "One way to define a particular WCS object for use in Astropy is to first construct a dictionary containing all the essential information mapping the pixel coordinate space to the world coordinate space. The advantage of this approach is that we can also specify the value for `NAXIS` for each axis, which is otherwise inaccessible via other means. \n",
    "\n",
    "Some good references of the WCS can be found [here](https://fits.gsfc.nasa.gov/fits_wcs.html)."
   ]
  },
  {
   "cell_type": "code",
   "execution_count": 13,
   "metadata": {},
   "outputs": [],
   "source": [
    "wcs_input_dict = {\n",
    "'CTYPE1': 'RA---TAN', 'CUNIT1': 'deg', 'CDELT1': -0.0002777777778, 'CRPIX1': 1, 'CRVAL1': 337.5202808, 'NAXIS1': 0,\n",
    "'CTYPE2': 'DEC--TAN', 'CUNIT2': 'deg', 'CDELT2': 0.0002777777778, 'CRPIX2': 1, 'CRVAL2': -20.833333059999998, 'NAXIS2': 0}\n",
    "wcs = WCS(wcs_input_dict)"
   ]
  },
  {
   "cell_type": "markdown",
   "metadata": {},
   "source": [
    "Alternatively, we could initialize the astropy.wcs.WCS object, and assign the values directly using lists. In this example, we create a 2D WCS for the iconic planetary nebula, the Helix nebula."
   ]
  },
  {
   "cell_type": "code",
   "execution_count": 14,
   "metadata": {},
   "outputs": [
    {
     "name": "stdout",
     "output_type": "stream",
     "text": [
      "WCS Keywords\n",
      "\n",
      "Number of WCS axes: 2\n",
      "CTYPE : 'RA---TAN'  'DEC--TAN'  \n",
      "CRVAL : 337.5202808  -20.83333306  \n",
      "CRPIX : 1.0  1.0  \n",
      "PC1_1 PC1_2  : 1.0  0.0  \n",
      "PC2_1 PC2_2  : 0.0  1.0  \n",
      "CDELT : -0.0002777777778  0.0002777777778  \n",
      "NAXIS : 0  0\n"
     ]
    }
   ],
   "source": [
    "print(wcs) # To check output"
   ]
  },
  {
   "cell_type": "code",
   "execution_count": 15,
   "metadata": {},
   "outputs": [],
   "source": [
    "wcs = WCS(naxis=2)\n",
    "wcs.wcs.crpix = [1, 1]\n",
    "wcs.wcs.crval = [337.5202808, -20.833333059999998]\n",
    "wcs.wcs.cunit = [\"deg\", \"deg\"]\n",
    "wcs.wcs.ctype = [\"RA---TAN\", \"DEC--TAN\"]\n",
    "wcs.wcs.cdelt = [-0.0002777777778, 0.0002777777778]"
   ]
  },
  {
   "cell_type": "code",
   "execution_count": 16,
   "metadata": {},
   "outputs": [
    {
     "name": "stdout",
     "output_type": "stream",
     "text": [
      "WCS Keywords\n",
      "\n",
      "Number of WCS axes: 2\n",
      "CTYPE : 'RA---TAN'  'DEC--TAN'  \n",
      "CRVAL : 337.5202808  -20.833333059999998  \n",
      "CRPIX : 1.0  1.0  \n",
      "PC1_1 PC1_2  : 1.0  0.0  \n",
      "PC2_1 PC2_2  : 0.0  1.0  \n",
      "CDELT : -0.0002777777778  0.0002777777778  \n",
      "NAXIS : 0  0\n"
     ]
    }
   ],
   "source": [
    "print(wcs) # To check output"
   ]
  },
  {
   "cell_type": "markdown",
   "metadata": {},
   "source": [
    "Once the WCS object is defined this way, we can see as in this method of initialization we have no data attached, hence the NAXIS field return zero values, unlike in the Python dictionary approach above."
   ]
  },
  {
   "cell_type": "markdown",
   "metadata": {},
   "source": [
    "However, most of the time we can obtain the required astropy.wcs.WCS object from the header of the FITS file from a telescope or astronomical database. This can be achieved by first reading in the FITS file, then by applying the WCS method on the FITS file header, as described in the next section."
   ]
  },
  {
   "cell_type": "code",
   "execution_count": null,
   "metadata": {},
   "outputs": [],
   "source": []
  }
 ],
 "metadata": {},
 "nbformat": 4,
 "nbformat_minor": 4
}
