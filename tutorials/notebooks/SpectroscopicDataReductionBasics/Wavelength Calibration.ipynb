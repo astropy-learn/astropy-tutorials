{
 "cells": [
  {
   "cell_type": "markdown",
   "metadata": {},
   "source": [
    "# Wavelenth calibration\n",
    "\n",
    "This notebook assumes you've completed the Spectroscopic Trace process and have a trace handy."
   ]
  },
  {
   "cell_type": "code",
   "execution_count": null,
   "metadata": {},
   "outputs": [],
   "source": [
    "from PIL import Image\n",
    "import numpy as np\n",
    "import pylab as pl\n",
    "pl.rcParams['image.origin'] = 'lower'\n",
    "pl.matplotlib.style.use('dark_background')"
   ]
  },
  {
   "cell_type": "markdown",
   "metadata": {},
   "source": [
    "We have three calibration lamp spectra: Mercury, Krypton, and Neon."
   ]
  },
  {
   "cell_type": "code",
   "execution_count": null,
   "metadata": {},
   "outputs": [],
   "source": [
    "hg_filename = \"hg_lamp_1-sixteenth_s.bmp\"\n",
    "kr_filename = \"kr_lamp_p6.bmp\"\n",
    "ne_filename = \"ne_lamp_1s.bmp\""
   ]
  },
  {
   "cell_type": "code",
   "execution_count": null,
   "metadata": {},
   "outputs": [],
   "source": [
    "hg_image = np.array(Image.open(hg_filename))\n",
    "kr_image = np.array(Image.open(kr_filename))\n",
    "ne_image = np.array(Image.open(ne_filename))"
   ]
  },
  {
   "cell_type": "code",
   "execution_count": null,
   "metadata": {},
   "outputs": [],
   "source": [
    "pl.imshow(hg_image)"
   ]
  },
  {
   "cell_type": "code",
   "execution_count": null,
   "metadata": {},
   "outputs": [],
   "source": [
    "pl.imshow(kr_image)"
   ]
  },
  {
   "cell_type": "code",
   "execution_count": null,
   "metadata": {},
   "outputs": [],
   "source": [
    "pl.imshow(ne_image)"
   ]
  },
  {
   "cell_type": "markdown",
   "metadata": {},
   "source": [
    "We can note by zooming in that there appear to be seven independent spectra:"
   ]
  },
  {
   "cell_type": "code",
   "execution_count": null,
   "metadata": {},
   "outputs": [],
   "source": [
    "pl.imshow(hg_image[380:540,140:180])"
   ]
  },
  {
   "cell_type": "markdown",
   "metadata": {},
   "source": [
    "We re-create our trace model from the [Spectroscopic Trace Tutorial](Spectroscopic%20Trace%20Tutorial.ipynb) using the fitted models.\n",
    "\n",
    "(we could have used the empirical trace directly, which might result in slightly improved noise characteristics, but for simplicity - and to make the two notebooks independently usable - we use the fitted polynomial & Gaussian models here)"
   ]
  },
  {
   "cell_type": "code",
   "execution_count": null,
   "metadata": {},
   "outputs": [],
   "source": [
    "from astropy.modeling.polynomial import Polynomial1D\n",
    "from astropy.modeling.models import Gaussian1D\n",
    "trace_model = Polynomial1D(degree=2, c0=453.99089409, c1=-0.01931577, c2=0.00000731,)\n",
    "trace_profile_model = Gaussian1D(amplitude=123.81906886, mean=0.17890498, stddev=5.10870321)\n",
    "xaxis = np.arange(hg_image.shape[1])\n",
    "trace_center = trace_model(xaxis)\n",
    "npixels_to_cut=15\n",
    "yaxis = np.arange(-npixels_to_cut, npixels_to_cut)\n",
    "model_trace_profile = trace_profile_model(yaxis)"
   ]
  },
  {
   "cell_type": "markdown",
   "metadata": {},
   "source": [
    "Then, we use the trace to extract spectra from each of the three calibration lamp spectra.\n",
    "\n",
    "We verify that the traces look acceptable first, though:"
   ]
  },
  {
   "cell_type": "code",
   "execution_count": null,
   "metadata": {},
   "outputs": [],
   "source": [
    "pl.figure(figsize=(16,8))\n",
    "ax1 = pl.subplot(3,1,1)\n",
    "ax1.imshow(hg_image[430:470,:], extent=[0,1600,430,470])\n",
    "ax1.plot(xaxis, trace_center)\n",
    "ax1.set_aspect(10)\n",
    "ax2 = pl.subplot(3,1,2)\n",
    "ax2.imshow(kr_image[430:470,:], extent=[0,1600,430,470])\n",
    "ax2.plot(xaxis, trace_center)\n",
    "ax2.set_aspect(10)\n",
    "ax3 = pl.subplot(3,1,3)\n",
    "ax3.imshow(ne_image[430:470,:], extent=[0,1600,430,470])\n",
    "ax3.plot(xaxis, trace_center)\n",
    "ax3.set_aspect(10)"
   ]
  },
  {
   "cell_type": "markdown",
   "metadata": {},
   "source": [
    "Strangely, the trace looks like it's going through a minimum between the individual spectra, but there's enough signal that we can extract a calibration lamp spectrum, and the trace is perpendicular enough to the dispersion axis that we can mostly trust it.  Nonetheless, you might question whether these observations were carried out correctly, or if the spectrograph was shaken severely between star & cal lamp observations."
   ]
  },
  {
   "cell_type": "code",
   "execution_count": null,
   "metadata": {},
   "outputs": [],
   "source": [
    "hg_spectrum = np.array([np.average(hg_image[int(yval)-npixels_to_cut:int(yval)+npixels_to_cut, ii],\n",
    "                                weights=model_trace_profile)\n",
    "                     for yval, ii in zip(trace_center, xaxis)])"
   ]
  },
  {
   "cell_type": "code",
   "execution_count": null,
   "metadata": {},
   "outputs": [],
   "source": [
    "ne_spectrum = np.array([np.average(ne_image[int(yval)-npixels_to_cut:int(yval)+npixels_to_cut, ii],\n",
    "                                weights=model_trace_profile)\n",
    "                     for yval, ii in zip(trace_center, xaxis)])"
   ]
  },
  {
   "cell_type": "code",
   "execution_count": null,
   "metadata": {},
   "outputs": [],
   "source": [
    "kr_spectrum = np.array([np.average(kr_image[int(yval)-npixels_to_cut:int(yval)+npixels_to_cut, ii],\n",
    "                                weights=model_trace_profile)\n",
    "                     for yval, ii in zip(trace_center, xaxis)])"
   ]
  },
  {
   "cell_type": "code",
   "execution_count": null,
   "metadata": {},
   "outputs": [],
   "source": [
    "_=pl.plot(xaxis, hg_spectrum, label='Mercury')\n",
    "_=pl.plot(xaxis, ne_spectrum, label='Neon')\n",
    "_=pl.plot(xaxis, kr_spectrum, label='Krypton')\n",
    "_=pl.legend(loc='best')"
   ]
  },
  {
   "cell_type": "markdown",
   "metadata": {},
   "source": [
    "We now have spectra of a mercury lamp, a neon lamp, and a krypton lamp.\n",
    "\n",
    "If we have no prior knowledge, we have to do some guess-and-check, but wikipedia's a decent resource to point us at the right line lists:\n",
    "\n",
    " * https://en.wikipedia.org/wiki/Mercury-vapor_lamp#Emission_line_spectrum\n",
    " * https://en.wikipedia.org/wiki/Gas-discharge_lamp#Color"
   ]
  },
  {
   "cell_type": "code",
   "execution_count": null,
   "metadata": {},
   "outputs": [],
   "source": [
    "from IPython.display import Image"
   ]
  },
  {
   "cell_type": "code",
   "execution_count": null,
   "metadata": {},
   "outputs": [],
   "source": [
    "Image(\"https://upload.wikimedia.org/wikipedia/commons/2/29/Mercury_Spectra.jpg\")"
   ]
  },
  {
   "cell_type": "code",
   "execution_count": null,
   "metadata": {},
   "outputs": [],
   "source": [
    "Image(\"https://upload.wikimedia.org/wikipedia/commons/9/99/Neon_spectra.jpg\")"
   ]
  },
  {
   "cell_type": "code",
   "execution_count": null,
   "metadata": {},
   "outputs": [],
   "source": [
    "Image(\"https://upload.wikimedia.org/wikipedia/commons/a/a6/Krypton_Spectrum.jpg\")"
   ]
  },
  {
   "cell_type": "code",
   "execution_count": null,
   "metadata": {},
   "outputs": [],
   "source": [
    "from astropy import units as u"
   ]
  },
  {
   "cell_type": "markdown",
   "metadata": {},
   "source": [
    "Start with mercury..."
   ]
  },
  {
   "cell_type": "code",
   "execution_count": null,
   "metadata": {},
   "outputs": [],
   "source": [
    "pl.plot(xaxis, hg_spectrum)"
   ]
  },
  {
   "cell_type": "code",
   "execution_count": null,
   "metadata": {},
   "outputs": [],
   "source": [
    "# Guessing these is hard and takes experience\n",
    "# I figured this out by noting that an A-star we observed, Deneb, had an absorption line around pixel ~750\n",
    "# That absorption line pretty much has to be H-alpha or H-beta\n",
    "guessed_wavelengths = [546.1, 435.8, 404.7]\n",
    "guessed_xvals = [165, 1230, 1550]"
   ]
  },
  {
   "cell_type": "markdown",
   "metadata": {},
   "source": [
    "We can do a lot better at determining the X-values by taking the intensity-weighted coordinate (moment 1):"
   ]
  },
  {
   "cell_type": "code",
   "execution_count": null,
   "metadata": {},
   "outputs": [],
   "source": [
    "npixels = 15\n",
    "improved_xval_guesses = [np.average(xaxis[g-npixels:g+npixels],\n",
    "                                    weights=hg_spectrum[g-npixels:g+npixels] - np.median(hg_spectrum))\n",
    "                         for g in guessed_xvals]\n",
    "improved_xval_guesses"
   ]
  },
  {
   "cell_type": "code",
   "execution_count": null,
   "metadata": {},
   "outputs": [],
   "source": [
    "pl.plot(xaxis, hg_spectrum)\n",
    "pl.plot(guessed_xvals, [100]*3, 'x')\n",
    "pl.plot(improved_xval_guesses, [100]*3, '+')"
   ]
  },
  {
   "cell_type": "markdown",
   "metadata": {},
   "source": [
    "We only have three data points, but that is enough to fit a linear model and still have a free point to check that we got it close to right:"
   ]
  },
  {
   "cell_type": "code",
   "execution_count": null,
   "metadata": {},
   "outputs": [],
   "source": [
    "from astropy.modeling.fitting import LinearLSQFitter\n",
    "linfitter = LinearLSQFitter()"
   ]
  },
  {
   "cell_type": "markdown",
   "metadata": {},
   "source": [
    "We use a `Linear1D` model because we will want to use its inverse later"
   ]
  },
  {
   "cell_type": "code",
   "execution_count": null,
   "metadata": {},
   "outputs": [],
   "source": [
    "from astropy.modeling.models import Linear1D\n",
    "wlmodel = Linear1D()\n",
    "linfit_wlmodel = linfitter(model=wlmodel, x=improved_xval_guesses, y=guessed_wavelengths)\n",
    "wavelengths = linfit_wlmodel(xaxis) * u.nm\n",
    "linfit_wlmodel"
   ]
  },
  {
   "cell_type": "code",
   "execution_count": null,
   "metadata": {},
   "outputs": [],
   "source": [
    "pl.plot(wavelengths, hg_spectrum)\n",
    "pl.plot(guessed_wavelengths, [100]*3, 'x')"
   ]
  },
  {
   "cell_type": "code",
   "execution_count": null,
   "metadata": {},
   "outputs": [],
   "source": [
    "pl.plot(improved_xval_guesses, guessed_wavelengths, 'o')\n",
    "pl.plot(xaxis, wavelengths, '-')"
   ]
  },
  {
   "cell_type": "markdown",
   "metadata": {},
   "source": [
    "Indeed, a linear model fit excellently!"
   ]
  },
  {
   "cell_type": "markdown",
   "metadata": {},
   "source": [
    "We can look up neon and krypton line lists to see how well we did and maybe try to improve our fit.\n",
    "\n",
    "NIST, the National Institute of Standards and Technology, maintains [atomic line lists](https://physics.nist.gov/PhysRefData/ASD/lines_form.html).  However, we have no direct way to know which transitions from these atoms to use!  There are a few heuristics we can apply, though."
   ]
  },
  {
   "cell_type": "code",
   "execution_count": null,
   "metadata": {},
   "outputs": [],
   "source": [
    "# astroquery provides an interface to the NIST atomic line database\n",
    "from astroquery.nist import Nist\n",
    "# we adopt the minimum/maximum wavelength from our linear fit\n",
    "minwave = wavelengths.min()\n",
    "maxwave = wavelengths.max()\n",
    "# then we search for atomic lines\n",
    "# We are only interested in neutral lines, assuming the lamps are not hot enough to ionize the atoms\n",
    "mercury_lines = Nist.query(minwav=minwave, maxwav=maxwave, linename='Hg I')\n",
    "krypton_lines = Nist.query(minwav=minwave, maxwav=maxwave, linename='Kr I')\n",
    "neon_lines = Nist.query(minwav=minwave, maxwav=maxwave, linename='Ne I')"
   ]
  },
  {
   "cell_type": "markdown",
   "metadata": {},
   "source": [
    "We can first look at what NIST reports for the mercury spectrum we already fit:\n",
    "\n",
    "(note that the wavelengths are *air* wavelengths, not vacuum)"
   ]
  },
  {
   "cell_type": "code",
   "execution_count": null,
   "metadata": {},
   "outputs": [],
   "source": [
    "pl.plot(wavelengths, hg_spectrum)\n",
    "pl.vlines(mercury_lines['Observed'], 0, 250, 'w', alpha=0.25)"
   ]
  },
  {
   "cell_type": "markdown",
   "metadata": {},
   "source": [
    "The database contains *many* more lines than we saw.\n",
    "\n",
    "The \"Rel. Int\" (Relative Intensity) provides \"a qualitative description of what the emission spectrum of a particular element in a particular (low-density) source looks like.\" \n",
    "\n",
    "We can select that column, if we clean it up a little (there are some \"blank\" entries)"
   ]
  },
  {
   "cell_type": "code",
   "execution_count": null,
   "metadata": {},
   "outputs": [],
   "source": [
    "hg_keep = (~mercury_lines['Rel.'].mask) & (mercury_lines['Rel.'] != \"*\")\n",
    "hg_wl_tbl = mercury_lines['Observed'][hg_keep]\n",
    "hg_rel_tbl = np.array([float(x) for x in mercury_lines['Rel.'][hg_keep]])"
   ]
  },
  {
   "cell_type": "code",
   "execution_count": null,
   "metadata": {},
   "outputs": [],
   "source": [
    "pl.plot(wavelengths, hg_spectrum)\n",
    "pl.plot(hg_wl_tbl, hg_rel_tbl / hg_rel_tbl.max() * hg_spectrum.max(), 'x')"
   ]
  },
  {
   "cell_type": "markdown",
   "metadata": {},
   "source": [
    "Not bad!  See that only the three \"brightest\" lines show up, plus maybe a bit of a third one around 408 nm.\n",
    "\n",
    "Let's try the same for the other lines (note that the hackery changes - this is because the NIST tables are not formatted to be machine-readable!)"
   ]
  },
  {
   "cell_type": "code",
   "execution_count": null,
   "metadata": {},
   "outputs": [],
   "source": [
    "ne_keep = np.array(['*' not in x for x in neon_lines['Rel.']])\n",
    "ne_wl_tbl = neon_lines['Observed'][ne_keep]\n",
    "ne_rel_tbl = np.array([float(x) for x in neon_lines['Rel.'][ne_keep]])"
   ]
  },
  {
   "cell_type": "code",
   "execution_count": null,
   "metadata": {},
   "outputs": [],
   "source": [
    "kr_keep = np.array([('*' not in x) and ('h' not in x) and ('-' not in x) for x in krypton_lines['Rel.']])\n",
    "kr_wl_tbl = krypton_lines['Observed'][kr_keep]\n",
    "kr_rel_tbl = np.array([float(x) for x in krypton_lines['Rel.'][kr_keep]])"
   ]
  },
  {
   "cell_type": "code",
   "execution_count": null,
   "metadata": {},
   "outputs": [],
   "source": [
    "pl.plot(wavelengths, ne_spectrum)\n",
    "pl.plot(ne_wl_tbl, ne_rel_tbl / ne_rel_tbl.max() * ne_spectrum.max(), 'x')"
   ]
  },
  {
   "cell_type": "code",
   "execution_count": null,
   "metadata": {},
   "outputs": [],
   "source": [
    "pl.plot(wavelengths, kr_spectrum)\n",
    "pl.plot(kr_wl_tbl, kr_rel_tbl / kr_rel_tbl.max() * kr_spectrum.max(), 'x')"
   ]
  },
  {
   "cell_type": "markdown",
   "metadata": {},
   "source": [
    "The Krypton spectrum will be much easier to deal with: we just select those lines with intensities > 70 on the scale above:"
   ]
  },
  {
   "cell_type": "code",
   "execution_count": null,
   "metadata": {},
   "outputs": [],
   "source": [
    "kr_rel_intens =  kr_rel_tbl / kr_rel_tbl.max() * kr_spectrum.max()\n",
    "kr_keep_final = kr_rel_intens > 70\n",
    "kr_wl_final = kr_wl_tbl[kr_keep_final]"
   ]
  },
  {
   "cell_type": "markdown",
   "metadata": {},
   "source": [
    "We then take these krypton wavelengths and convert them back to pixel space:"
   ]
  },
  {
   "cell_type": "code",
   "execution_count": null,
   "metadata": {},
   "outputs": [],
   "source": [
    "kr_pixel_vals = linfit_wlmodel.inverse(kr_wl_final)"
   ]
  },
  {
   "cell_type": "code",
   "execution_count": null,
   "metadata": {},
   "outputs": [],
   "source": [
    "pl.plot(xaxis, kr_spectrum)\n",
    "pl.plot(kr_pixel_vals, kr_rel_intens[kr_keep_final], 'x')"
   ]
  },
  {
   "cell_type": "markdown",
   "metadata": {},
   "source": [
    "As with mercury above, we select a sub-region and measure the intensity-weighted peak...\n",
    "\n",
    "But here we have to be careful!  These peaks are very close!  Can we still use a +/-15 pixel range?"
   ]
  },
  {
   "cell_type": "code",
   "execution_count": null,
   "metadata": {},
   "outputs": [],
   "source": [
    "pl.plot(xaxis, kr_spectrum)\n",
    "pl.plot(kr_pixel_vals, kr_rel_intens[kr_keep_final], 'x')\n",
    "for xx, yy in zip(kr_pixel_vals, kr_rel_intens[kr_keep_final]):\n",
    "    pl.plot([xx-15,xx+15], [yy,yy], )\n",
    "pl.xlim(1200,1350)"
   ]
  },
  {
   "cell_type": "markdown",
   "metadata": {},
   "source": [
    "Yes, 15 pixels looks OK still."
   ]
  },
  {
   "cell_type": "code",
   "execution_count": null,
   "metadata": {},
   "outputs": [],
   "source": [
    "# note that we have to force the pixel-center guesses to be integers for slicing:\n",
    "npixels = 15\n",
    "improved_xval_guesses_kr = [np.average(xaxis[g-npixels:g+npixels],\n",
    "                                    weights=kr_spectrum[g-npixels:g+npixels] - np.median(kr_spectrum))\n",
    "                         for g in map(int, kr_pixel_vals)]\n",
    "improved_xval_guesses_kr"
   ]
  },
  {
   "cell_type": "markdown",
   "metadata": {},
   "source": [
    "Now we can plot these best-fit pixel numbers against the \"true\" wavelengths and overplot our previous best-fit model from mercury:"
   ]
  },
  {
   "cell_type": "code",
   "execution_count": null,
   "metadata": {},
   "outputs": [],
   "source": [
    "pl.plot(improved_xval_guesses_kr, kr_wl_final, 'x', label='Krypton')\n",
    "pl.plot(improved_xval_guesses, guessed_wavelengths, '+', label='Mercury')\n",
    "pl.plot(xaxis, wavelengths, zorder=-5)\n",
    "pl.legend(loc='best')"
   ]
  },
  {
   "cell_type": "markdown",
   "metadata": {},
   "source": [
    "We can now jointly fit the Kr + Hg spectra with a new model:"
   ]
  },
  {
   "cell_type": "code",
   "execution_count": null,
   "metadata": {},
   "outputs": [],
   "source": [
    "xvals_hg_plus_kr = list(improved_xval_guesses) + list(improved_xval_guesses_kr)\n",
    "waves_hg_plus_kr = list(guessed_wavelengths) + list(kr_wl_final)\n",
    "linfit_wlmodel_hgkr = linfitter(model=wlmodel, x=xvals_hg_plus_kr, y=waves_hg_plus_kr)\n",
    "linfit_wlmodel_hgkr"
   ]
  },
  {
   "cell_type": "code",
   "execution_count": null,
   "metadata": {},
   "outputs": [],
   "source": [
    "pl.plot(improved_xval_guesses_kr, kr_wl_final, 'x', label='Krypton')\n",
    "pl.plot(improved_xval_guesses, guessed_wavelengths, '+', label='Mercury')\n",
    "pl.plot(xaxis, wavelengths, zorder=-5)\n",
    "pl.plot(xaxis, linfit_wlmodel_hgkr(xaxis), zorder=-5)\n",
    "pl.legend(loc='best')"
   ]
  },
  {
   "cell_type": "markdown",
   "metadata": {},
   "source": [
    "These are nearly indistiguishable, but let's look at the residuals for each:"
   ]
  },
  {
   "cell_type": "code",
   "execution_count": null,
   "metadata": {},
   "outputs": [],
   "source": [
    "residuals_hgonly = np.array(waves_hg_plus_kr) - linfit_wlmodel(xvals_hg_plus_kr)\n",
    "residuals_hgkr = np.array(waves_hg_plus_kr) - linfit_wlmodel_hgkr(xvals_hg_plus_kr)\n",
    "pl.hist(residuals_hgonly, label='Hg-only fit', histtype='stepfilled')\n",
    "pl.hist(residuals_hgkr, label='Hg-only fit', histtype='step')"
   ]
  },
  {
   "cell_type": "markdown",
   "metadata": {},
   "source": [
    "The differences are pretty marginal; the Hg-only fit was really good.\n",
    "\n",
    "Is there any shape to the residuals?"
   ]
  },
  {
   "cell_type": "code",
   "execution_count": null,
   "metadata": {},
   "outputs": [],
   "source": [
    "pl.plot(xvals_hg_plus_kr, residuals_hgonly, 'x')"
   ]
  },
  {
   "cell_type": "code",
   "execution_count": null,
   "metadata": {},
   "outputs": [],
   "source": [
    "pl.plot(xvals_hg_plus_kr, residuals_hgkr, 'x')"
   ]
  },
  {
   "cell_type": "markdown",
   "metadata": {},
   "source": [
    "In brief, no, there's no sign of structure."
   ]
  },
  {
   "cell_type": "markdown",
   "metadata": {},
   "source": [
    "We can also estimate a chi-squared-like statistic (though note that this is *not* the $\\chi^2$ value we would use to assess goodness of fit because we have *not* estimated the uncertainty on each wavelength point!)"
   ]
  },
  {
   "cell_type": "code",
   "execution_count": null,
   "metadata": {},
   "outputs": [],
   "source": [
    "resid2_hgonly = (residuals_hgonly**2).sum()\n",
    "resid2_hgkr = (residuals_hgkr**2).sum()\n",
    "resid2_hgonly, resid2_hgkr"
   ]
  },
  {
   "cell_type": "markdown",
   "metadata": {},
   "source": [
    "These differences are also very small, again suggesting the Hg-only fit was really good."
   ]
  },
  {
   "cell_type": "markdown",
   "metadata": {},
   "source": [
    "Why do we bother going through all these checks if the Hg-only fit was just fine?  \n",
    "\n",
    "Besides simply not knowing, it is common for spectrographs to have slightly non-linear dispersion when measured over a wide wavelength range, so we want to be sure we haven't missed any such curvature.\n",
    "\n",
    "We also want to measure the uncertainty on our wavelength calibration."
   ]
  },
  {
   "cell_type": "markdown",
   "metadata": {},
   "source": [
    "Now let's go back and measure the Neon spectrum"
   ]
  },
  {
   "cell_type": "code",
   "execution_count": null,
   "metadata": {},
   "outputs": [],
   "source": [
    "ne_rel_intens = ne_rel_tbl / ne_rel_tbl.max() * ne_spectrum.max()\n",
    "pl.plot(wavelengths, ne_spectrum)\n",
    "pl.plot(ne_wl_tbl, ne_rel_intens, 'x')"
   ]
  },
  {
   "cell_type": "markdown",
   "metadata": {},
   "source": [
    "We can try keeping only those with intensiy >100, though we will miss some lines"
   ]
  },
  {
   "cell_type": "code",
   "execution_count": null,
   "metadata": {},
   "outputs": [],
   "source": [
    "ne_keep_final = ne_rel_intens > 100\n",
    "pl.plot(wavelengths, ne_spectrum)\n",
    "pl.plot(ne_wl_tbl[ne_keep_final], ne_rel_intens[ne_keep_final], 'x')"
   ]
  },
  {
   "cell_type": "code",
   "execution_count": null,
   "metadata": {},
   "outputs": [],
   "source": [
    "ne_wl_final = ne_wl_tbl[ne_keep_final]\n",
    "ne_pixel_vals = linfit_wlmodel.inverse(ne_wl_final)"
   ]
  },
  {
   "cell_type": "code",
   "execution_count": null,
   "metadata": {},
   "outputs": [],
   "source": [
    "pl.plot(xaxis, ne_spectrum)\n",
    "pl.plot(ne_pixel_vals, ne_rel_intens[ne_keep_final], 'x')\n",
    "for xx, yy in zip(ne_pixel_vals, ne_rel_intens[ne_keep_final]):\n",
    "    pl.plot([xx-15,xx+15], [yy,yy], )\n",
    "pl.xlim(600,850)"
   ]
  },
  {
   "cell_type": "markdown",
   "metadata": {},
   "source": [
    "For Neon, our automated approach isn't very good (the third point from the left is not on a peak), and we'll want to use a narrower pixel range."
   ]
  },
  {
   "cell_type": "code",
   "execution_count": null,
   "metadata": {},
   "outputs": [],
   "source": [
    "# note that we have to force the pixel-center guesses to be integers for slicing:\n",
    "npixels = 10\n",
    "improved_xval_guesses_ne = [np.average(xaxis[g-npixels:g+npixels],\n",
    "                                    weights=ne_spectrum[g-npixels:g+npixels] - np.median(ne_spectrum))\n",
    "                         for g in map(int, ne_pixel_vals)]\n",
    "improved_xval_guesses_ne"
   ]
  },
  {
   "cell_type": "code",
   "execution_count": null,
   "metadata": {},
   "outputs": [],
   "source": [
    "pl.plot(improved_xval_guesses_kr, kr_wl_final, 'x', label='Krypton')\n",
    "pl.plot(improved_xval_guesses_ne, ne_wl_final, '^', label='Neon')\n",
    "pl.plot(improved_xval_guesses, guessed_wavelengths, '+', label='Mercury')\n",
    "pl.plot(xaxis, wavelengths, zorder=-5)\n",
    "pl.plot(xaxis, linfit_wlmodel_hgkr(xaxis), zorder=-5)\n",
    "pl.legend(loc='best')"
   ]
  },
  {
   "cell_type": "code",
   "execution_count": null,
   "metadata": {},
   "outputs": [],
   "source": [
    "xvals_hg_plus_kr_plus_ne = list(improved_xval_guesses) + list(improved_xval_guesses_kr) + list(improved_xval_guesses_ne)\n",
    "waves_hg_plus_kr_plus_ne = list(guessed_wavelengths) + list(kr_wl_final) + list(ne_wl_final)\n",
    "linfit_wlmodel_hgkrne = linfitter(model=wlmodel, x=xvals_hg_plus_kr_plus_ne, y=waves_hg_plus_kr_plus_ne)\n",
    "linfit_wlmodel_hgkrne"
   ]
  },
  {
   "cell_type": "code",
   "execution_count": null,
   "metadata": {},
   "outputs": [],
   "source": [
    "residuals_hgonly = np.array(waves_hg_plus_kr_plus_ne) - linfit_wlmodel(xvals_hg_plus_kr_plus_ne)\n",
    "residuals_hgkr = np.array(waves_hg_plus_kr_plus_ne) - linfit_wlmodel_hgkr(xvals_hg_plus_kr_plus_ne)\n",
    "residuals_hgkrne = np.array(waves_hg_plus_kr_plus_ne) - linfit_wlmodel_hgkrne(xvals_hg_plus_kr_plus_ne)"
   ]
  },
  {
   "cell_type": "code",
   "execution_count": null,
   "metadata": {},
   "outputs": [],
   "source": [
    "resid2_hgonly = (residuals_hgonly**2).sum()\n",
    "resid2_hgkr = (residuals_hgkr**2).sum()\n",
    "resid2_hgkrne = (residuals_hgkrne**2).sum()\n",
    "resid2_hgonly, resid2_hgkr, resid2_hgkrne"
   ]
  },
  {
   "cell_type": "code",
   "execution_count": null,
   "metadata": {},
   "outputs": [],
   "source": [
    "pl.plot(xvals_hg_plus_kr_plus_ne, residuals_hgkrne, 'x')"
   ]
  },
  {
   "cell_type": "markdown",
   "metadata": {},
   "source": [
    "Finally, with neon included, there is a hint of some structure"
   ]
  },
  {
   "cell_type": "code",
   "execution_count": null,
   "metadata": {},
   "outputs": [],
   "source": [
    "_=pl.hist(residuals_hgkrne)\n",
    "_=pl.title(f\"Stddev = {residuals_hgkrne.std()}\")"
   ]
  },
  {
   "cell_type": "markdown",
   "metadata": {},
   "source": [
    "This histogram is perhaps a little skewed."
   ]
  },
  {
   "cell_type": "markdown",
   "metadata": {},
   "source": [
    "There may be some curvature to this spectrum, but the evidence is not terribly compelling, particularly given the uncertain nature of the Neon line fits."
   ]
  },
  {
   "cell_type": "markdown",
   "metadata": {},
   "source": [
    "## What is our uncertainty?\n",
    "\n",
    "To evaluate our uncertainty, let's first look at the uncertainty in the pixel value inferred from looking at a single line in the mercury spectrum."
   ]
  },
  {
   "cell_type": "code",
   "execution_count": null,
   "metadata": {},
   "outputs": [],
   "source": [
    "pl.plot(xaxis, hg_spectrum)\n",
    "pl.xlim(100,200)"
   ]
  },
  {
   "cell_type": "markdown",
   "metadata": {},
   "source": [
    "We can get a *coarse* empirical estimate of the per-pixel uncertainty by taking the standard deviation of a \"blank\" part of the spectrum:"
   ]
  },
  {
   "cell_type": "code",
   "execution_count": null,
   "metadata": {},
   "outputs": [],
   "source": [
    "pl.plot(xaxis[200:300], hg_spectrum[200:300])\n",
    "noise_estimate = hg_spectrum[200:300].std()\n",
    "_=pl.title(f\"stddev = {noise_estimate:0.2f}\")"
   ]
  },
  {
   "cell_type": "markdown",
   "metadata": {},
   "source": [
    "The moment-1 estimate of the peak location is, for a spectrum $f(x)$ and pixel location $x$ \n",
    "$$ m_1 = \\frac{\\Sigma x f(x)}{\\Sigma f(x)} $$\n",
    "\n",
    "which, through propagation of error, gives us variance of moment 1:\n",
    "\n",
    "$$\\sigma_{m_1}^2 =  \\left(\\frac{\\Sigma \\left[ (x-m_1)^2   \\sigma_{f(x)}^2 \\right]}{\\left(\\Sigma f(x)\\right)^2}  +\n",
    "   \\frac{\\sigma_{\\Sigma f(x)}^2 \\Sigma \\left[ (x-m_1)^2 f(x)^2 \\right]}{\\left(\\Sigma f(x)\\right)^4} \\right)$$\n",
    "   \n",
    "   where \n",
    "$   \\sigma_{\\Sigma f(x)}^2 = \\Sigma \\sigma_{f(x)}^2 = N \\sigma_{f(x)}^2 $"
   ]
  },
  {
   "cell_type": "code",
   "execution_count": null,
   "metadata": {},
   "outputs": [],
   "source": [
    "cutout = hg_spectrum[100:200] - np.median(hg_spectrum)\n",
    "xcutout = xaxis[100:200]\n",
    "m1 = (xcutout * cutout).sum() / cutout.sum()\n",
    "m1"
   ]
  },
  {
   "cell_type": "code",
   "execution_count": null,
   "metadata": {},
   "outputs": [],
   "source": [
    "sigma_m1_left = ((xcutout-m1)**2 * noise_estimate**2).sum() / cutout.sum()**2\n",
    "sigma_m1_right = (xcutout.size * noise_estimate**2) * ((xcutout-m1)**2*cutout**2).sum() / cutout.sum()**4\n",
    "sigma_m1 = sigma_m1_left + sigma_m1_right\n",
    "sigma_m1"
   ]
  },
  {
   "cell_type": "code",
   "execution_count": null,
   "metadata": {},
   "outputs": [],
   "source": [
    "print(f\"Moment analysis yields m1 = {m1:0.3f} +/- {sigma_m1:0.3f})\")"
   ]
  },
  {
   "cell_type": "markdown",
   "metadata": {},
   "source": [
    "The uncertainty is about 1/1000th of a pixel for a bright line.  It may be somewhat larger for fainter lines, but it is still much smaller than our observed scatter.  We can prove this by looking at a faint neon line:"
   ]
  },
  {
   "cell_type": "code",
   "execution_count": null,
   "metadata": {},
   "outputs": [],
   "source": [
    "cutoutne = ne_spectrum[640:660] - np.median(ne_spectrum)\n",
    "xcutoutne = xaxis[640:660]\n",
    "m1ne = (xcutoutne * cutoutne).sum() / cutoutne.sum()"
   ]
  },
  {
   "cell_type": "code",
   "execution_count": null,
   "metadata": {},
   "outputs": [],
   "source": [
    "ne_noise_estimate = ne_spectrum[1400:1600].std()\n",
    "ne_noise_estimate"
   ]
  },
  {
   "cell_type": "code",
   "execution_count": null,
   "metadata": {},
   "outputs": [],
   "source": [
    "pl.plot(xcutoutne, cutoutne)\n",
    "pl.plot(m1ne, cutoutne.max(), 'x')"
   ]
  },
  {
   "cell_type": "code",
   "execution_count": null,
   "metadata": {},
   "outputs": [],
   "source": [
    "sigma_m1_left = ((xcutoutne-m1ne)**2 * ne_noise_estimate**2).sum() / cutoutne.sum()**2\n",
    "sigma_m1_right = (xcutoutne.size * ne_noise_estimate**2) * ((xcutoutne-m1ne)**2*cutoutne**2).sum() / cutoutne.sum()**4\n",
    "sigma_m1_ne = sigma_m1_left + sigma_m1_right\n",
    "sigma_m1_ne"
   ]
  },
  {
   "cell_type": "markdown",
   "metadata": {},
   "source": [
    "This error is ~40 times larger, but still much less than a pixel's width."
   ]
  },
  {
   "cell_type": "markdown",
   "metadata": {},
   "source": [
    "Our best fit gives that each pixel is about 0.1 nm, so our uncertainty is 0.0001 nm - 0.004 nm.  The scatter in the residuals is 0.23 nm, so it is not explained by our formal fit's statistical uncertainty. "
   ]
  },
  {
   "cell_type": "markdown",
   "metadata": {},
   "source": [
    "## What does the residual represent?\n",
    "\n",
    "The residual to our fit gives us a sense of the *systematic* uncertainty from a combination of line blending and imperfect fits.  We know, from the NIST line lists, that there are in some cases multiple lines that we could not easily distinguish in the spectrum: these add a small bias to our inferred pixel locations.\n",
    "\n",
    "There may also be subtle effects from the spectrograph itself that cause small systematic variations in the wavelength solution."
   ]
  },
  {
   "cell_type": "markdown",
   "metadata": {},
   "source": [
    "## How could we do better?\n",
    "\n",
    "We could attempt to *deblend* the individual spectral features by jointly fitting multiple-Gaussian models.\n",
    "\n",
    "While this procedure is commonly used, it is fraught with error and extremely difficult to automate in general."
   ]
  },
  {
   "cell_type": "code",
   "execution_count": null,
   "metadata": {},
   "outputs": [],
   "source": []
  }
 ],
 "metadata": {
  "kernelspec": {
   "display_name": "Python 3",
   "language": "python",
   "name": "python3"
  },
  "language_info": {
   "codemirror_mode": {
    "name": "ipython",
    "version": 3
   },
   "file_extension": ".py",
   "mimetype": "text/x-python",
   "name": "python",
   "nbconvert_exporter": "python",
   "pygments_lexer": "ipython3",
   "version": "3.7.6"
  }
 },
 "nbformat": 4,
 "nbformat_minor": 4
}
