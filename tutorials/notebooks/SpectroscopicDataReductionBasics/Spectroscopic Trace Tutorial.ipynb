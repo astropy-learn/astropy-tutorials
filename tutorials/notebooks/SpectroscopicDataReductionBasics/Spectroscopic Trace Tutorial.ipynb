{
 "cells": [
  {
   "cell_type": "markdown",
   "metadata": {},
   "source": [
    "# Spectroscopic Trace tutorial\n",
    "\n",
    "This tutorial will walk through the derivation of a spectroscopic trace model and extraction using astropy tools.\n",
    "\n",
    "A spectroscopic trace is the path of a point source (star) spectrum through a two-dimensional dispersed spectrum.  The trace is needed because, in general, spectra are not perfectly aligned with the axes of a detector."
   ]
  },
  {
   "cell_type": "markdown",
   "metadata": {},
   "source": [
    "# Step 1: Examine the spectrum\n",
    "\n",
    "We'll work with a 2D spectrum that contains *no* attached metadata, so we have to infer many of the features ourselves.\n",
    "\n",
    "All we know is that this is a spectrum of a star, Aldebaran."
   ]
  },
  {
   "cell_type": "markdown",
   "metadata": {},
   "source": [
    "Our data are, strangely, in the form of a .bmp (bitmap) file."
   ]
  },
  {
   "cell_type": "code",
   "execution_count": null,
   "metadata": {},
   "outputs": [],
   "source": [
    "from PIL import Image\n",
    "import numpy as np"
   ]
  },
  {
   "cell_type": "code",
   "execution_count": null,
   "metadata": {},
   "outputs": [],
   "source": [
    "spectrum_filename = \"aldebaran_3s_1.bmp\""
   ]
  },
  {
   "cell_type": "code",
   "execution_count": null,
   "metadata": {},
   "outputs": [],
   "source": [
    "image_data = Image.open(spectrum_filename)"
   ]
  },
  {
   "cell_type": "code",
   "execution_count": null,
   "metadata": {},
   "outputs": [],
   "source": [
    "# because this is an image, simply entering on the command line will show it\n",
    "image_data"
   ]
  },
  {
   "cell_type": "code",
   "execution_count": null,
   "metadata": {},
   "outputs": [],
   "source": [
    "# but we'd like to see it with axes labeled\n",
    "import pylab as pl\n",
    "pl.rcParams['image.origin'] = 'lower'\n",
    "pl.matplotlib.style.use('dark_background')\n",
    "pl.imshow(image_data, cmap='gray')\n",
    "pl.colorbar()"
   ]
  },
  {
   "cell_type": "markdown",
   "metadata": {},
   "source": [
    "The main goal of the trace is to obtain a two-dimensional model defining the position of the light along the detector.\n",
    "\n",
    "We're going to start by assuming that wavelength dispersion is in the X-direction and the Y-direction is entirely spatial.  This is an approximation, but evidently (by looking at the image), it's a decent one."
   ]
  },
  {
   "cell_type": "markdown",
   "metadata": {},
   "source": [
    "# Step 2a. Try to find the spine to trace using argmax"
   ]
  },
  {
   "cell_type": "markdown",
   "metadata": {},
   "source": [
    "To obtain the trace, we first measure the Y-value at each X-value.  we'll start with the trivial approach of using `argmax`:"
   ]
  },
  {
   "cell_type": "code",
   "execution_count": null,
   "metadata": {},
   "outputs": [],
   "source": [
    "yvals = np.argmax(image_data, axis=0)\n",
    "xvals = np.arange(image_data.width)"
   ]
  },
  {
   "cell_type": "code",
   "execution_count": null,
   "metadata": {},
   "outputs": [],
   "source": [
    "pl.plot(xvals, yvals, 'x')"
   ]
  },
  {
   "cell_type": "markdown",
   "metadata": {},
   "source": [
    "There's a pretty clear line going through, but also a lot of junk.\n",
    "\n",
    "We can get rid of most of the junk just by filtering it out:"
   ]
  },
  {
   "cell_type": "code",
   "execution_count": null,
   "metadata": {},
   "outputs": [],
   "source": [
    "bad_pixels = (yvals < 400) | (yvals > 500)"
   ]
  },
  {
   "cell_type": "code",
   "execution_count": null,
   "metadata": {},
   "outputs": [],
   "source": [
    "pl.plot(xvals, yvals, 'x')\n",
    "pl.plot(xvals[bad_pixels], yvals[bad_pixels], 'rx')"
   ]
  },
  {
   "cell_type": "code",
   "execution_count": null,
   "metadata": {},
   "outputs": [],
   "source": [
    "pl.plot(xvals[~bad_pixels], yvals[~bad_pixels], 'x')"
   ]
  },
  {
   "cell_type": "code",
   "execution_count": null,
   "metadata": {},
   "outputs": [],
   "source": [
    "bad_pixels = (yvals < 425) | (yvals > 460)"
   ]
  },
  {
   "cell_type": "code",
   "execution_count": null,
   "metadata": {},
   "outputs": [],
   "source": [
    "pl.plot(xvals[~bad_pixels], yvals[~bad_pixels], 'x')"
   ]
  },
  {
   "cell_type": "markdown",
   "metadata": {},
   "source": [
    "The stuff at x>1100 looks bad, but there's still signal out there."
   ]
  },
  {
   "cell_type": "code",
   "execution_count": null,
   "metadata": {},
   "outputs": [],
   "source": [
    "image_array = np.array(image_data)\n",
    "image_array = image_array - np.median(image_array)\n",
    "pl.imshow(image_array[425:475,:])\n",
    "pl.gca().set_aspect(10)"
   ]
  },
  {
   "cell_type": "markdown",
   "metadata": {},
   "source": [
    "# Step 2b: Use moment analysis to extract a spine to trace"
   ]
  },
  {
   "cell_type": "markdown",
   "metadata": {},
   "source": [
    "We can use moments to get measurements of all the data.\n",
    "\n",
    "Note that we need to subtract off the background to avoid a bias toward the center, so we use the median of the image as our background estimate."
   ]
  },
  {
   "cell_type": "code",
   "execution_count": null,
   "metadata": {},
   "outputs": [],
   "source": [
    "yaxis = np.repeat(np.arange(425, 475)[:,None], image_array.shape[1], axis=1)\n",
    "weighted_yaxis_values = np.average(yaxis, axis=0, weights=image_array[425:475,:] - np.median(image_array))"
   ]
  },
  {
   "cell_type": "code",
   "execution_count": null,
   "metadata": {},
   "outputs": [],
   "source": [
    "pl.plot(xvals, weighted_yaxis_values, 'x')"
   ]
  },
  {
   "cell_type": "markdown",
   "metadata": {},
   "source": [
    "Overplot the \"weighted\", centroid locations on the data to verify they look reasonable."
   ]
  },
  {
   "cell_type": "code",
   "execution_count": null,
   "metadata": {},
   "outputs": [],
   "source": [
    "pl.imshow(image_array[425:475,:], extent=[0,image_array.shape[1],425,475])\n",
    "pl.gca().set_aspect(10)\n",
    "pl.plot(xvals, weighted_yaxis_values, 'wx', alpha=0.5)\n",
    "pl.axis((0,1600,425,475))"
   ]
  },
  {
   "cell_type": "markdown",
   "metadata": {},
   "source": [
    "We can also compare the argmax and weighted approaches.  They agree well at x<1200, but there are simply more points from the weighted approach at x>1200."
   ]
  },
  {
   "cell_type": "code",
   "execution_count": null,
   "metadata": {},
   "outputs": [],
   "source": [
    "pl.plot(xvals, weighted_yaxis_values, 'x', label=\"Weighted\", alpha=0.5)\n",
    "pl.plot(xvals[~bad_pixels], yvals[~bad_pixels], '+', label=\"Argmax\", alpha=0.5)\n",
    "pl.legend(loc='best')"
   ]
  },
  {
   "cell_type": "markdown",
   "metadata": {},
   "source": [
    "That's a decent set of data, we'll use the moments instead of the argmax.  There's still some data to flag out, though:"
   ]
  },
  {
   "cell_type": "code",
   "execution_count": null,
   "metadata": {},
   "outputs": [],
   "source": [
    "bad_moments = (weighted_yaxis_values > 460) | (weighted_yaxis_values < 430)"
   ]
  },
  {
   "cell_type": "code",
   "execution_count": null,
   "metadata": {},
   "outputs": [],
   "source": [
    "pl.plot(xvals[~bad_moments], weighted_yaxis_values[~bad_moments], 'x', label=\"Weighted\", alpha=0.5)\n",
    "pl.plot(xvals[~bad_pixels], yvals[~bad_pixels], '+', label=\"Argmax\", alpha=0.5)\n",
    "pl.legend(loc='best')"
   ]
  },
  {
   "cell_type": "markdown",
   "metadata": {},
   "source": [
    "# Step 3. Fit the trace profile"
   ]
  },
  {
   "cell_type": "code",
   "execution_count": null,
   "metadata": {},
   "outputs": [],
   "source": [
    "from astropy.modeling.polynomial import Polynomial1D\n",
    "from astropy.modeling.fitting import LinearLSQFitter"
   ]
  },
  {
   "cell_type": "code",
   "execution_count": null,
   "metadata": {},
   "outputs": [],
   "source": [
    "polymodel = Polynomial1D(degree=3)\n",
    "linfitter = LinearLSQFitter()\n",
    "fitted_polymodel = linfitter(polymodel, xvals[~bad_moments], weighted_yaxis_values[~bad_moments])"
   ]
  },
  {
   "cell_type": "code",
   "execution_count": null,
   "metadata": {},
   "outputs": [],
   "source": [
    "fitted_polymodel"
   ]
  },
  {
   "cell_type": "code",
   "execution_count": null,
   "metadata": {},
   "outputs": [],
   "source": [
    "pl.plot(xvals[~bad_moments], weighted_yaxis_values[~bad_moments], 'x')\n",
    "pl.plot(xvals, fitted_polymodel(xvals))"
   ]
  },
  {
   "cell_type": "markdown",
   "metadata": {},
   "source": [
    "Arguably, we should toss out the data at >1400 pixels since there's no clear signal there."
   ]
  },
  {
   "cell_type": "markdown",
   "metadata": {},
   "source": [
    "Again, we should verify the trace by overplotting on the original data:"
   ]
  },
  {
   "cell_type": "code",
   "execution_count": null,
   "metadata": {},
   "outputs": [],
   "source": [
    "pl.imshow(image_array[425:475,:], extent=[0,image_array.shape[1],425,475])\n",
    "pl.gca().set_aspect(10)\n",
    "pl.plot(xvals, fitted_polymodel(xvals), 'w')\n",
    "pl.axis((0,1600,425,475))"
   ]
  },
  {
   "cell_type": "markdown",
   "metadata": {},
   "source": [
    "Seeing this prompts me to say we should re-fit without including the x>1300 data at all, and we should stick to a second-order fit:"
   ]
  },
  {
   "cell_type": "code",
   "execution_count": null,
   "metadata": {},
   "outputs": [],
   "source": [
    "polymodel = Polynomial1D(degree=2)\n",
    "fitted_polymodel = linfitter(polymodel, xvals[(~bad_moments) & (xvals < 1300)],\n",
    "                             weighted_yaxis_values[(~bad_moments) & (xvals < 1300)])\n",
    "fitted_polymodel"
   ]
  },
  {
   "cell_type": "code",
   "execution_count": null,
   "metadata": {},
   "outputs": [],
   "source": [
    "pl.imshow(image_array[425:475,:], extent=[0,image_array.shape[1],425,475])\n",
    "pl.gca().set_aspect(10)\n",
    "pl.plot(xvals, fitted_polymodel(xvals), 'w')\n",
    "pl.axis((0,1600,425,475))"
   ]
  },
  {
   "cell_type": "code",
   "execution_count": null,
   "metadata": {},
   "outputs": [],
   "source": [
    "pl.plot(xvals[~bad_moments], weighted_yaxis_values[~bad_moments], 'x')\n",
    "pl.plot(xvals, fitted_polymodel(xvals))"
   ]
  },
  {
   "cell_type": "markdown",
   "metadata": {},
   "source": [
    "# Step 4. Obtain a trace profile"
   ]
  },
  {
   "cell_type": "markdown",
   "metadata": {},
   "source": [
    "Now we can extract the data along that trace.\n",
    "\n",
    "We want to take a \"profile\" of the trace to see how many pixels on either side of the line we should include."
   ]
  },
  {
   "cell_type": "code",
   "execution_count": null,
   "metadata": {},
   "outputs": [],
   "source": [
    "# start by taking +/- 15 pixels\n",
    "npixels_to_cut = 15\n",
    "trace_center = fitted_polymodel(xvals)\n",
    "cutouts = np.array([image_array[int(yval)-npixels_to_cut:int(yval)+npixels_to_cut, ii]\n",
    "                    for yval, ii in zip(trace_center, xvals)])\n",
    "cutouts.shape"
   ]
  },
  {
   "cell_type": "code",
   "execution_count": null,
   "metadata": {},
   "outputs": [],
   "source": [
    "mean_trace_profile = cutouts.mean(axis=0)\n",
    "trace_profile_xaxis = np.arange(-npixels_to_cut, npixels_to_cut)\n",
    "pl.plot(trace_profile_xaxis, mean_trace_profile)"
   ]
  },
  {
   "cell_type": "code",
   "execution_count": null,
   "metadata": {},
   "outputs": [],
   "source": [
    "from astropy.modeling.models import Gaussian1D\n",
    "from astropy.modeling.fitting import LevMarLSQFitter\n",
    "lmfitter = LevMarLSQFitter()\n",
    "guess = Gaussian1D(amplitude=mean_trace_profile.max(), mean=0, stddev=5)\n",
    "fitted_trace_profile = lmfitter(model=guess, x=trace_profile_xaxis, y=mean_trace_profile)\n",
    "model_trace_profile = fitted_trace_profile(trace_profile_xaxis)\n",
    "fitted_trace_profile"
   ]
  },
  {
   "cell_type": "code",
   "execution_count": null,
   "metadata": {},
   "outputs": [],
   "source": [
    "pl.plot(trace_profile_xaxis, mean_trace_profile)\n",
    "pl.plot(trace_profile_xaxis, model_trace_profile)"
   ]
  },
  {
   "cell_type": "markdown",
   "metadata": {},
   "source": [
    "# Step 5. Extract the traced spectrum"
   ]
  },
  {
   "cell_type": "markdown",
   "metadata": {},
   "source": [
    "Then we can obtain our spectrum by taking the trace-weighted average:    "
   ]
  },
  {
   "cell_type": "code",
   "execution_count": null,
   "metadata": {},
   "outputs": [],
   "source": [
    "spectrum = np.array([np.average(image_array[int(yval)-npixels_to_cut:int(yval)+npixels_to_cut, ii],\n",
    "                                weights=mean_trace_profile)\n",
    "                     for yval, ii in zip(trace_center, xvals)])\n",
    "spectrum.shape"
   ]
  },
  {
   "cell_type": "code",
   "execution_count": null,
   "metadata": {
    "scrolled": true
   },
   "outputs": [],
   "source": [
    "pl.plot(spectrum)"
   ]
  },
  {
   "cell_type": "markdown",
   "metadata": {},
   "source": [
    "# Step 6: Repeat for another star"
   ]
  },
  {
   "cell_type": "code",
   "execution_count": null,
   "metadata": {},
   "outputs": [],
   "source": [
    "image_array_2 = np.array(Image.open('deneb_3s_13.63g_1.bmp'))\n",
    "pl.imshow(image_array_2)\n",
    "pl.colorbar()"
   ]
  },
  {
   "cell_type": "code",
   "execution_count": null,
   "metadata": {
    "scrolled": true
   },
   "outputs": [],
   "source": [
    "pl.imshow(image_array_2[470:520,:], extent=[0,1600,470,520])\n",
    "pl.gca().set_aspect(10)"
   ]
  },
  {
   "cell_type": "code",
   "execution_count": null,
   "metadata": {},
   "outputs": [],
   "source": [
    "yaxis2 = np.repeat(np.arange(470, 520)[:,None], image_array_2.shape[1], axis=1)\n",
    "weighted_yaxis_values2 = np.average(yaxis2, axis=0, weights=image_array_2[470:520,:] - np.median(image_array_2))\n",
    "polymodel2 = Polynomial1D(degree=3)\n",
    "fitted_polymodel2 = linfitter(polymodel2, xvals, weighted_yaxis_values2)\n",
    "trace_center2 = fitted_polymodel2(xvals)"
   ]
  },
  {
   "cell_type": "code",
   "execution_count": null,
   "metadata": {},
   "outputs": [],
   "source": [
    "pl.plot(xvals, weighted_yaxis_values2)\n",
    "pl.plot(xvals, trace_center2)"
   ]
  },
  {
   "cell_type": "code",
   "execution_count": null,
   "metadata": {
    "scrolled": true
   },
   "outputs": [],
   "source": [
    "pl.imshow(image_array_2[470:520,:], extent=[0,1600,470,520])\n",
    "pl.plot(xvals, trace_center2, color='k')\n",
    "pl.plot(xvals, weighted_yaxis_values2, 'w+', alpha=0.5)\n",
    "pl.gca().set_aspect(10)"
   ]
  },
  {
   "cell_type": "code",
   "execution_count": null,
   "metadata": {},
   "outputs": [],
   "source": [
    "spectrum2 = np.array([np.average(image_array_2[int(yval)-npixels_to_cut:int(yval)+npixels_to_cut, ii],\n",
    "                                weights=mean_trace_profile)\n",
    "                     for yval, ii in zip(trace_center2, xvals)])"
   ]
  },
  {
   "cell_type": "code",
   "execution_count": null,
   "metadata": {},
   "outputs": [],
   "source": [
    "pl.plot(spectrum2)"
   ]
  },
  {
   "cell_type": "code",
   "execution_count": null,
   "metadata": {},
   "outputs": [],
   "source": []
  },
  {
   "cell_type": "markdown",
   "metadata": {},
   "source": [
    "DONE!  You have traced and extracted a spectrum."
   ]
  }
 ],
 "metadata": {
  "kernelspec": {
   "display_name": "Python 3",
   "language": "python",
   "name": "python3"
  },
  "language_info": {
   "codemirror_mode": {
    "name": "ipython",
    "version": 3
   },
   "file_extension": ".py",
   "mimetype": "text/x-python",
   "name": "python",
   "nbconvert_exporter": "python",
   "pygments_lexer": "ipython3",
   "version": "3.7.6"
  }
 },
 "nbformat": 4,
 "nbformat_minor": 4
}
