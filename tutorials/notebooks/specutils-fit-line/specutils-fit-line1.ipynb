{
 "cells": [
  {
   "cell_type": "markdown",
   "metadata": {
    "colab_type": "text",
    "id": "uuznfl0QFMd_"
   },
   "source": [
    "# Spectra 1: Load, Plot, and Smooth an Optical Spectrum from SDSS\n",
    "\n",
    "## Authors\n",
    "Lia Corrales, Camilla Pacifici, Kelle Cruz\n",
    "\n",
    "## Learning Goals\n",
    "* Download an SDSS spectrum using `astroquery`\n",
    "* Load the spectrum with `specutils`\n",
    "* Write a function to display the spectrum in `matplotlib`\n",
    "* Smooth the spectrum with `specutils`\n",
    "\n",
    "## Keywords\n",
    "\n",
    "spectroscopy, specutils, astroquery\n",
    "\n",
    "## Companion Content\n",
    "\n",
    "This tutorial is Part 1 of a series:\n",
    "* **Spectra 1: Load, Plot, and Smooth an Optical Spectrum from SDSS**\n",
    "* Spectra 2: Measure Properties of a Spectral Emission Line\n",
    "\n",
    "These tutorials are based on the [MOS spectrum example](https://spacetelescope.github.io/jdat_notebooks/pages/mos-spectroscopy/mos-spectroscopy.html) by Camilla Pacifici.\n",
    "\n",
    "[More information about optical SDSS spectra can be found on their webpage](https://www.sdss.org/dr16/spectro/spectro_basics/) \n",
    "\n",
    "\n",
    "## Summary\n",
    "\n",
    "In this tutorial, we will download the spectrum of a galaxy from the Sloan Digital Sky Survey (SDSS), load the spectrum as a Spectrum1D object using `specutils`, and then write a function to display the spectrum using `matplotlib`. We will use `specutils` to smooth the spectrum and plot it with the original."
   ]
  },
  {
   "cell_type": "code",
   "execution_count": null,
   "metadata": {
    "colab": {},
    "colab_type": "code",
    "id": "3PhFPkSUFMeB"
   },
   "outputs": [],
   "source": [
    "import numpy as np\n",
    "import matplotlib.pyplot as plt\n",
    "\n",
    "import astropy.units as u\n",
    "\n",
    "from astroquery.sdss import SDSS\n",
    "from astropy.coordinates import SkyCoord\n",
    "\n",
    "from specutils import Spectrum1D\n",
    "import specutils.manipulation"
   ]
  },
  {
   "cell_type": "markdown",
   "metadata": {
    "colab_type": "text",
    "id": "S6AToKbJB4wM"
   },
   "source": [
    "## Part 1: Download an SDSS spectrum"
   ]
  },
  {
   "cell_type": "markdown",
   "metadata": {
    "colab_type": "text",
    "id": "Ooz_Hs2fG_4I"
   },
   "source": [
    "Here, we will follow the `astroquery.sdss` [documentation](https://astroquery.readthedocs.io/en/latest/sdss/sdss.html) in identifying an example SDSS spectrum for download.\n",
    "\n",
    "First, we will query the SDSS archive for a quasar (QSO) spectrum at the following coordiantes.\n"
   ]
  },
  {
   "cell_type": "code",
   "execution_count": null,
   "metadata": {
    "colab": {
     "base_uri": "https://localhost:8080/",
     "height": 71
    },
    "colab_type": "code",
    "executionInfo": {
     "elapsed": 2657,
     "status": "ok",
     "timestamp": 1588000405675,
     "user": {
      "displayName": "Lia Corrales",
      "photoUrl": "https://lh3.googleusercontent.com/a-/AOh14GicmqMzvkcpeAc6Gj6WMKS0Zy1SQLQcljmyrq5W=s64",
      "userId": "12245210656125726780"
     },
     "user_tz": 240
    },
    "id": "326itk9JCRH9",
    "outputId": "31573ae4-768b-4296-db8d-c6d765ce596f"
   },
   "outputs": [],
   "source": [
    "object_coords = SkyCoord(\"0h8m05.63s +14d50m23.3s\", frame='icrs')\n",
    "\n",
    "xid = SDSS.query_region(object_coords, spectro=True)"
   ]
  },
  {
   "cell_type": "markdown",
   "metadata": {
    "colab_type": "text",
    "id": "mNf1EQ6QE3YT"
   },
   "source": [
    "The `SDSS.query_region` function returns an Astropy Table object that stores database identification information. This object, which we've named `xid`, can now be passed to `SDSS.get_spectra` to download the spectrum from the archive."
   ]
  },
  {
   "cell_type": "code",
   "execution_count": null,
   "metadata": {
    "colab": {},
    "colab_type": "code",
    "id": "KTiZ_zrOCsVW"
   },
   "outputs": [],
   "source": [
    "sp_hdus = SDSS.get_spectra(matches=xid)"
   ]
  },
  {
   "cell_type": "markdown",
   "metadata": {
    "colab_type": "text",
    "id": "JbEs3seNFj0e"
   },
   "source": [
    "The above call returns a list of [HDUList](https://docs.astropy.org/en/stable/io/fits/api/hdulists.html) objects, so that each item of the list contains the contents of  FITS file. Because our query only returns one object, there is one HDUList returned by `SDSS.get_spectra`.\n",
    "\n",
    "We can treat the contents of `sp_hdus` as if we loaded a FITS file. For example, we can print the information about the content contained in the HDUList."
   ]
  },
  {
   "cell_type": "code",
   "execution_count": null,
   "metadata": {
    "colab": {
     "base_uri": "https://localhost:8080/",
     "height": 275
    },
    "colab_type": "code",
    "executionInfo": {
     "elapsed": 371,
     "status": "ok",
     "timestamp": 1588000409801,
     "user": {
      "displayName": "Lia Corrales",
      "photoUrl": "https://lh3.googleusercontent.com/a-/AOh14GicmqMzvkcpeAc6Gj6WMKS0Zy1SQLQcljmyrq5W=s64",
      "userId": "12245210656125726780"
     },
     "user_tz": 240
    },
    "id": "KtjoDpalC04j",
    "outputId": "a7d61d78-40a1-44c1-ceed-571c84f1ee62"
   },
   "outputs": [],
   "source": [
    "print(\"Number of HDUList objects:\", len(sp_hdus))\n",
    "\n",
    "print(sp_hdus[0].info())"
   ]
  },
  {
   "cell_type": "markdown",
   "metadata": {
    "colab_type": "text",
    "id": "QWbIferhHjFy"
   },
   "source": [
    "After examining the data tables provided in each of the FITS file extensions, it appears that the \"COADD\" extension holds spectral information.\n",
    "\n",
    "To demonstrate, we will extract the table contents to a new variable and examine the column names.\n",
    "\n"
   ]
  },
  {
   "cell_type": "code",
   "execution_count": null,
   "metadata": {
    "colab": {
     "base_uri": "https://localhost:8080/",
     "height": 187
    },
    "colab_type": "code",
    "executionInfo": {
     "elapsed": 342,
     "status": "ok",
     "timestamp": 1588000433554,
     "user": {
      "displayName": "Lia Corrales",
      "photoUrl": "https://lh3.googleusercontent.com/a-/AOh14GicmqMzvkcpeAc6Gj6WMKS0Zy1SQLQcljmyrq5W=s64",
      "userId": "12245210656125726780"
     },
     "user_tz": 240
    },
    "id": "mmEZuQA3IVn7",
    "outputId": "005d2237-881d-47ad-d4b3-20d70dec4f82"
   },
   "outputs": [],
   "source": [
    "qso0008_coadd_data = sp_hdus[0][\"COADD\"].data\n",
    "\n",
    "print(qso0008_coadd_data.columns)"
   ]
  },
  {
   "cell_type": "markdown",
   "metadata": {
    "colab_type": "text",
    "id": "y2BaxjeWJNwC"
   },
   "source": [
    "Let's plot the columns that look like they might contain the spectrum information we want (wavelength and flux). Since the column name 'loglam' indicates that it contains the logarithim of lambda, a common name choice for wavelength, we'll plot that column after solving for lambda:\n",
    "\n",
    "$$ \\lambda = 10^{\\log \\lambda} $$"
   ]
  },
  {
   "cell_type": "code",
   "execution_count": null,
   "metadata": {
    "colab": {
     "base_uri": "https://localhost:8080/",
     "height": 283
    },
    "colab_type": "code",
    "executionInfo": {
     "elapsed": 425,
     "status": "ok",
     "timestamp": 1588000439219,
     "user": {
      "displayName": "Lia Corrales",
      "photoUrl": "https://lh3.googleusercontent.com/a-/AOh14GicmqMzvkcpeAc6Gj6WMKS0Zy1SQLQcljmyrq5W=s64",
      "userId": "12245210656125726780"
     },
     "user_tz": 240
    },
    "id": "rzOXuMqzH7JT",
    "outputId": "01037c7c-8266-4ee5-f6e4-9e0d9c48d297"
   },
   "outputs": [],
   "source": [
    "plt.plot(np.power(10.0, qso0008_coadd_data['loglam']), qso0008_coadd_data['flux'])"
   ]
  },
  {
   "cell_type": "markdown",
   "metadata": {
    "colab_type": "text",
    "id": "4NooTts_Jd2n"
   },
   "source": [
    "Based on the [information provided on the SDSS website](https://www.sdss.org/dr16/spectro/spectro_basics/), the SDSS spectrograph covers the wavelength range 3800 - 9200 Angstrom. So the wavelength units for the 'loglam' column must be Angstrom. The website also states that the flux units are $10^{-17}$erg cm$^{-2}$ s$^{-1}$ Angstrom$^{-1}$."
   ]
  },
  {
   "cell_type": "markdown",
   "metadata": {
    "colab_type": "text",
    "id": "htjZLmNyJnSm"
   },
   "source": [
    "## Part 2: Load the SDSS spectrum into a `Spectrum1D` object"
   ]
  },
  {
   "cell_type": "markdown",
   "metadata": {
    "colab_type": "text",
    "id": "NWb7IoCwLYch"
   },
   "source": [
    "We will load the spectral information into a `specutils.Spectrum1D` object, which is the simplest case for using specutils."
   ]
  },
  {
   "cell_type": "code",
   "execution_count": null,
   "metadata": {
    "colab": {},
    "colab_type": "code",
    "id": "2zDm8iezKrcD"
   },
   "outputs": [],
   "source": [
    "qso0008_spectrum = Spectrum1D(flux=qso0008_coadd_data['flux'] * 1.e-17 * u.Unit('erg cm^-2 s^-1 AA^-1'), \n",
    "                      spectral_axis=np.power(10.0, qso0008_coadd_data['loglam']) * u.angstrom)"
   ]
  },
  {
   "cell_type": "markdown",
   "metadata": {
    "colab_type": "text",
    "id": "5wKmayM7TtHk"
   },
   "source": [
    "Specutils also has a built in reader for SDSS data. If you have downloaded the SDSS spectrum FITS files, you can provide the filename to `Spectrum1D.read` and set the keyword argument `format=\"SDSS-III/IV spec\"`."
   ]
  },
  {
   "cell_type": "markdown",
   "metadata": {
    "colab_type": "text",
    "id": "QzLh443lY8KA"
   },
   "source": [
    "<div class=\"alert alert-info\">\n",
    "\n",
    "**Planned feature:** In a future specutils release, we will also be able to pass the HDUList that we downloaded from the SDSS archive to the `Spectrum1D.read` object:\n",
    "```\n",
    "qso0008_spectrum = Spectrum1D.read(sp_hdus[0], format=\"SDSS-III/IV spec\")\n",
    "```\n",
    "\n",
    "This will make it so that we will not have to define each spectral axis ourselves.\n",
    "    \n",
    "[Details are available on Github.](https://github.com/astropy/specutils/issues/450)\n",
    "\n",
    "</div>"
   ]
  },
  {
   "cell_type": "markdown",
   "metadata": {
    "colab_type": "text",
    "id": "GrklgIDjLRax"
   },
   "source": [
    "## Part 3: Write a function to plot the spectrum"
   ]
  },
  {
   "cell_type": "markdown",
   "metadata": {
    "colab_type": "text",
    "id": "t9qoGTcDJdIp"
   },
   "source": [
    "While it's possible to plot the spectrum directly by passing information stored in the `Spectrum1D` object to `matplotlib.pyplot.plot`, we will write a function for this process so that we can re-plot any `Spectrum1D` with ease."
   ]
  },
  {
   "cell_type": "code",
   "execution_count": null,
   "metadata": {
    "colab": {},
    "colab_type": "code",
    "id": "pDsfwhbjLAXD"
   },
   "outputs": [],
   "source": [
    "def plot_spectrum1d(ax, spec, **kwargs):\n",
    "    \"\"\"\n",
    "    Plot a Spectrum1D object\n",
    "    \n",
    "    ax : matplotlib.pyplot.axis object on which to plot the data\n",
    "    \n",
    "    spec : specutils.Spectrum1D object to plot\n",
    "    \n",
    "    **kwargs will be passed to the matplotlib.pyplot.plot command\n",
    "    \"\"\"\n",
    "    ax.plot(spec.spectral_axis, spec.flux, **kwargs)\n",
    "    ax.set_xlabel(spec.spectral_axis.unit)\n",
    "    ax.set_ylabel(spec.flux.unit)\n",
    "    return"
   ]
  },
  {
   "cell_type": "markdown",
   "metadata": {
    "colab_type": "text",
    "id": "_Oky3XBMLBof"
   },
   "source": [
    "Next, set up the matplotlib axis and pass it to our newly defined function. We will then change the x-axis range in order to zoom in on some of the sharp emission features."
   ]
  },
  {
   "cell_type": "code",
   "execution_count": null,
   "metadata": {
    "colab": {
     "base_uri": "https://localhost:8080/",
     "height": 307
    },
    "colab_type": "code",
    "executionInfo": {
     "elapsed": 458,
     "status": "ok",
     "timestamp": 1588000474261,
     "user": {
      "displayName": "Lia Corrales",
      "photoUrl": "https://lh3.googleusercontent.com/a-/AOh14GicmqMzvkcpeAc6Gj6WMKS0Zy1SQLQcljmyrq5W=s64",
      "userId": "12245210656125726780"
     },
     "user_tz": 240
    },
    "id": "uEHoPDaSK_FD",
    "outputId": "e60f637e-74bc-4511-b2e3-c8e9e2092ad0"
   },
   "outputs": [],
   "source": [
    "ax = plt.subplot(111)\n",
    "\n",
    "plot_spectrum1d(ax, qso0008_spectrum)\n",
    "plt.xlim(5100, 5300)"
   ]
  },
  {
   "cell_type": "markdown",
   "metadata": {
    "colab_type": "text",
    "id": "Ws1Bls9aNGo8"
   },
   "source": [
    "<div class=\"alert alert-info\">\n",
    "\n",
    "**Planned feature:** In a future specutils release, we might be able to plot a single spectrum with the `Spectrum1D.plot_quick` method.\n",
    "    \n",
    "[Details are available on Github.](https://github.com/astropy/specutils/pull/650)\n",
    "\n",
    "</div>"
   ]
  },
  {
   "cell_type": "markdown",
   "metadata": {
    "colab_type": "text",
    "id": "6gwBkRTfMgO4"
   },
   "source": [
    "## Part 4: Smooth the spectrum with `specutils` and re-plot"
   ]
  },
  {
   "cell_type": "markdown",
   "metadata": {
    "colab_type": "text",
    "id": "_V-o2sQhNhum"
   },
   "source": [
    "We can use a Gaussian kernel to smooth the spectrum data with the `specutils.manipulation.gaussian_smooth` function.\n",
    "\n",
    "The standard deviation of the Gaussian function is defined in units of pixels (i.e., number of bins), with the `stddev` keyword."
   ]
  },
  {
   "cell_type": "code",
   "execution_count": null,
   "metadata": {
    "colab": {
     "base_uri": "https://localhost:8080/",
     "height": 51
    },
    "colab_type": "code",
    "executionInfo": {
     "elapsed": 568,
     "status": "ok",
     "timestamp": 1588000736929,
     "user": {
      "displayName": "Lia Corrales",
      "photoUrl": "https://lh3.googleusercontent.com/a-/AOh14GicmqMzvkcpeAc6Gj6WMKS0Zy1SQLQcljmyrq5W=s64",
      "userId": "12245210656125726780"
     },
     "user_tz": 240
    },
    "id": "2o7GWoINLkZT",
    "outputId": "7623f9ab-7bdc-4fce-bdcb-bca9b866c989"
   },
   "outputs": [],
   "source": [
    "qso0008_smoothed_spectrum = specutils.manipulation.gaussian_smooth(qso0008_spectrum, stddev=5)"
   ]
  },
  {
   "cell_type": "markdown",
   "metadata": {
    "colab_type": "text",
    "id": "0BOWHVWUMyms"
   },
   "source": [
    "Now, using the function we defined above, let's plot our two spectra together so that we can see the difference between the original and smoothed spectrum."
   ]
  },
  {
   "cell_type": "code",
   "execution_count": null,
   "metadata": {
    "colab": {
     "base_uri": "https://localhost:8080/",
     "height": 307
    },
    "colab_type": "code",
    "executionInfo": {
     "elapsed": 504,
     "status": "ok",
     "timestamp": 1588000740996,
     "user": {
      "displayName": "Lia Corrales",
      "photoUrl": "https://lh3.googleusercontent.com/a-/AOh14GicmqMzvkcpeAc6Gj6WMKS0Zy1SQLQcljmyrq5W=s64",
      "userId": "12245210656125726780"
     },
     "user_tz": 240
    },
    "id": "JdCKwqGjMu0Z",
    "outputId": "a420f22c-f9a0-4071-d51d-fc955844fad3"
   },
   "outputs": [],
   "source": [
    "ax = plt.subplot(111)\n",
    "\n",
    "plot_spectrum1d(ax, qso0008_spectrum, color='k', label='Original')\n",
    "plot_spectrum1d(ax, qso0008_smoothed_spectrum, color='r', alpha=0.8, label='Smoothed')\n",
    "\n",
    "plt.legend(loc='upper right')\n",
    "plt.xlim(5100, 5300)"
   ]
  },
  {
   "cell_type": "markdown",
   "metadata": {
    "colab_type": "text",
    "id": "Y_kYkFK3OXlS"
   },
   "source": [
    "## Exercise\n",
    "\n",
    "Modify the plotting function so you can plot the spectrum with a different x-axis unit, such as frequency. Your function definition might look like:\n",
    "\n",
    "`def plot_spectrum1d(ax, spec, xunit='Angstrom'):`\n",
    "\n",
    "**Hint:** Check out the [Astropy units equivalencies module](https://docs.astropy.org/en/stable/units/equivalencies.html#spectral-units) to learn how to manage conversions for spectral units."
   ]
  },
  {
   "cell_type": "code",
   "execution_count": null,
   "metadata": {
    "colab": {},
    "colab_type": "code",
    "id": "NC6LhuwMNdkk"
   },
   "outputs": [],
   "source": []
  },
  {
   "cell_type": "code",
   "execution_count": null,
   "metadata": {},
   "outputs": [],
   "source": []
  }
 ],
 "metadata": {
  "colab": {
   "collapsed_sections": [],
   "name": "specutils-fit-line1.ipynb",
   "provenance": []
  },
  "kernelspec": {
   "display_name": "Python 3",
   "language": "python",
   "name": "python3"
  },
  "language_info": {
   "codemirror_mode": {
    "name": "ipython"
   },
   "file_extension": ".py",
   "mimetype": "text/x-python",
   "name": "python",
   "nbconvert_exporter": "python"
  }
 },
 "nbformat": 4,
 "nbformat_minor": 1
}
