{
 "cells": [
  {
   "cell_type": "markdown",
   "metadata": {
    "colab_type": "text",
    "id": "KKZauCKM81JK"
   },
   "source": [
    "# Generating a Spectrum-Through-a-Cube Plot\n",
    "This is a tutorial for a simple spectrum-through-a-cube plot."
   ]
  },
  {
   "cell_type": "markdown",
   "metadata": {
    "colab_type": "text",
    "id": "o6YkA_ba81JM"
   },
   "source": [
    "## Authors\n",
    "Jeff Mangum, Kris Stern\n",
    "\n",
    "## Learning Goals\n",
    "1. To produce a publication-grade spectrum with emission lines labeled with transition markers.\n",
    "2. To enter inputs using a YAML file.\n",
    "3. To read positions and areal patterns with which to derive spectra from some ds9 region. \n",
    "\n",
    "## Keywords\n",
    "data cubes, fits image, spectroscopy\n",
    "\n",
    "## Companion Content\n",
    "[Jeff's GitHub repo with all the source materials](https://github.com/jmangum/spectrumplot)\n",
    "\n",
    "## Summary\n",
    "Basically, we integrate a datacube across some pre-defined region and to generate a spectrum plot that way. A neat trick using a YAML file is introduced, explained side-by-side by definitions of variables pythonic to illustrate what has been achieved using the YAML file. \n",
    "\n",
    "## System requirements\n",
    "You will need to install some additional packages, including: [lineid_plot](https://pypi.org/project/lineid_plot/), [PyYAML](https://pypi.org/project/PyYAML/), and the [regions](https://astropy-regions.readthedocs.io/en/latest/installation.html) package.\n",
    "\n",
    "## Caveats on some software used\n",
    "It should be noted that some of the software use is not part of the Astropy ecosystem. But since Astropy is still developing some functionalities are yet to be made available, hence the choice of software in this context. "
   ]
  },
  {
   "cell_type": "markdown",
   "metadata": {
    "colab_type": "text",
    "id": "FPpDWfWC81JO"
   },
   "source": [
    "First of all, open this file in the directory containing all the files from the repo in the [\"Companion Content\"](#companion-content). Next, you will need to import some required packages, as shown below:"
   ]
  },
  {
   "cell_type": "markdown",
   "metadata": {
    "colab_type": "text",
    "id": "FMvM8ob6kYTh"
   },
   "source": [
    "Import the packages to set up the coding environment..."
   ]
  },
  {
   "cell_type": "code",
   "execution_count": null,
   "metadata": {},
   "outputs": [],
   "source": [
    "!python -m pip install git+https://github.com/pyspeckit/pyspeckit.git#egg=pyspeckit\n",
    "!python -m pip install regions"
   ]
  },
  {
   "cell_type": "code",
   "execution_count": null,
   "metadata": {
    "colab": {},
    "colab_type": "code",
    "id": "DyoG6BXI81JP"
   },
   "outputs": [],
   "source": [
    "# Import all necessary packages\n",
    "import matplotlib \n",
    "from matplotlib import pyplot as plt\n",
    "%matplotlib inline\n",
    "\n",
    "import astropy\n",
    "import astropy.units as u \n",
    "import numpy as np \n",
    "import regions \n",
    "from astropy.utils import data \n",
    "from spectral_cube import SpectralCube \n",
    "import pyspeckit \n",
    "from astropy.io.misc import yaml \n",
    "from astropy.utils.data import download_file"
   ]
  },
  {
   "cell_type": "markdown",
   "metadata": {
    "colab_type": "text",
    "id": "g7AxVhfS81JV"
   },
   "source": [
    "After that, define the input .yaml file which contains all the input variables needed to run the code properly. YAML files are data-oriented, and is short for \"YAML Ain't Markup Language\" (recursive). It is commonly used for configuration files, but can also be used in many other applications where data is being stored or transmitted. In our context, the YAML file concerned is used for storing data in an organized manner. "
   ]
  },
  {
   "cell_type": "code",
   "execution_count": null,
   "metadata": {
    "colab": {},
    "colab_type": "code",
    "id": "2bg-1PWM81JW"
   },
   "outputs": [],
   "source": [
    "# \"infile\" is the input yaml file.  \n",
    "infile = './CubeSpectrumPlotExampleInput.yaml'"
   ]
  },
  {
   "cell_type": "markdown",
   "metadata": {
    "colab_type": "text",
    "id": "uEa3Y-Qs81Jb"
   },
   "source": [
    "Once the infile is ready, load it with the load method of `yaml` as below. Change the directory with the `os` command lines by entering the working directory if needed: "
   ]
  },
  {
   "cell_type": "code",
   "execution_count": null,
   "metadata": {
    "colab": {},
    "colab_type": "code",
    "id": "s-xGpZVk81Jd"
   },
   "outputs": [],
   "source": [
    "with open(infile) as fh:\n",
    "    params = yaml.load(fh)"
   ]
  },
  {
   "cell_type": "markdown",
   "metadata": {
    "colab_type": "text",
    "id": "zvJe0bxS81Jg"
   },
   "source": [
    "After opening the yaml file and loading the info contained, you are ready to define the following variables. Note that this example uses an input list of transitions to mark which transitions outside the frequency range of the FITS file used (to be able to use the same YAML file with other FITS cubes from this target) to include. You can ignore any warnings about \"skipped out-of-bounds lines\"."
   ]
  },
  {
   "cell_type": "code",
   "execution_count": null,
   "metadata": {
    "colab": {},
    "colab_type": "code",
    "id": "teX5Fz5281Jh"
   },
   "outputs": [],
   "source": [
    "cubefile = params['cubefile'] # Cube from which the spectrum is to be extracted \n",
    "regfile = params['regfile'] # Regions file containing positions through which spectra can be extracted \n",
    "target = params['target'] # Target name for plot annotation \n",
    "figfile = params['figfile'] # Output figure file name \n",
    "velconvention = params['velconvention'] # Velocity axis convention used for spectrum \n",
    "regplot = int(params['regplot']) # Which region number to produce spectrum towards \n",
    "smoothfact = int(params['smoothfact']) # Smooth spectrum to smoothfact resolution in km/s \n",
    "yminval = float(params['yminval']) # Intensity axis minimum value \n",
    "ymaxval = float(params['ymaxval']) # Intensity axis maximum value"
   ]
  },
  {
   "cell_type": "markdown",
   "metadata": {
    "colab_type": "text",
    "id": "XNsC_GjOPOR6"
   },
   "source": [
    "Alternatively, to spell out the details, we can define the above parameters needed pythonically and individually as follows: "
   ]
  },
  {
   "cell_type": "code",
   "execution_count": null,
   "metadata": {
    "colab": {},
    "colab_type": "code",
    "id": "Nbfms0a2PXF2"
   },
   "outputs": [],
   "source": [
    "cubefile = 'CubeSpectrumPlotExample.fits'  # This is the data cube we will be integrating over\n",
    "regfile = 'LeroyNGC253Positions.reg'  # This is the file from which the positions are the spectra extracted\n",
    "target = 'NGC253'  # The name of the scientific target for which spectrum belongs\n",
    "figfile = 'CubeSpectrumPlotExample.png'  # The name of the output file\n",
    "velconvention = 'optical'  # Velocity axis convention used for the spectrum, either 'radio' or 'optical'\n",
    "regplot = int(5)  # Region number to produce spectrum towards, is an integer\n",
    "smoothfact = int(10)  # The smoothfact resolution in km/s to be used to smooth the spectrum\n",
    "yminval = float(-5)  # The mininum y-value, a float\n",
    "ymaxval = float(145)  # the maximum y-value, a float"
   ]
  },
  {
   "cell_type": "markdown",
   "metadata": {
    "colab_type": "text",
    "id": "i30E3B3JQSYr"
   },
   "source": [
    "Using the second way is more pythonic in the definition of various variables. However, when considering also that ... "
   ]
  },
  {
   "cell_type": "markdown",
   "metadata": {
    "colab_type": "text",
    "id": "_DrWCQHc81Jk"
   },
   "source": [
    "Note that the input parameters in YAML file include:\n",
    "\n",
    "* cubefile: FITS cube file name\n",
    "* regfile: Regions file name\n",
    "* figfile: File name for output figure file\n",
    "* target: Target name used to annotate upper-left corner of plot\n",
    "* velconvention: Velocity convention for spectral axis of plot (optical or radio)\n",
    "* regplot: Region number in regions file at which to plot spectum\n",
    "* smoothfact: Spectral smoothing factor\n",
    "* yminval: Intensity axis minimum value\n",
    "* ymaxval: Intensity axis maximum value\n",
    "* linenames: Name tags for transitions marked in spectrum\n",
    "* linexvals: Frequency values (in MHz) for linenames marked on spectrum\n",
    "* linenames_sizes: Character sizes for linename annotations\n",
    "* arrow_tips: Arrow tip sizes\n",
    "* vregion: Nominal velcity for region plotted (to allow for centering of linexvals on linenames plotted)"
   ]
  },
  {
   "cell_type": "markdown",
   "metadata": {
    "colab_type": "text",
    "id": "8z0hjagh81Jk"
   },
   "source": [
    "Then we proceed to defining the line names, x values, sizes of the line names, and size of the arrow tips. These will be useful for the formatting of the spectrum plot to be generated, both for its readability and the aesthetics. "
   ]
  },
  {
   "cell_type": "code",
   "execution_count": null,
   "metadata": {
    "colab": {},
    "colab_type": "code",
    "id": "hxueb-MB81Jl"
   },
   "outputs": [],
   "source": [
    "if params['linenames'] != None: \n",
    "    linenames = list(params['linenames'].split(\", \")) # Line names to use for line ID markers\n",
    "    linexvals = u.Quantity(list(map(float, params['linexvals'].split(\", \"))), u.MHz) # X-axis values for linenames\n",
    "    linenames_sizes = np.array(list(map(int,params['linenames_sizes'].split(\", \")))) # Size in points for each linename\n",
    "    arrow_tips = list(map(int,params['arrow_tips'].split(\", \"))) # Size of arrow tips used in annotate\n",
    "    # Define spectral line annotation box locations\n",
    "    box_locs = [x+25 for x in arrow_tips]\n",
    "vregion = u.Quantity(float(params['vregion']), u.km/u.s)"
   ]
  },
  {
   "cell_type": "markdown",
   "metadata": {
    "colab_type": "text",
    "id": "xDVpnXcN81Jo"
   },
   "source": [
    "Next, we invoke SpectralCube to read the given cube FITS file. The sample cube has 3 dimensions: 2 spatial axes (in degrees) and one velocity (in m/s). "
   ]
  },
  {
   "cell_type": "code",
   "execution_count": null,
   "metadata": {
    "colab": {
     "base_uri": "https://localhost:8080/",
     "height": 122
    },
    "colab_type": "code",
    "executionInfo": {
     "elapsed": 147761,
     "status": "ok",
     "timestamp": 1575564824740,
     "user": {
      "displayName": "Kris Stern",
      "photoUrl": "https://lh3.googleusercontent.com/a-/AAuE7mB24fkH2NyZNsXvskT1MuKEgkLYrEHHu9KoVmwH=s64",
      "userId": "15561464600379012140"
     },
     "user_tz": -480
    },
    "id": "QH-kdhrt81Jp",
    "outputId": "8a3b8dc5-62cf-4847-f168-d9684f2f2c43"
   },
   "outputs": [],
   "source": [
    "tutorialpath = 'http://data.astropy.org/tutorials/spectrumplot/'\n",
    "datafilename1 = download_file(tutorialpath + cubefile, cache=True, show_progress=True)\n",
    "cube = SpectralCube.read(datafilename1) # Read cube\n",
    "print(cube)"
   ]
  },
  {
   "cell_type": "markdown",
   "metadata": {
    "colab_type": "text",
    "id": "MmKWpCTH81Jv"
   },
   "source": [
    "From the data in the file \"LeroyNGC253Positions.reg\" we note the following line, and use it to construct a ds9 region to make a subcube. "
   ]
  },
  {
   "cell_type": "code",
   "execution_count": null,
   "metadata": {
    "colab": {
     "base_uri": "https://localhost:8080/",
     "height": 326
    },
    "colab_type": "code",
    "executionInfo": {
     "elapsed": 160249,
     "status": "ok",
     "timestamp": 1575564837231,
     "user": {
      "displayName": "Kris Stern",
      "photoUrl": "https://lh3.googleusercontent.com/a-/AAuE7mB24fkH2NyZNsXvskT1MuKEgkLYrEHHu9KoVmwH=s64",
      "userId": "15561464600379012140"
     },
     "user_tz": -480
    },
    "id": "1eWtH3MN81Jw",
    "outputId": "911fcaa8-c084-44d2-dacb-8ba8a1d9fa46"
   },
   "outputs": [],
   "source": [
    "cubespec = cube.subcube_from_ds9region('fk5; circle(11.88888,-25.28771,0.5\")').mean(axis=(1, 2))"
   ]
  },
  {
   "cell_type": "markdown",
   "metadata": {
    "colab_type": "text",
    "id": "rPGADRQd81Jz"
   },
   "source": [
    "We can now convert the unit of the `cubespec` object made with `subcube_from_ds9region`, and store the HDU in a new variable `cubespec_hdu`. "
   ]
  },
  {
   "cell_type": "code",
   "execution_count": null,
   "metadata": {
    "colab": {},
    "colab_type": "code",
    "id": "EF6pq1m281J1"
   },
   "outputs": [],
   "source": [
    "import astropy.io.fits as fits\n",
    "cubespec_mJyperbeam = cubespec*1000*u.mJy/u.Jy\n",
    "cubespec_hdu = cubespec_mJyperbeam.hdu"
   ]
  },
  {
   "cell_type": "markdown",
   "metadata": {
    "colab_type": "text",
    "id": "6OUMaD_z81J3"
   },
   "source": [
    "Then, we can obtain the offset from the rest frequency for each emission line. The offset is dependent on the particular velocity defintion used. "
   ]
  },
  {
   "cell_type": "code",
   "execution_count": null,
   "metadata": {
    "colab": {
     "base_uri": "https://localhost:8080/",
     "height": 34
    },
    "colab_type": "code",
    "executionInfo": {
     "elapsed": 160246,
     "status": "ok",
     "timestamp": 1575564837233,
     "user": {
      "displayName": "Kris Stern",
      "photoUrl": "https://lh3.googleusercontent.com/a-/AAuE7mB24fkH2NyZNsXvskT1MuKEgkLYrEHHu9KoVmwH=s64",
      "userId": "15561464600379012140"
     },
     "user_tz": -480
    },
    "id": "8Mvro9Ai81J4",
    "outputId": "42871dd3-ab6c-41a3-c1c5-d3504cefc54b"
   },
   "outputs": [],
   "source": [
    "restf = cubespec.wcs.wcs.restfrq*u.Hz \n",
    "if velconvention == 'optical': \n",
    "    offset = restf-(vregion).to(u.GHz,u.doppler_optical(restf)) \n",
    "elif velconvention == 'radio': \n",
    "    offset = restf-(vregion).to(u.GHz,u.doppler_radio(restf)) \n",
    "print(offset)"
   ]
  },
  {
   "cell_type": "markdown",
   "metadata": {
    "colab_type": "text",
    "id": "oQzY26jN81J8"
   },
   "source": [
    "The following will define the spectral axis units using the specified velocity convention:"
   ]
  },
  {
   "cell_type": "code",
   "execution_count": null,
   "metadata": {
    "colab": {},
    "colab_type": "code",
    "id": "-1MV0rZ181J-"
   },
   "outputs": [],
   "source": [
    "spectral_axis = cubespec_mJyperbeam.with_spectral_unit(u.GHz, velocity_convention=velconvention, rest_value=restf).spectral_axis + offset"
   ]
  },
  {
   "cell_type": "markdown",
   "metadata": {
    "colab_type": "text",
    "id": "1pc7Cv-J81KA"
   },
   "source": [
    "Next, we extract the desired spectrum from `cubespec_mJyperbeam` as `sp`. "
   ]
  },
  {
   "cell_type": "code",
   "execution_count": null,
   "metadata": {
    "colab": {},
    "colab_type": "code",
    "id": "hO3jPwOg81KC"
   },
   "outputs": [],
   "source": [
    "sp = pyspeckit.Spectrum(xarr=spectral_axis, data=cubespec_mJyperbeam.value, header={})"
   ]
  },
  {
   "cell_type": "markdown",
   "metadata": {
    "colab_type": "text",
    "id": "npqWTOMd81KG"
   },
   "source": [
    "The following will convert `sp` to the specified velocity convention read from the input yaml file. It should be noted there are three velocity definitions by convention - optical, radio, and relativistic. But for the situation considered only the optical velocity and radio velocity ones are relevant. For more information see for example https://www.eaobservatory.org/jcmt/instrumentation/heterodyne/velocity-considerations/"
   ]
  },
  {
   "cell_type": "code",
   "execution_count": null,
   "metadata": {
    "colab": {},
    "colab_type": "code",
    "id": "I611c5ag81KI"
   },
   "outputs": [],
   "source": [
    "if velconvention == 'optical':\n",
    "    sp.xarr.convert_to_unit('km/s', refX=restf, equivalencies=u.doppler_optical(restf)) # Do this first so one can smooth to smoothfact km/s spectral resolution\n",
    "elif velconvention == 'radio':\n",
    "    sp.xarr.convert_to_unit('km/s', refX=restf, equivalencies=u.doppler_radio(restf))"
   ]
  },
  {
   "cell_type": "markdown",
   "metadata": {
    "colab_type": "text",
    "id": "zzQ1t17Z81KN"
   },
   "source": [
    "Then, we smooth to smoothfact km/s, which is smoothfact over the cdelt channels."
   ]
  },
  {
   "cell_type": "code",
   "execution_count": null,
   "metadata": {
    "colab": {},
    "colab_type": "code",
    "id": "Msl5sNru81KQ"
   },
   "outputs": [],
   "source": [
    "sp.smooth(smoothfact/np.abs(sp.xarr.cdelt(approx=True).value))"
   ]
  },
  {
   "cell_type": "markdown",
   "metadata": {
    "colab_type": "text",
    "id": "2TAKzFQk81KX"
   },
   "source": [
    "Converting to a freqency axis:"
   ]
  },
  {
   "cell_type": "code",
   "execution_count": null,
   "metadata": {
    "colab": {},
    "colab_type": "code",
    "id": "VVyQUf--81Ka"
   },
   "outputs": [],
   "source": [
    "sp.xarr.convert_to_unit('GHz')"
   ]
  },
  {
   "cell_type": "markdown",
   "metadata": {
    "colab_type": "text",
    "id": "SqK5x7I481Kg"
   },
   "source": [
    "Finally, it is on to plotting with PySpecKit's `plotter` function... "
   ]
  },
  {
   "cell_type": "code",
   "execution_count": null,
   "metadata": {
    "colab": {
     "base_uri": "https://localhost:8080/",
     "height": 403
    },
    "colab_type": "code",
    "executionInfo": {
     "elapsed": 167358,
     "status": "ok",
     "timestamp": 1575564844361,
     "user": {
      "displayName": "Kris Stern",
      "photoUrl": "https://lh3.googleusercontent.com/a-/AAuE7mB24fkH2NyZNsXvskT1MuKEgkLYrEHHu9KoVmwH=s64",
      "userId": "15561464600379012140"
     },
     "user_tz": -480
    },
    "id": "SCAUx1cF81Kh",
    "outputId": "03773ae2-12a5-492d-b714-a9d5d405b116"
   },
   "outputs": [],
   "source": [
    "sp.plotter(ymin=yminval,ymax=ymaxval)\n",
    "sp.plotter.label(xlabel='Rest Frequency (GHz)',ylabel='Flux Density (mJy beam$^{-1}$)') # X- and Y-axis labeling\n",
    "sp.plotter.axis.plot([sp.xarr.min().value,sp.xarr.max().value],[0,0],color='k',linestyle='-',zorder=-5) # Draw a line at y=0\n",
    "if params['linenames'] != None:\n",
    "    sp.plotter.line_ids(linenames,linexvals,auto_yloc=False,auto_yloc_fraction=0.83,label1_size=9,arrow_tip=arrow_tips,box_loc=box_locs) # Plot line IDs read from yaml file\n",
    "# NOTE: annotate must be called *after* line_ids\n",
    "sp.plotter.axis.annotate(s=target,xy=(0.05,0.9),xycoords='axes fraction') # Annotate with source name\n",
    "sp.plotter.savefig('spectrum_try.png') # Save to output file"
   ]
  },
  {
   "cell_type": "code",
   "execution_count": null,
   "metadata": {
    "colab": {},
    "colab_type": "code",
    "id": "MYYj06rg81Kn"
   },
   "outputs": [],
   "source": []
  }
 ],
 "metadata": {
  
 },
 "nbformat": 4,
 "nbformat_minor": 4
}
