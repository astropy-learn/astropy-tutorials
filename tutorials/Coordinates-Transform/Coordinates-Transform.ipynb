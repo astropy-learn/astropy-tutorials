{
 "cells": [
  {
   "cell_type": "markdown",
   "metadata": {},
   "source": [
    "# Transforming between coordinate systems - Coordinates series 2"
   ]
  },
  {
   "cell_type": "markdown",
   "metadata": {},
   "source": [
    "What we assume you:\n",
    "- Have basic knowledge of coordinate systems and the astropy coordinate library\n",
    "- How to work with python classes (note: you do not need to know how to write classes)\n",
    "- How to work with numpy arrays\n",
    "\n",
    "By the time you are done you should be able to:\n",
    "- Make coordinate objects\n",
    "- Transform to different coordinate systems\n",
    "- See how to track an object's altitude from certain observing locations"
   ]
  },
  {
   "cell_type": "markdown",
   "metadata": {},
   "source": [
    "### Imports"
   ]
  },
  {
   "cell_type": "code",
   "execution_count": 1,
   "metadata": {
    "collapsed": true
   },
   "outputs": [],
   "source": [
    "# Python standard-library\n",
    "from urllib.parse import urlencode\n",
    "from urllib.request import urlretrieve\n",
    "\n",
    "# Third-party dependencies\n",
    "from astropy import units as u\n",
    "from astropy.coordinates import SkyCoord\n",
    "from astropy.table import Table\n",
    "import numpy as np\n",
    "from IPython.display import Image"
   ]
  },
  {
   "cell_type": "code",
   "execution_count": 2,
   "metadata": {
    "collapsed": true
   },
   "outputs": [],
   "source": [
    "# Set up matplotlib and use a nicer set of plot parameters\n",
    "from astropy.visualization import astropy_mpl_style\n",
    "import matplotlib.pyplot as plt\n",
    "plt.style.use(astropy_mpl_style)\n",
    "%matplotlib inline"
   ]
  },
  {
   "cell_type": "markdown",
   "metadata": {},
   "source": [
    "# Section 0: Quickstart"
   ]
  },
  {
   "cell_type": "markdown",
   "metadata": {},
   "source": [
    "<div class=\"alert alert-info\">\n",
    "\n",
    "**Note:** If you already worked through tutorial one, you can feel free to skip to [Section 1](#Section-1:).\n",
    "\n",
    "</div>"
   ]
  },
  {
   "cell_type": "markdown",
   "metadata": {},
   "source": [
    "In Astropy, the most common object you'll work with for coordinates is `SkyCoord`.  A `SkyCoord` can be created most easily directly from angles as shown below.  \n",
    "\n",
    "In this tutorial we will be converting between frames. Let's start in the ICRS frame (which happens to be the default). \n",
    "\n",
    "For much of this tutorial we will work with the Hickson Compact Group 7. We can create an object either by passing the degrees explicitly (using the astropy [units](http://docs.astropy.org/en/stable/units/index.html) library) or by passing in strings. The two coordinates below are equivalent"
   ]
  },
  {
   "cell_type": "code",
   "execution_count": 3,
   "metadata": {},
   "outputs": [
    {
     "name": "stdout",
     "output_type": "stream",
     "text": [
      "<SkyCoord (ICRS): (ra, dec) in deg\n",
      "    ( 9.81625,  0.88806)>\n"
     ]
    }
   ],
   "source": [
    "hcg7_center = SkyCoord(9.81625*u.deg, 0.88806*u.deg, frame='icrs')  # using degrees directly\n",
    "print(hcg7_center)"
   ]
  },
  {
   "cell_type": "code",
   "execution_count": 4,
   "metadata": {},
   "outputs": [
    {
     "name": "stdout",
     "output_type": "stream",
     "text": [
      "<SkyCoord (ICRS): (ra, dec) in deg\n",
      "    ( 9.81625,  0.88806)>\n"
     ]
    }
   ],
   "source": [
    "hcg7_center = SkyCoord('0h39m15.9s', '0d53m17.016s', frame='icrs')  # passing in string format\n",
    "print(hcg7_center)"
   ]
  },
  {
   "cell_type": "markdown",
   "metadata": {},
   "source": [
    "We can get the right ascension and declination components of the object directly by accessing those attributes."
   ]
  },
  {
   "cell_type": "code",
   "execution_count": 5,
   "metadata": {},
   "outputs": [
    {
     "name": "stdout",
     "output_type": "stream",
     "text": [
      "9d48m58.5s\n",
      "0d53m17.016s\n"
     ]
    }
   ],
   "source": [
    "print(hcg7_center.ra)\n",
    "print(hcg7_center.dec)"
   ]
  },
  {
   "cell_type": "markdown",
   "metadata": {},
   "source": [
    "# Section 1: "
   ]
  },
  {
   "cell_type": "markdown",
   "metadata": {},
   "source": [
    "### Introducting frame transformations"
   ]
  },
  {
   "cell_type": "markdown",
   "metadata": {},
   "source": [
    "`astropy.coordinates` provides many tools to transform between different coordinate systems. For instance, we can use it to transform from ICRS coordinates (in ra and dec) to galactic coordinates.\n",
    "\n",
    "To understand the code in this section, it may help to read over the [overview of the astropy coordinates scheme](http://astropy.readthedocs.org/en/latest/coordinates/index.html#overview-of-astropy-coordinates-concepts).  The key bit to understand is that all coordinates in astropy are in particular \"frames\", and we can transform between a specific `SkyCoord` object from one frame to another.  For example, we can transform our previously-defined center of HCG7 from ICRS to Galactic coordinates:"
   ]
  },
  {
   "cell_type": "code",
   "execution_count": 74,
   "metadata": {
    "collapsed": true
   },
   "outputs": [],
   "source": [
    "hcg7_center = SkyCoord(9.81625*u.deg, 0.88806*u.deg, frame='icrs')"
   ]
  },
  {
   "cell_type": "markdown",
   "metadata": {},
   "source": [
    "There are three different ways of transforming coordinates. Each has it's pros and cons, but should give you the same result. The first way to transform to other built-in frames is by specifying those attributes. For instance, let's see the location of HCG7 in galactic coordinates."
   ]
  },
  {
   "cell_type": "markdown",
   "metadata": {},
   "source": [
    "#### Transforming coordinates using attributes:"
   ]
  },
  {
   "cell_type": "code",
   "execution_count": 69,
   "metadata": {},
   "outputs": [
    {
     "data": {
      "text/plain": [
       "<SkyCoord (Galactic): (l, b) in deg\n",
       "    ( 116.47556813, -61.83099472)>"
      ]
     },
     "execution_count": 69,
     "metadata": {},
     "output_type": "execute_result"
    }
   ],
   "source": [
    "hcg7_center.galactic"
   ]
  },
  {
   "cell_type": "markdown",
   "metadata": {},
   "source": [
    "#### Transforming coordinates using the transform_to() method and other Coordinate object"
   ]
  },
  {
   "cell_type": "markdown",
   "metadata": {},
   "source": [
    "The above is actually a special \"quick-access\" form which internally does the same as what's in the cell below: uses the [`transform_to()`](http://docs.astropy.org/en/stable/api/astropy.coordinates.SkyCoord.html#astropy.coordinates.SkyCoord.transform_to) method to convert from one frame to another. We can pass in an empty coordinate class to specify what coordinate system to transform into."
   ]
  },
  {
   "cell_type": "code",
   "execution_count": 76,
   "metadata": {},
   "outputs": [
    {
     "data": {
      "text/plain": [
       "<SkyCoord (Galactic): (l, b) in deg\n",
       "    ( 116.47556813, -61.83099472)>"
      ]
     },
     "execution_count": 76,
     "metadata": {},
     "output_type": "execute_result"
    }
   ],
   "source": [
    "from astropy.coordinates import Galactic  # new coordinate baseclass\n",
    "hcg7_center.transform_to(Galactic())"
   ]
  },
  {
   "cell_type": "markdown",
   "metadata": {},
   "source": [
    "#### Transforming coordinates using the transform_to() method and a string"
   ]
  },
  {
   "cell_type": "markdown",
   "metadata": {},
   "source": [
    "Finally, we can transform using the `transform_to()` method and a string with the name of a built-in coordinate system."
   ]
  },
  {
   "cell_type": "code",
   "execution_count": 75,
   "metadata": {},
   "outputs": [
    {
     "data": {
      "text/plain": [
       "<SkyCoord (Galactic): (l, b) in deg\n",
       "    ( 116.47556813, -61.83099472)>"
      ]
     },
     "execution_count": 75,
     "metadata": {},
     "output_type": "execute_result"
    }
   ],
   "source": [
    "hcg7_center.transform_to('galactic')"
   ]
  },
  {
   "cell_type": "markdown",
   "metadata": {},
   "source": [
    "We can transform to many coordinate frames and equinoxes. \n",
    "\n",
    "By default these coordinates are available:\n",
    "\n",
    " - ICRS\n",
    " - FK5\n",
    " - FK4\n",
    " - FK4NoETerms\n",
    " - Galactic\n",
    " - Galactocentric\n",
    " - Supergalactic\n",
    " - AltAz\n",
    " - GCRS\n",
    " - CIRS\n",
    " - ITRS\n",
    " - HCRS\n",
    " - PrecessedGeocentric\n",
    " - GeocentricTrueEcliptic'\n",
    " - BarycentricTrueEcliptic\n",
    " - HeliocentricTrueEcliptic'\n",
    " - SkyOffsetFrame\n",
    " - GalacticLSR\n",
    " - LSR\n",
    " - BaseEclipticFrame\n",
    " - BaseRADecFrame\n",
    "\n",
    "Let's focus on just a few of these. We can try FK5 coordinates next:"
   ]
  },
  {
   "cell_type": "code",
   "execution_count": 34,
   "metadata": {},
   "outputs": [
    {
     "name": "stdout",
     "output_type": "stream",
     "text": [
      "<SkyCoord (FK5: equinox=J2000.000): (ra, dec) in deg\n",
      "    ( 9.81625645,  0.88806155)>\n"
     ]
    }
   ],
   "source": [
    "hcg7_center_fk5 = hcg7_center.transform_to('fk5')  # c_icrs.fk5 does the same thing\n",
    "print(hcg7_center_fk5)"
   ]
  },
  {
   "cell_type": "markdown",
   "metadata": {},
   "source": [
    "And, as with the galactic coordinates, we can acheive the same result by importing the FK5 class from the astropy.coordinates package. This also allows us to change the equinox."
   ]
  },
  {
   "cell_type": "code",
   "execution_count": 35,
   "metadata": {},
   "outputs": [
    {
     "data": {
      "text/plain": [
       "<SkyCoord (FK5: equinox=J1975.000): (ra, dec) in deg\n",
       "    ( 9.49565759,  0.75084648)>"
      ]
     },
     "execution_count": 35,
     "metadata": {},
     "output_type": "execute_result"
    }
   ],
   "source": [
    "from astropy.coordinates import FK5\n",
    "hcg7_center_fk5.transform_to(FK5(equinox='J1975'))  # precess to a different equinox  "
   ]
  },
  {
   "cell_type": "markdown",
   "metadata": {},
   "source": [
    "<div class=\"alert alert-warning\">\n",
    "\n",
    "**Beware:** Changing frames also changes some of the attributes of the object, but usually in a way that makes sense. The following code should fail.\n",
    "\n",
    "</div>"
   ]
  },
  {
   "cell_type": "code",
   "execution_count": 36,
   "metadata": {},
   "outputs": [
    {
     "ename": "AttributeError",
     "evalue": "'SkyCoord' object has no attribute 'ra'",
     "output_type": "error",
     "traceback": [
      "\u001b[0;31m---------------------------------------------------------------------------\u001b[0m",
      "\u001b[0;31mAttributeError\u001b[0m                            Traceback (most recent call last)",
      "\u001b[0;32m<ipython-input-36-d7bc134707f6>\u001b[0m in \u001b[0;36m<module>\u001b[0;34m()\u001b[0m\n\u001b[0;32m----> 1\u001b[0;31m \u001b[0mhcg7_center\u001b[0m\u001b[0;34m.\u001b[0m\u001b[0mgalactic\u001b[0m\u001b[0;34m.\u001b[0m\u001b[0mra\u001b[0m  \u001b[0;31m# should fail because galactic coordinates are l/b not RA/Dec\u001b[0m\u001b[0;34m\u001b[0m\u001b[0m\n\u001b[0m",
      "\u001b[0;32m~/anaconda/envs/astropy-tutorials/lib/python3.6/site-packages/astropy/coordinates/sky_coordinate.py\u001b[0m in \u001b[0;36m__getattr__\u001b[0;34m(self, attr)\u001b[0m\n\u001b[1;32m    518\u001b[0m         \u001b[0;31m# Fail\u001b[0m\u001b[0;34m\u001b[0m\u001b[0;34m\u001b[0m\u001b[0m\n\u001b[1;32m    519\u001b[0m         raise AttributeError(\"'{0}' object has no attribute '{1}'\"\n\u001b[0;32m--> 520\u001b[0;31m                              .format(self.__class__.__name__, attr))\n\u001b[0m\u001b[1;32m    521\u001b[0m \u001b[0;34m\u001b[0m\u001b[0m\n\u001b[1;32m    522\u001b[0m     \u001b[0;32mdef\u001b[0m \u001b[0m__setattr__\u001b[0m\u001b[0;34m(\u001b[0m\u001b[0mself\u001b[0m\u001b[0;34m,\u001b[0m \u001b[0mattr\u001b[0m\u001b[0;34m,\u001b[0m \u001b[0mval\u001b[0m\u001b[0;34m)\u001b[0m\u001b[0;34m:\u001b[0m\u001b[0;34m\u001b[0m\u001b[0m\n",
      "\u001b[0;31mAttributeError\u001b[0m: 'SkyCoord' object has no attribute 'ra'"
     ]
    }
   ],
   "source": [
    "hcg7_center.galactic.ra  # should fail because galactic coordinates are l/b not RA/Dec"
   ]
  },
  {
   "cell_type": "markdown",
   "metadata": {},
   "source": [
    "Instead, we now have access the l and b attributes:"
   ]
  },
  {
   "cell_type": "code",
   "execution_count": 12,
   "metadata": {},
   "outputs": [
    {
     "name": "stdout",
     "output_type": "stream",
     "text": [
      "116d28m32.0453s -61d49m51.581s\n"
     ]
    }
   ],
   "source": [
    "print(hcg7_center.galactic.l, hcg7_center.galactic.b)"
   ]
  },
  {
   "cell_type": "markdown",
   "metadata": {},
   "source": [
    "# Section 2:"
   ]
  },
  {
   "cell_type": "markdown",
   "metadata": {},
   "source": [
    "## Transform frames to get to AltAz\n"
   ]
  },
  {
   "cell_type": "markdown",
   "metadata": {},
   "source": [
    "To actually do anything with observability we need to convert to a frame local to an on-earth observer.  By far the most common choice is horizontal coordinates, or \"AltAz\" coordinates.  We first need to specify both where and when we want to try to observe.\n",
    "\n",
    "We will need to import a few more specific modules:"
   ]
  },
  {
   "cell_type": "code",
   "execution_count": 37,
   "metadata": {
    "collapsed": true
   },
   "outputs": [],
   "source": [
    "from astropy.coordinates import EarthLocation\n",
    "from astropy.time import Time"
   ]
  },
  {
   "cell_type": "markdown",
   "metadata": {},
   "source": [
    "Lets first see the sky position at Kitt Peak National Observatory in Arizona."
   ]
  },
  {
   "cell_type": "code",
   "execution_count": 38,
   "metadata": {
    "collapsed": true
   },
   "outputs": [],
   "source": [
    "# Kitt Peak, Arizona\n",
    "kitt_peak = EarthLocation(lat='31d57.5m', lon='-111d35.8m', height=2096*u.m)"
   ]
  },
  {
   "cell_type": "markdown",
   "metadata": {},
   "source": [
    "For known observing sites we can enter the name directly."
   ]
  },
  {
   "cell_type": "code",
   "execution_count": 39,
   "metadata": {
    "collapsed": true
   },
   "outputs": [],
   "source": [
    "kitt_peak = EarthLocation.of_site('Kitt Peak')"
   ]
  },
  {
   "cell_type": "markdown",
   "metadata": {},
   "source": [
    "We can see the list of observing sites:"
   ]
  },
  {
   "cell_type": "code",
   "execution_count": 40,
   "metadata": {},
   "outputs": [
    {
     "data": {
      "text/plain": [
       "['',\n",
       " '',\n",
       " '',\n",
       " 'ALMA',\n",
       " 'Anglo-Australian Observatory',\n",
       " 'Apache Point',\n",
       " 'Apache Point Observatory',\n",
       " 'Atacama Large Millimeter Array',\n",
       " 'BAO',\n",
       " 'Beijing XingLong Observatory',\n",
       " 'Black Moshannon Observatory',\n",
       " 'CHARA',\n",
       " 'Canada-France-Hawaii Telescope',\n",
       " 'Catalina Observatory',\n",
       " 'Cerro Pachon',\n",
       " 'Cerro Paranal',\n",
       " 'Cerro Tololo',\n",
       " 'Cerro Tololo Interamerican Observatory',\n",
       " 'DCT',\n",
       " 'Discovery Channel Telescope',\n",
       " 'Dominion Astrophysical Observatory',\n",
       " 'Gemini South',\n",
       " 'Hale Telescope',\n",
       " 'Haleakala Observatories',\n",
       " 'Happy Jack',\n",
       " 'Jansky Very Large Array',\n",
       " 'Keck Observatory',\n",
       " 'Kitt Peak',\n",
       " 'Kitt Peak National Observatory',\n",
       " 'La Silla Observatory',\n",
       " 'Large Binocular Telescope',\n",
       " 'Las Campanas Observatory',\n",
       " 'Lick Observatory',\n",
       " 'Lowell Observatory',\n",
       " 'Manastash Ridge Observatory',\n",
       " 'McDonald Observatory',\n",
       " 'Medicina',\n",
       " 'Medicina Dish',\n",
       " 'Michigan-Dartmouth-MIT Observatory',\n",
       " 'Mount Graham International Observatory',\n",
       " 'Mt Graham',\n",
       " 'Mt. Ekar 182 cm. Telescope',\n",
       " 'Mt. Stromlo Observatory',\n",
       " 'Multiple Mirror Telescope',\n",
       " 'NOV',\n",
       " 'National Observatory of Venezuela',\n",
       " 'Noto',\n",
       " 'Observatorio Astronomico Nacional, San Pedro Martir',\n",
       " 'Observatorio Astronomico Nacional, Tonantzintla',\n",
       " 'Palomar',\n",
       " 'Paranal Observatory',\n",
       " 'Roque de los Muchachos',\n",
       " 'SAAO',\n",
       " 'SALT',\n",
       " 'SRT',\n",
       " 'Siding Spring Observatory',\n",
       " 'Southern African Large Telescope',\n",
       " 'Subaru',\n",
       " 'Subaru Telescope',\n",
       " 'Sutherland',\n",
       " 'Vainu Bappu Observatory',\n",
       " 'Very Large Array',\n",
       " 'W. M. Keck Observatory',\n",
       " 'Whipple',\n",
       " 'Whipple Observatory',\n",
       " 'aao',\n",
       " 'alma',\n",
       " 'apo',\n",
       " 'bmo',\n",
       " 'cfht',\n",
       " 'ctio',\n",
       " 'dao',\n",
       " 'dct',\n",
       " 'ekar',\n",
       " 'example_site',\n",
       " 'flwo',\n",
       " 'gemini_north',\n",
       " 'gemini_south',\n",
       " 'gemn',\n",
       " 'gems',\n",
       " 'greenwich',\n",
       " 'haleakala',\n",
       " 'irtf',\n",
       " 'keck',\n",
       " 'kpno',\n",
       " 'lapalma',\n",
       " 'lasilla',\n",
       " 'lbt',\n",
       " 'lco',\n",
       " 'lick',\n",
       " 'lowell',\n",
       " 'mcdonald',\n",
       " 'mdm',\n",
       " 'medicina',\n",
       " 'mmt',\n",
       " 'mro',\n",
       " 'mso',\n",
       " 'mtbigelow',\n",
       " 'mwo',\n",
       " 'noto',\n",
       " 'ohp',\n",
       " 'paranal',\n",
       " 'salt',\n",
       " 'sirene',\n",
       " 'spm',\n",
       " 'srt',\n",
       " 'sso',\n",
       " 'tona',\n",
       " 'vbo',\n",
       " 'vla']"
      ]
     },
     "execution_count": 40,
     "metadata": {},
     "output_type": "execute_result"
    }
   ],
   "source": [
    "EarthLocation.get_site_names()"
   ]
  },
  {
   "cell_type": "markdown",
   "metadata": {},
   "source": [
    "Let's check the altitude at 1am UTC, which is 6pm AZ mountain time"
   ]
  },
  {
   "cell_type": "code",
   "execution_count": 41,
   "metadata": {
    "collapsed": true
   },
   "outputs": [],
   "source": [
    "observing_time = Time('2010-12-21 1:00')"
   ]
  },
  {
   "cell_type": "markdown",
   "metadata": {},
   "source": [
    "Now we use these to create an `AltAz` frame object.  Note that this frame has some other information about the atmosphere, which can be used to correct for atmospheric refraction.  Here we leave that alone, because the default is to ignore this effect (by setting the pressure to 0)."
   ]
  },
  {
   "cell_type": "code",
   "execution_count": 42,
   "metadata": {},
   "outputs": [
    {
     "name": "stdout",
     "output_type": "stream",
     "text": [
      "<AltAz Frame (obstime=2010-12-21 01:00:00.000, location=(-1994502.6043061386, -5037538.54232911, 3358104.9969029757) m, pressure=0.0 hPa, temperature=0.0 deg_C, relative_humidity=0, obswl=1.0 micron)>\n"
     ]
    }
   ],
   "source": [
    "from astropy.coordinates import AltAz\n",
    "\n",
    "aa = AltAz(location=kitt_peak, obstime=observing_time)\n",
    "print(aa)"
   ]
  },
  {
   "cell_type": "markdown",
   "metadata": {},
   "source": [
    "Now we can just transform our ICRS `SkyCoord` to `AltAz` to get the location in the sky over Kitt Peak at the requested time."
   ]
  },
  {
   "cell_type": "code",
   "execution_count": 43,
   "metadata": {},
   "outputs": [
    {
     "name": "stderr",
     "output_type": "stream",
     "text": [
      "WARNING: failed to download http://maia.usno.navy.mil/ser7/finals2000A.all, using local IERS-B: db type is dbm.gnu, but the module is not available [astropy.utils.iers.iers]\n"
     ]
    },
    {
     "data": {
      "text/plain": [
       "<SkyCoord (AltAz: obstime=2010-12-21 01:00:00.000, location=(-1994502.6043061386, -5037538.54232911, 3358104.9969029757) m, pressure=0.0 hPa, temperature=0.0 deg_C, relative_humidity=0, obswl=1.0 micron): (az, alt) in deg\n",
       "    ( 149.19234442,  55.05673073)>"
      ]
     },
     "execution_count": 43,
     "metadata": {},
     "output_type": "execute_result"
    }
   ],
   "source": [
    "hcg7_center.transform_to(aa)"
   ]
  },
  {
   "cell_type": "markdown",
   "metadata": {},
   "source": [
    "To look at just the altitude we can `alt' attribute:"
   ]
  },
  {
   "cell_type": "code",
   "execution_count": 44,
   "metadata": {},
   "outputs": [
    {
     "name": "stderr",
     "output_type": "stream",
     "text": [
      "WARNING: failed to download http://maia.usno.navy.mil/ser7/finals2000A.all, using local IERS-B: db type is dbm.gnu, but the module is not available [astropy.utils.iers.iers]\n"
     ]
    },
    {
     "data": {
      "text/latex": [
       "$55^\\circ03{}^\\prime24.2306{}^{\\prime\\prime}$"
      ],
      "text/plain": [
       "<Latitude 55.05673073215098 deg>"
      ]
     },
     "execution_count": 44,
     "metadata": {},
     "output_type": "execute_result"
    }
   ],
   "source": [
    "hcg7_center.transform_to(aa).alt"
   ]
  },
  {
   "cell_type": "markdown",
   "metadata": {},
   "source": [
    "Alright, it's at 55 degrees at 6pm, but that's pretty early to be observing.  We could just try various times one at a time to see if the airmass is at a darker time, but we can do better: lets try to create an airmass plot."
   ]
  },
  {
   "cell_type": "code",
   "execution_count": 47,
   "metadata": {},
   "outputs": [
    {
     "name": "stderr",
     "output_type": "stream",
     "text": [
      "WARNING: failed to download http://maia.usno.navy.mil/ser7/finals2000A.all, using local IERS-B: db type is dbm.gnu, but the module is not available [astropy.utils.iers.iers]\n"
     ]
    },
    {
     "data": {
      "image/png": "[encoded data removed]",
      "text/plain": [
       "<matplotlib.figure.Figure at 0x11285d5c0>"
      ]
     },
     "metadata": {},
     "output_type": "display_data"
    }
   ],
   "source": [
    "# this gives a Time object with an *array* of times\n",
    "delta_hours = np.linspace(0, 6, 100)*u.hour\n",
    "full_night_times = observing_time + delta_hours\n",
    "full_night_aa_frames = AltAz(location=kitt_peak, obstime=full_night_times)\n",
    "full_night_aa_coos = hcg7_center.transform_to(full_night_aa_frames)\n",
    "\n",
    "plt.plot(delta_hours, full_night_aa_coos.secz)\n",
    "plt.xlabel('Hours from 6pm AZ time')\n",
    "plt.ylabel('Airmass [Sec(z)]')\n",
    "plt.ylim(0.9,3)\n",
    "plt.tight_layout()"
   ]
  },
  {
   "cell_type": "markdown",
   "metadata": {},
   "source": [
    "Great!  Looks like it's at the lowest airmass in another hour or so (7pm).  But might that might still be twilight... When should we start observing for proper dark skies?  Fortunately, astropy provides a ``get_sun`` function that can be used to check this.  Lets use it to check if we're in 18-degree twilight or not."
   ]
  },
  {
   "cell_type": "code",
   "execution_count": 48,
   "metadata": {},
   "outputs": [
    {
     "name": "stderr",
     "output_type": "stream",
     "text": [
      "WARNING: failed to download http://maia.usno.navy.mil/ser7/finals2000A.all, using local IERS-B: db type is dbm.gnu, but the module is not available [astropy.utils.iers.iers]\n"
     ]
    },
    {
     "data": {
      "image/png": "[encoded data removed]",
      "text/plain": [
       "<matplotlib.figure.Figure at 0x10ef57390>"
      ]
     },
     "metadata": {},
     "output_type": "display_data"
    }
   ],
   "source": [
    "from astropy.coordinates import get_sun\n",
    "\n",
    "full_night_sun_coos = get_sun(full_night_times).transform_to(full_night_aa_frames)\n",
    "plt.plot(delta_hours, full_night_sun_coos.alt.deg)\n",
    "plt.axhline(-18, color='k')\n",
    "plt.xlabel('Hours from 6pm AZ time')\n",
    "plt.ylabel('Sun altitude')\n",
    "plt.tight_layout()"
   ]
  },
  {
   "cell_type": "markdown",
   "metadata": {},
   "source": [
    "Looks like it's just below 18 degrees at 7, so you should be good to go!"
   ]
  },
  {
   "cell_type": "markdown",
   "metadata": {},
   "source": [
    "We can also look at the object altitude at the present time and date.  **Today's date seems to be outside the limits of the IERS data, is this a problem??**"
   ]
  },
  {
   "cell_type": "code",
   "execution_count": 77,
   "metadata": {},
   "outputs": [
    {
     "name": "stdout",
     "output_type": "stream",
     "text": [
      "<SkyCoord (AltAz: obstime=2016-12-21 01:00:00.000, location=(-1994502.6043061386, -5037538.54232911, 3358104.9969029757) m, pressure=0.0 hPa, temperature=0.0 deg_C, relative_humidity=0, obswl=1.0 micron): (az, alt) in deg\n",
      "    ( 149.90100038,  55.28257573)>\n"
     ]
    },
    {
     "name": "stderr",
     "output_type": "stream",
     "text": [
      "WARNING: failed to download http://maia.usno.navy.mil/ser7/finals2000A.all, using local IERS-B: db type is dbm.gnu, but the module is not available [astropy.utils.iers.iers]\n",
      "WARNING: Tried to get polar motions for times after IERS data is valid. Defaulting to polar motion from the 50-yr mean for those. This may affect precision at the 10s of arcsec level [astropy.coordinates.builtin_frames.utils]\n",
      "WARNING: (some) times are outside of range covered by IERS table. Assuming UT1-UTC=0 for coordinate transformations. [astropy.coordinates.builtin_frames.utils]\n"
     ]
    }
   ],
   "source": [
    "now = Time.now()\n",
    "hcg7_center = SkyCoord(9.81625*u.deg, 0.88806*u.deg, frame='icrs')\n",
    "kitt_peak_aa = AltAz(location=kitt_peak, obstime=now)\n",
    "print(hcg7_center.transform_to(kitt_peak_aa))"
   ]
  },
  {
   "cell_type": "markdown",
   "metadata": {},
   "source": [
    "## Exercises"
   ]
  },
  {
   "cell_type": "markdown",
   "metadata": {},
   "source": [
    "### Excercise 1"
   ]
  },
  {
   "cell_type": "markdown",
   "metadata": {},
   "source": [
    "Try to actually compute to some arbitrary precision (rather than eye-balling on a plot) when 18 degree twilight or sunrise/sunset hits on that night."
   ]
  },
  {
   "cell_type": "code",
   "execution_count": null,
   "metadata": {
    "collapsed": true
   },
   "outputs": [],
   "source": []
  },
  {
   "cell_type": "markdown",
   "metadata": {},
   "source": [
    "### Excercise 2"
   ]
  },
  {
   "cell_type": "markdown",
   "metadata": {},
   "source": [
    "Try converting the HCG7 coordinates to an equatorial frame at some other equinox a while in the past (like J2000).  Do you see the precession of the equinoxes?\n",
    "\n",
    "Hint: To see a diagram of the supported frames look [here](http://docs.astropy.org/en/stable/coordinates/#module-astropy.coordinates) or the list above. One of those will do what you need if you give it the right frame attributes."
   ]
  },
  {
   "cell_type": "code",
   "execution_count": null,
   "metadata": {
    "collapsed": true
   },
   "outputs": [],
   "source": []
  },
  {
   "cell_type": "markdown",
   "metadata": {},
   "source": [
    "### Excercise 3"
   ]
  },
  {
   "cell_type": "markdown",
   "metadata": {},
   "source": [
    "Try looking at the altitude of HCG7 at another observatory."
   ]
  },
  {
   "cell_type": "code",
   "execution_count": null,
   "metadata": {
    "collapsed": true
   },
   "outputs": [],
   "source": []
  },
  {
   "cell_type": "markdown",
   "metadata": {},
   "source": [
    "## Wrap-up"
   ]
  },
  {
   "cell_type": "markdown",
   "metadata": {},
   "source": [
    "For lots more documentation on the many other features of `astropy.coordinates`, check out [its section of the documentation](http://astropy.readthedocs.org/en/latest/coordinates/index.html).\n",
    "\n",
    "You might also be interested in [the astroplan affiliated package](http://astroplan.readthedocs.org/), which uses the `astropy.coordinates` to do more advanced versions of the tasks in the last section of this tutorial."
   ]
  }
 ],
 "metadata": {
  "kernelspec": {
   "display_name": "Python [conda env:astropy-tutorials]",
   "language": "python",
   "name": "conda-env-astropy-tutorials-py"
  },
  "language_info": {
   "codemirror_mode": {
    "name": "ipython",
    "version": 3
   },
   "file_extension": ".py",
   "mimetype": "text/x-python",
   "name": "python",
   "nbconvert_exporter": "python",
   "pygments_lexer": "ipython3",
   "version": "3.6.2"
  }
 },
 "nbformat": 4,
 "nbformat_minor": 2
}
