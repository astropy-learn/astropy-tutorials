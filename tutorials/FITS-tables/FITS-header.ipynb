{
 "metadata": {
  "name": ""
 },
 "nbformat": 3,
 "nbformat_minor": 0,
 "worksheets": [
  {
   "cells": [
    {
     "cell_type": "code",
     "collapsed": false,
     "input": [
      "import numpy as np\n",
      "import matplotlib.pyplot as plt"
     ],
     "language": "python",
     "metadata": {},
     "outputs": [],
     "prompt_number": 1
    },
    {
     "cell_type": "markdown",
     "metadata": {},
     "source": [
      "The following line is needed to download the example FITS files used in this tutorial."
     ]
    },
    {
     "cell_type": "code",
     "collapsed": false,
     "input": [
      "from astropy.utils.data import download_file"
     ],
     "language": "python",
     "metadata": {},
     "outputs": [],
     "prompt_number": 1
    },
    {
     "cell_type": "heading",
     "level": 1,
     "metadata": {},
     "source": [
      "Viewing and manipulating data from FITS tables"
     ]
    },
    {
     "cell_type": "code",
     "collapsed": false,
     "input": [
      "from astropy.io import fits"
     ],
     "language": "python",
     "metadata": {},
     "outputs": [],
     "prompt_number": 2
    },
    {
     "cell_type": "markdown",
     "metadata": {},
     "source": [
      "FITS files can often contain large amount of multi-dimensional data and tables.  In this particular example, I will open a FITS file with information from Chandra's HETG-S instrument."
     ]
    },
    {
     "cell_type": "code",
     "collapsed": false,
     "input": [
      "event_filename = download_file( 'http://data.astropy.org/tutorials/FITS-tables/chandra_events.fits', cache=True )"
     ],
     "language": "python",
     "metadata": {},
     "outputs": [
      {
       "output_type": "stream",
       "stream": "stdout",
       "text": [
        "Downloading http://data.astropy.org/tutorials/FITS-tables/chandra_events.fits"
       ]
      },
      {
       "output_type": "stream",
       "stream": "stdout",
       "text": [
        " [Done]\n"
       ]
      }
     ],
     "prompt_number": 3
    },
    {
     "cell_type": "heading",
     "level": 2,
     "metadata": {},
     "source": [
      "Opening the FITS file and viewing table contents"
     ]
    },
    {
     "cell_type": "markdown",
     "metadata": {},
     "source": [
      "Since the file is big, I will open with memmap=True to prevent RAM storage issues."
     ]
    },
    {
     "cell_type": "code",
     "collapsed": false,
     "input": [
      "pha_list = fits.open(event_filename, memmap=True)"
     ],
     "language": "python",
     "metadata": {},
     "outputs": [],
     "prompt_number": 4
    },
    {
     "cell_type": "code",
     "collapsed": false,
     "input": [
      "pha_list.info()"
     ],
     "language": "python",
     "metadata": {},
     "outputs": [
      {
       "output_type": "stream",
       "stream": "stdout",
       "text": [
        "Filename: /Users/lia/.astropy/cache/download/906ea1e642b1cb91dfa26ef2a2a935ba\n",
        "No.    Name         Type      Cards   Dimensions   Format\n",
        "0    PRIMARY     PrimaryHDU      32   ()              \n",
        "1    EVENTS      BinTableHDU    937   51850R x 26C   [1D, 1J, 1E, 1E, 1I, 1I, 1I, 1I, 1E, 1E, 1E, 1E, 1I, 1J, 1I, 1E, 1I, 1I, 1I, 1I, 1E, 1E, 1I, 1I, 1I, 32X]   \n",
        "2    GTI         BinTableHDU     28   1R x 2C      [1D, 1D]   \n",
        "3    GTI         BinTableHDU     28   1R x 2C      [1D, 1D]   \n",
        "4    GTI         BinTableHDU     28   1R x 2C      [1D, 1D]   \n",
        "5    GTI         BinTableHDU     28   1R x 2C      [1D, 1D]   \n",
        "6    REGION      BinTableHDU    264   3R x 9C      [1I, 16A, 1E, 1E, 2E, 1E, 16A, 1I, 1I]   \n"
       ]
      }
     ],
     "prompt_number": 5
    },
    {
     "cell_type": "markdown",
     "metadata": {},
     "source": [
      "I'm interested in reading EVENTS, which contains information about each X-ray photon that hit the detector."
     ]
    },
    {
     "cell_type": "markdown",
     "metadata": {},
     "source": [
      "To find out what information the table contains, I will print the column names."
     ]
    },
    {
     "cell_type": "code",
     "collapsed": false,
     "input": [
      "print pha_list[1].columns"
     ],
     "language": "python",
     "metadata": {},
     "outputs": [
      {
       "output_type": "stream",
       "stream": "stdout",
       "text": [
        "ColDefs(\n",
        "    name = 'time'; format = '1D'; unit = 's'\n",
        "    name = 'expno'; format = '1J'\n",
        "    name = 'tg_r'; format = '1E'; unit = 'deg'\n",
        "    name = 'tg_d'; format = '1E'; unit = 'deg'\n",
        "    name = 'chipx'; format = '1I'; unit = 'pixel'\n",
        "    name = 'chipy'; format = '1I'; unit = 'pixel'\n",
        "    name = 'tdetx'; format = '1I'; unit = 'pixel'\n",
        "    name = 'tdety'; format = '1I'; unit = 'pixel'\n",
        "    name = 'detx'; format = '1E'; unit = 'pixel'\n",
        "    name = 'dety'; format = '1E'; unit = 'pixel'\n",
        "    name = 'x'; format = '1E'; unit = 'pixel'\n",
        "    name = 'y'; format = '1E'; unit = 'pixel'\n",
        "    name = 'ccd_id'; format = '1I'\n",
        "    name = 'pha'; format = '1J'; unit = 'adu'; null = 0\n",
        "    name = 'pi'; format = '1I'; unit = 'chan'; null = 0\n",
        "    name = 'energy'; format = '1E'; unit = 'eV'\n",
        "    name = 'grade'; format = '1I'\n",
        "    name = 'fltgrade'; format = '1I'\n",
        "    name = 'node_id'; format = '1I'\n",
        "    name = 'tg_m'; format = '1I'; null = 99\n",
        "    name = 'tg_lam'; format = '1E'; unit = 'angstrom'\n",
        "    name = 'tg_mlam'; format = '1E'; unit = 'angstrom'\n",
        "    name = 'tg_srcid'; format = '1I'\n",
        "    name = 'tg_part'; format = '1I'\n",
        "    name = 'tg_smap'; format = '1I'\n",
        "    name = 'status'; format = '32X'\n",
        ")\n"
       ]
      }
     ],
     "prompt_number": 6
    },
    {
     "cell_type": "markdown",
     "metadata": {},
     "source": [
      "Now I'll load the data into a separate variable."
     ]
    },
    {
     "cell_type": "code",
     "collapsed": false,
     "input": [
      "pha_data = pha_list[1].data"
     ],
     "language": "python",
     "metadata": {},
     "outputs": [],
     "prompt_number": 7
    },
    {
     "cell_type": "markdown",
     "metadata": {},
     "source": [
      "We can extract data from the table by referencing the column name."
     ]
    },
    {
     "cell_type": "markdown",
     "metadata": {},
     "source": [
      "For example, I'll make a histogram for the energy of each photon, giving us a sense for the spectrum (folded with the detector's efficiency)."
     ]
    },
    {
     "cell_type": "code",
     "collapsed": false,
     "input": [
      "NBINS = 500\n",
      "energy_hist = plt.hist(pha_data['energy'], NBINS)"
     ],
     "language": "python",
     "metadata": {},
     "outputs": [
      {
       "metadata": {},
       "output_type": "display_data",
       "png": "[encoded data removed]",
       "text": [
        "<matplotlib.figure.Figure at 0x11170b750>"
       ]
      }
     ],
     "prompt_number": 8
    },
    {
     "cell_type": "heading",
     "level": 2,
     "metadata": {},
     "source": [
      "Making a 2-D histogram with some table data"
     ]
    },
    {
     "cell_type": "markdown",
     "metadata": {},
     "source": [
      "I will make an image of the zeroth order with a 2-D histogram of the angular coordinates in the table."
     ]
    },
    {
     "cell_type": "markdown",
     "metadata": {},
     "source": [
      "First, I isolate the zeroth order events using np.where"
     ]
    },
    {
     "cell_type": "code",
     "collapsed": false,
     "input": [
      "i_zero = np.where(pha_data['tg_m'] == 0)[0]"
     ],
     "language": "python",
     "metadata": {},
     "outputs": [],
     "prompt_number": 9
    },
    {
     "cell_type": "heading",
     "level": 3,
     "metadata": {},
     "source": [
      "Method 1: Use numpy to make a 2-D histogram and imshow to display it"
     ]
    },
    {
     "cell_type": "markdown",
     "metadata": {},
     "source": [
      "This method allowed me to create an image without stretching"
     ]
    },
    {
     "cell_type": "code",
     "collapsed": false,
     "input": [
      "NBINS = (100,100)\n",
      "\n",
      "img_zero, yedges, xedges = np.histogram2d(pha_data['tg_r'][i_zero], pha_data['tg_d'][i_zero], NBINS)\n",
      "\n",
      "extent = [xedges[0], xedges[-1], yedges[0], yedges[-1]]\n",
      "\n",
      "plt.imshow(img_zero, extent=extent, interpolation='nearest', cmap='gist_yarg', origin='lower')\n",
      "\n",
      "plt.xlabel('tg_d [degrees]')\n",
      "plt.ylabel('tg_r [degrees]')\n",
      "\n",
      "# To see more color maps\n",
      "# http://wiki.scipy.org/Cookbook/Matplotlib/Show_colormaps"
     ],
     "language": "python",
     "metadata": {},
     "outputs": [
      {
       "metadata": {},
       "output_type": "pyout",
       "prompt_number": 10,
       "text": [
        "<matplotlib.text.Text at 0x110f0ffd0>"
       ]
      },
      {
       "metadata": {},
       "output_type": "display_data",
       "png": "[encoded data removed]",
       "text": [
        "<matplotlib.figure.Figure at 0x11173ad90>"
       ]
      }
     ],
     "prompt_number": 10
    },
    {
     "cell_type": "heading",
     "level": 3,
     "metadata": {},
     "source": [
      "Method 2: Use hist2d with a log-normal color scheme"
     ]
    },
    {
     "cell_type": "code",
     "collapsed": false,
     "input": [
      "from matplotlib.colors import LogNorm"
     ],
     "language": "python",
     "metadata": {},
     "outputs": [],
     "prompt_number": 11
    },
    {
     "cell_type": "code",
     "collapsed": false,
     "input": [
      "NBINS = (100,100)\n",
      "img_zero_mpl = plt.hist2d(pha_data['tg_r'][i_zero], pha_data['tg_d'][i_zero], NBINS, cmap='jet', norm=LogNorm())\n",
      "\n",
      "cbar = plt.colorbar(ticks=[1.0,3.0,6.0])\n",
      "cbar.ax.set_yticklabels(['1','3','6'])\n",
      "\n",
      "plt.xlabel('tg_r [degrees]')\n",
      "plt.ylabel('tg_d [degrees]')"
     ],
     "language": "python",
     "metadata": {},
     "outputs": [
      {
       "metadata": {},
       "output_type": "pyout",
       "prompt_number": 12,
       "text": [
        "<matplotlib.text.Text at 0x111fa38d0>"
       ]
      },
      {
       "metadata": {},
       "output_type": "display_data",
       "png": "[encoded data removed]",
       "text": [
        "<matplotlib.figure.Figure at 0x111f9fb90>"
       ]
      }
     ],
     "prompt_number": 12
    },
    {
     "cell_type": "heading",
     "level": 2,
     "metadata": {},
     "source": [
      "Close the FITS file"
     ]
    },
    {
     "cell_type": "code",
     "collapsed": false,
     "input": [
      "pha_list.close()"
     ],
     "language": "python",
     "metadata": {},
     "outputs": [],
     "prompt_number": 13
    }
   ],
   "metadata": {}
  }
 ]
}