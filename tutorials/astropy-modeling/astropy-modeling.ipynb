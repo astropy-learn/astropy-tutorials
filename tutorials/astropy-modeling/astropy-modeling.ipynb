{
 "cells": [
  {
   "cell_type": "markdown",
   "metadata": {},
   "source": [
    "# Fitting data with `astropy.modeling`"
   ]
  },
  {
   "cell_type": "markdown",
   "metadata": {},
   "source": [
    "**Authors:** Lia Corrales, Charee Peters, Anna Williams\n",
    "\n",
    "**Learning Goals**\n",
    "- Downloading data with `astroquery`\n",
    "- Modeling data with `astropy.modeling`\n",
    "- Plot with `matplotlib.pyplot.errobar` and play with parameters\n",
    "- Write a function with a formatted doc string\n",
    "- Define fit statistic\n",
    "- Use `scipy.optimize`\n",
    "- Combine `astropy.models` (e.g. a line plus a gaussian)\n",
    "\n",
    "**Keywords:** \n",
    "Models, plots, errorbars, fitting, data retrieval, documentation, doc string, astroquery, matplotlib, scipy, astropy, statistics, Vizier"
   ]
  },
  {
   "cell_type": "markdown",
   "metadata": {},
   "source": [
    "In this tutorial we will pull published cepheid variable data from Vizier using astroquery.  We use the astropy.modeling package to fit a line to the data set.  Along the way, we explore ways to visualize the data and fitting results using matplotlib.pyplot.errorbar."
   ]
  },
  {
   "cell_type": "code",
   "execution_count": 1,
   "metadata": {},
   "outputs": [],
   "source": [
    "import numpy as np\n",
    "import matplotlib.pyplot as plt\n",
    "\n",
    "import astropy.units as u\n",
    "from astropy.modeling import models, fitting\n",
    "\n",
    "from astroquery.vizier import Vizier\n",
    "\n",
    "# Automatically displays plots in notebook\n",
    "%matplotlib inline  "
   ]
  },
  {
   "cell_type": "markdown",
   "metadata": {},
   "source": [
    "## Load some data with `astroquery`"
   ]
  },
  {
   "cell_type": "markdown",
   "metadata": {},
   "source": [
    "We are interested in using cepheid variable data from [Bhardwaj et al. 2017](https://www.aanda.org/articles/aa/pdf/2017/09/aa30841-17.pdf)...\n",
    "We can pull the data from [Vizier](http://astroquery.readthedocs.io/en/latest/vizier/vizier.html#) using [astroquery](http://astroquery.readthedocs.io/en/latest/index.html)...\n"
   ]
  },
  {
   "cell_type": "code",
   "execution_count": 2,
   "metadata": {},
   "outputs": [
    {
     "name": "stdout",
     "output_type": "stream",
     "text": [
      "{'J/A+A/605/A100': 'VVV survey Galactic Bulge Pop. II Cepheids (Bhardwaj+, 2017)', 'J/MNRAS/447/3342': 'Galactic and LMC Cepheids Fourier parameters (Bhardwaj+, 2015)'}\n"
     ]
    }
   ],
   "source": [
    "# Search for the data\n",
    "catalog_list = Vizier.find_catalogs('bhardwaj cepheid')\n",
    "\n",
    "# Look at which catalogs by Bhwardwaj are available on Vizier.\n",
    "# We can also use the description keyword to get information \n",
    "# about the publication associated with each catalog.\n",
    "print({k:v.description for k,v in catalog_list.items()})"
   ]
  },
  {
   "cell_type": "code",
   "execution_count": 3,
   "metadata": {},
   "outputs": [
    {
     "name": "stdout",
     "output_type": "stream",
     "text": [
      "TableList with 1 tables:\n",
      "\t'0:J/A+A/605/A100/table1' with 16 column(s) and 50 row(s) \n"
     ]
    }
   ],
   "source": [
    "# We want the most recent catalog from J/A+A/605/A100\n",
    "catalog_test = Vizier.get_catalogs('J/A+A/605/A100') \n",
    "\n",
    "# Take a look at what we grabbed\n",
    "print(catalog_test)"
   ]
  },
  {
   "cell_type": "markdown",
   "metadata": {},
   "source": [
    "If we take a look at [Bhardwaj et al. 2017](https://www.aanda.org/articles/aa/pdf/2017/09/aa30841-17.pdf), we see there are over 200 data points, but our catalog only contains 50 rows.  That's because the retrieval default only selects the first 50 rows of the catalog.  We need to reset that limit, and rerun `Vizier.get_catalogs()`."
   ]
  },
  {
   "cell_type": "code",
   "execution_count": 4,
   "metadata": {},
   "outputs": [
    {
     "name": "stdout",
     "output_type": "stream",
     "text": [
      "TableList with 1 tables:\n",
      "\t'0:J/A+A/605/A100/table1' with 16 column(s) and 264 row(s) \n"
     ]
    }
   ],
   "source": [
    "# it only has 50 rows, but the actual data set contains 200+ cepheids\n",
    "# we can change this by setting ROW_LIMIT\n",
    "Vizier.ROW_LIMIT = -1\n",
    "\n",
    "catalog = Vizier.get_catalogs('J/A+A/605/A100')\n",
    "print(catalog)"
   ]
  },
  {
   "cell_type": "markdown",
   "metadata": {},
   "source": [
    "This print tells us that there is 1 table (index = 0) with 16 columns and 24 rows."
   ]
  },
  {
   "cell_type": "code",
   "execution_count": 5,
   "metadata": {},
   "outputs": [
    {
     "name": "stdout",
     "output_type": "stream",
     "text": [
      "['VVV-ID', 'OGLE-ID', 'Period', 'Class', '__Vmag_', '__Imag_', '__Jmag_', '__Hmag_', '__Ksmag_', 'e__Jmag_', 'e__Hmag_', 'e__Ksmag_', 'E_J-Ks_', 'Simbad', '_RA', '_DE']\n"
     ]
    }
   ],
   "source": [
    "# let's see the available columns/keys in the dict\n",
    "print(catalog[0].keys())"
   ]
  },
  {
   "cell_type": "code",
   "execution_count": 6,
   "metadata": {
    "collapsed": true
   },
   "outputs": [],
   "source": [
    "def clean_data(data_list):\n",
    "    ## Returns a filter for cases where all the data is finite\n",
    "    filters = np.array([np.isfinite(d) for d in data_list], dtype=bool)\n",
    "    result  = np.ones_like(data_list[0])\n",
    "    for f in filters:\n",
    "        result = np.logical_and(result, f)\n",
    "    return result"
   ]
  },
  {
   "cell_type": "code",
   "execution_count": 7,
   "metadata": {},
   "outputs": [
    {
     "data": {
      "text/plain": [
       "<matplotlib.text.Text at 0x111ac60f0>"
      ]
     },
     "execution_count": 7,
     "metadata": {},
     "output_type": "execute_result"
    },
    {
     "data": {
      "image/png": "[encoded data removed]",
      "text/plain": [
       "<matplotlib.figure.Figure at 0x1119dc4a8>"
      ]
     },
     "metadata": {},
     "output_type": "display_data"
    }
   ],
   "source": [
    "# We want the Period and K-band magnitudes ('__Ksmag_')\n",
    "period = np.array(catalog[0]['Period']) # recast table.column to np.array\n",
    "k_mag = np.array(catalog[0]['__Ksmag_'])\n",
    "k_mag_err = np.array(catalog[0]['e__Ksmag_'])\n",
    "\n",
    "# after creating np.arrays from the table.column we ended up replacing\n",
    "# the column titles with nans so we need to filter them out\n",
    "myfilt = clean_data([period, k_mag, k_mag_err])\n",
    "period = period[myfilt]\n",
    "k_mag = k_mag[myfilt]\n",
    "k_mag_err = k_mag_err[myfilt]\n",
    "\n",
    "log10_period = np.log10(period) # the Period-Luminosity relation is actually \n",
    "                                # a log-log relation\n",
    "\n",
    "# visualize the data\n",
    "plt.errorbar(log10_period,k_mag,yerr=k_mag_err,fmt='k.')\n",
    "plt.xlabel('log( P[days] )')\n",
    "plt.ylabel(r'Ks')"
   ]
  },
  {
   "cell_type": "markdown",
   "metadata": {},
   "source": [
    "Remember the y-axis is in magnitudes, so the usual way to plot the data would be to have magnitudes ***decrease*** instead of increase.  Here is how we flip the y-axis."
   ]
  },
  {
   "cell_type": "code",
   "execution_count": 8,
   "metadata": {},
   "outputs": [
    {
     "data": {
      "image/png": "[encoded data removed]",
      "text/plain": [
       "<matplotlib.figure.Figure at 0x1119f7ac8>"
      ]
     },
     "metadata": {},
     "output_type": "display_data"
    }
   ],
   "source": [
    "plt.errorbar(log10_period,k_mag,yerr=k_mag_err,fmt='k.')\n",
    "plt.xlabel('log( P[days] )')\n",
    "plt.ylabel(r'Ks')\n",
    "plt.gca().invert_yaxis() # command to flip the y-axis"
   ]
  },
  {
   "cell_type": "markdown",
   "metadata": {},
   "source": [
    "Try using different values for `fmt=` to change the marker.\n",
    "\n",
    "Try changing the [marker](http://matplotlib.org/devdocs/api/_as_gen/matplotlib.axes.Axes.errorbar.html) to a different symbol."
   ]
  },
  {
   "cell_type": "markdown",
   "metadata": {},
   "source": [
    "## Write your own line function"
   ]
  },
  {
   "cell_type": "markdown",
   "metadata": {},
   "source": [
    "Let's write a function that returns a line with slope $m$ and y-intercept $b$, so that $y = mx + b$"
   ]
  },
  {
   "cell_type": "code",
   "execution_count": 9,
   "metadata": {
    "collapsed": true
   },
   "outputs": [],
   "source": [
    "def my_line_model(pars, x):\n",
    "    \"\"\"\n",
    "    Evaluate a straight line model at the input x values.\n",
    "    \n",
    "    Parameters\n",
    "    ----------\n",
    "    pars : list, array\n",
    "        This should be a length-2 array or list containing the \n",
    "        parameter values (m, b) for the (slope, intercept).\n",
    "    x : numeric, list, array\n",
    "        The coordinate values.\n",
    "        \n",
    "    Returns\n",
    "    -------\n",
    "    y : array\n",
    "        The computed y values at each input x.\n",
    "    \"\"\"\n",
    "    m, b = pars\n",
    "    return m * np.array(x) + b"
   ]
  },
  {
   "cell_type": "markdown",
   "metadata": {},
   "source": [
    "Now let's set up a grid of $x$ values and evaluate our line function with our favorite $m$ and $b$.  I will use the minimum and maximum values of the data points to define the endpoints of the $x$ grid."
   ]
  },
  {
   "cell_type": "code",
   "execution_count": 11,
   "metadata": {},
   "outputs": [],
   "source": [
    "nx    = 1000  # Number of x values to use in our grid\n",
    "xgrid = np.linspace(np.min(log10_period), np.max(log10_period), nx)\n",
    "\n",
    "m0, b0 = -1.0, 14.0 # don't forget, we flipped the y-axis, so the slope should be negative!\n",
    "model0 = my_line_model((m0,b0), xgrid)"
   ]
  },
  {
   "cell_type": "markdown",
   "metadata": {},
   "source": [
    "Now let's plot it with the scatter plot to see how our model compares."
   ]
  },
  {
   "cell_type": "code",
   "execution_count": 12,
   "metadata": {},
   "outputs": [
    {
     "data": {
      "text/plain": [
       "[<matplotlib.lines.Line2D at 0x111bcaf60>]"
      ]
     },
     "execution_count": 12,
     "metadata": {},
     "output_type": "execute_result"
    },
    {
     "data": {
      "image/png": "[encoded data removed]",
      "text/plain": [
       "<matplotlib.figure.Figure at 0x111bca710>"
      ]
     },
     "metadata": {},
     "output_type": "display_data"
    }
   ],
   "source": [
    "plt.errorbar(log10_period,k_mag,yerr=k_mag_err,fmt='k.')\n",
    "plt.xlabel('log( P[days] )')\n",
    "plt.ylabel(r'Ks')\n",
    "plt.gca().invert_yaxis()\n",
    "\n",
    "plt.plot(xgrid, model0)"
   ]
  },
  {
   "cell_type": "markdown",
   "metadata": {},
   "source": [
    "How did it do?  Pick some values of `m0` and `b0` that look good to you."
   ]
  },
  {
   "cell_type": "markdown",
   "metadata": {},
   "source": [
    "## Using `astropy.modeling` package to set up a line model\n",
    "\n",
    "The [astropy.modeling](http://docs.astropy.org/en/stable/modeling/) package contains many analytical functions that are generally useful.  You can find a list of them in [this table](http://docs.astropy.org/en/stable/modeling/#module-astropy.modeling.functional_models)\n",
    "\n",
    "\n",
    "Let's use one to replace our custom line model function.  We will use the `Linear1D` model object, which we will need to initiate with our favorite $m$ and $b$ values."
   ]
  },
  {
   "cell_type": "code",
   "execution_count": 13,
   "metadata": {
    "collapsed": true
   },
   "outputs": [],
   "source": [
    "linear_model = models.Linear1D(m0, b0)"
   ]
  },
  {
   "cell_type": "markdown",
   "metadata": {},
   "source": [
    "Now we can evaluate our model by supplying the `linear_model` object with the $x$ values we desire.\n",
    "\n",
    "Let's plot the linear model with our `xgrid` values, like before."
   ]
  },
  {
   "cell_type": "code",
   "execution_count": 14,
   "metadata": {},
   "outputs": [
    {
     "data": {
      "text/plain": [
       "[<matplotlib.lines.Line2D at 0x111ce0208>]"
      ]
     },
     "execution_count": 14,
     "metadata": {},
     "output_type": "execute_result"
    },
    {
     "data": {
      "image/png": "[encoded data removed]",
      "text/plain": [
       "<matplotlib.figure.Figure at 0x111d57748>"
      ]
     },
     "metadata": {},
     "output_type": "display_data"
    }
   ],
   "source": [
    "plt.errorbar(log10_period,k_mag,yerr=k_mag_err,fmt='k.')\n",
    "plt.xlabel('log( P[days] )')\n",
    "plt.ylabel(r'Ks')\n",
    "plt.gca().invert_yaxis()\n",
    "\n",
    "plt.plot(xgrid, linear_model(xgrid))"
   ]
  },
  {
   "cell_type": "markdown",
   "metadata": {},
   "source": [
    "## Using the `astropy.modeling` to fit the data"
   ]
  },
  {
   "cell_type": "markdown",
   "metadata": {},
   "source": [
    "We just fit the data by choosing the intercept and slope of the line.  This is not the most robust way of doing this.  Instead, we can use tools available in [astropy.modeling](http://docs.astropy.org/en/stable/modeling/) to fit a line.  \n",
    "We begin by initializing the model fitting by using our previous best guess for the line parameters and initializing the model fitter.  There are a variety of model fitters available in this package.  Here, we use [astropy.fitting.LinearLSQFitter](http://docs.astropy.org/en/stable/api/astropy.modeling.fitting.LinearLSQFitter.html#astropy.modeling.fitting.LinearLSQFitter) to do a linear least-squares fit to the data.  "
   ]
  },
  {
   "cell_type": "code",
   "execution_count": 15,
   "metadata": {
    "collapsed": true
   },
   "outputs": [],
   "source": [
    "init_guess = models.Linear1D(slope=m0, intercept=b0) # initial parameter guess\n",
    "\n",
    "fit_line = fitting.LinearLSQFitter()  # initializes the fitter\n",
    "line_param = fit_line(model=init_guess, x=log10_period, y=k_mag)"
   ]
  },
  {
   "cell_type": "markdown",
   "metadata": {},
   "source": [
    "We can print the results of the linear least squares fit."
   ]
  },
  {
   "cell_type": "code",
   "execution_count": 16,
   "metadata": {
    "scrolled": true
   },
   "outputs": [
    {
     "name": "stdout",
     "output_type": "stream",
     "text": [
      "Model: Linear1D\n",
      "Inputs: ('x',)\n",
      "Outputs: ('y',)\n",
      "Model set size: 1\n",
      "Parameters:\n",
      "        slope       intercept  \n",
      "    ------------- -------------\n",
      "    -1.9318212333 13.5544400551\n"
     ]
    }
   ],
   "source": [
    "print(line_param)"
   ]
  },
  {
   "cell_type": "markdown",
   "metadata": {},
   "source": [
    "Now that we have a new line, let's plot it with the data."
   ]
  },
  {
   "cell_type": "code",
   "execution_count": 17,
   "metadata": {},
   "outputs": [
    {
     "data": {
      "text/plain": [
       "[<matplotlib.lines.Line2D at 0x111a284a8>]"
      ]
     },
     "execution_count": 17,
     "metadata": {},
     "output_type": "execute_result"
    },
    {
     "data": {
      "image/png": "[encoded data removed]",
      "text/plain": [
       "<matplotlib.figure.Figure at 0x111b93e48>"
      ]
     },
     "metadata": {},
     "output_type": "display_data"
    }
   ],
   "source": [
    "plt.errorbar(log10_period,k_mag,yerr=k_mag_err,fmt='k.')\n",
    "plt.xlabel('log( P[days] )')\n",
    "plt.ylabel(r'Ks')\n",
    "plt.gca().invert_yaxis()\n",
    "\n",
    "model_fit = line_param(xgrid) # create np.array with new fit parameters\n",
    "\n",
    "plt.plot(xgrid, model_fit)"
   ]
  },
  {
   "cell_type": "markdown",
   "metadata": {
    "collapsed": true
   },
   "source": [
    "We can also do this fitting with [astropy.fitting.LinearLSQFitter](http://docs.astropy.org/en/stable/api/astropy.modeling.fitting.LevMarLSQFitter.html#astropy.modeling.fitting.LevMarLSQFitter), which also works to fit any generic function.  [astropy.modeling](http://docs.astropy.org/en/stable/modeling/) provides a variety of models and fitting routines that are useful when the data can not be fit with a simple line.  For example, there are specifc models if it's known that data follows a specific distribution, e.g. the data has a Gaussian distribution there is [Gaussian model fitting](https://github.com/spacetelescope/aas229_workshop/blob/master/Lecture_Notebooks/modeling/aas229_Modeling.ipynb)."
   ]
  },
  {
   "cell_type": "markdown",
   "metadata": {},
   "source": [
    "## Setting up your own statistic and fitting with `scipy.optimize`\n",
    "\n",
    "With inspiration and help from [Adrian Price-Whelan's tutorial](https://github.com/adrn/PrincetonStatsSeminar/blob/master/notebooks/Fitting%20a%20straight%20line%20to%20data%20-%20lecture%20notes.ipynb)"
   ]
  },
  {
   "cell_type": "code",
   "execution_count": null,
   "metadata": {
    "collapsed": true
   },
   "outputs": [],
   "source": []
  },
  {
   "cell_type": "code",
   "execution_count": null,
   "metadata": {
    "collapsed": true
   },
   "outputs": [],
   "source": []
  },
  {
   "cell_type": "code",
   "execution_count": null,
   "metadata": {
    "collapsed": true
   },
   "outputs": [],
   "source": []
  },
  {
   "cell_type": "code",
   "execution_count": null,
   "metadata": {
    "collapsed": true
   },
   "outputs": [],
   "source": []
  },
  {
   "cell_type": "code",
   "execution_count": null,
   "metadata": {
    "collapsed": true
   },
   "outputs": [],
   "source": []
  },
  {
   "cell_type": "markdown",
   "metadata": {},
   "source": [
    "## How to generate random data"
   ]
  },
  {
   "cell_type": "code",
   "execution_count": null,
   "metadata": {
    "collapsed": true
   },
   "outputs": [],
   "source": [
    "# To begin, we need to define our Guassian parameters (e.g. the mean and standard deviation)\n",
    "mean  = 0 # This is our mean\n",
    "sigma = 100 # This is our standard deviation\n",
    "\n",
    "# To generate our data, we can use the numpy random generator normal distribution function.\n",
    "# Let's create 1000 points for now. \n",
    "gaussian_data = np.random.normal(mean, sigma, 1000)\n",
    "\n",
    "# bin data and plot a histogram; overplot your guassian fit\n",
    "# To visualize our data, let's bin it into 50 bins\n",
    "bins  = 50\n",
    "_ = plt.hist(gaussian_data, bins)\n",
    "\n",
    "plt.plot(bins, 1/(sigma * np.sqrt(2 * np.pi)) *\n",
    "                np.exp( - (bins - mean)**2 / (2 * sigma**2) ),\n",
    "          linewidth=2, color='r')\n",
    "#plt.show()"
   ]
  },
  {
   "cell_type": "code",
   "execution_count": null,
   "metadata": {
    "collapsed": true
   },
   "outputs": [],
   "source": [
    "hist_values, bin_edges = np.histogram(gaussian_data, bins)\n",
    "hist_error = np.sqrt(hist_values)\n",
    "bin_center = 0.5 * (bin_edges[:-1] + bin_edges[1:])\n",
    "\n",
    "plt.errorbar(bin_center, hist_values, yerr=hist_error)"
   ]
  },
  {
   "cell_type": "markdown",
   "metadata": {},
   "source": [
    "Try playing with the number of data points and see how that changes our error bars. "
   ]
  },
  {
   "cell_type": "markdown",
   "metadata": {},
   "source": [
    "# Extra Bonus Objectives\n",
    "\n",
    "Written by Lia"
   ]
  },
  {
   "cell_type": "markdown",
   "metadata": {},
   "source": [
    "## How to simulate a stellar spectrum with noise\n",
    "\n",
    "In this example, we will simulate a black body spectrum with noise."
   ]
  },
  {
   "cell_type": "markdown",
   "metadata": {},
   "source": [
    "First, we will load the [black body module](http://docs.astropy.org/en/stable/modeling/#module-astropy.modeling.blackbody) from `Astropy.modeling`"
   ]
  },
  {
   "cell_type": "code",
   "execution_count": null,
   "metadata": {
    "collapsed": true
   },
   "outputs": [],
   "source": [
    "from astropy.modeling.blackbody import blackbody_lambda, blackbody_nu"
   ]
  },
  {
   "cell_type": "markdown",
   "metadata": {},
   "source": [
    "Now let's set up our model grid for $\\lambda$ (the wavelength of the light).  Note that $c = \\lambda \\nu$, where $\\nu$ is the frequency and $c$ is the speed of light.\n",
    "\n",
    "We will call the variable `wavelength` because `lambda` is a built-in Python construct that we won't be able to use as a variable name."
   ]
  },
  {
   "cell_type": "code",
   "execution_count": null,
   "metadata": {
    "collapsed": true
   },
   "outputs": [],
   "source": [
    "wmin, wmax = 1000., 10000.  # Angstroms\n",
    "nbins      = 1000  # Number of bins to use\n",
    "wavelength = np.linspace(wmin, wmax, nbins) * u.AA  # Angstroms"
   ]
  },
  {
   "cell_type": "markdown",
   "metadata": {},
   "source": [
    "We'll be using the equation $F_{\\lambda} = ???$ with a reasonable temperature for a stellar surface like our sun."
   ]
  },
  {
   "cell_type": "code",
   "execution_count": null,
   "metadata": {
    "collapsed": true
   },
   "outputs": [],
   "source": [
    "temperature = 6000. * u.K  # Kelvin\n",
    "intensity_lambda = blackbody_lambda(wavelength, temperature)"
   ]
  },
  {
   "cell_type": "markdown",
   "metadata": {},
   "source": [
    "Let's see what units were returned by the blackbody function."
   ]
  },
  {
   "cell_type": "code",
   "execution_count": null,
   "metadata": {
    "collapsed": true
   },
   "outputs": [],
   "source": [
    "print(intensity_lambda.unit)"
   ]
  },
  {
   "cell_type": "markdown",
   "metadata": {},
   "source": [
    "For a perfectly spherical stellar point source, we multiply the intensity by a factor of $\\pi$ (or something) steridians (the sr unit).  \n",
    "\n",
    "If we want to estimate the number of photon counts in our image, then we also need to multiply the flux by the effective area of our telescope, an exposure time, the energy of the photons as each wavelength, and our bin width."
   ]
  },
  {
   "cell_type": "code",
   "execution_count": null,
   "metadata": {
    "collapsed": true
   },
   "outputs": [],
   "source": [
    "solid_angle    = np.pi * u.sr\n",
    "effective_area = 1.e4 * u.cm**2\n",
    "exposure_time  = 1.0 * 60. * u.s  # 1 minute in units of seconds\n",
    "photon_energy  = wavelength.to(u.erg, equivalencies=u.spectral())  # See astropy.units tutorial\n",
    "\n",
    "estimated_counts = intensity_lambda * solid_angle * effective_area * exposure_time / photon_energy"
   ]
  },
  {
   "cell_type": "markdown",
   "metadata": {},
   "source": [
    "What are the units on estimated_counts?  Why?\n",
    "\n",
    "Let's get an estimated number of photon counts in each bin"
   ]
  },
  {
   "cell_type": "code",
   "execution_count": null,
   "metadata": {
    "collapsed": true
   },
   "outputs": [],
   "source": [
    "bin_width      = wavelength[1] - wavelength[0]  # Only works if the bins are linearly spaced\n",
    "counts_per_bin = estimated_counts * bin_width"
   ]
  },
  {
   "cell_type": "code",
   "execution_count": null,
   "metadata": {
    "collapsed": true
   },
   "outputs": [],
   "source": [
    "plt.plot(wavelength, counts_per_bin)\n",
    "plt.xlabel(\"Wavelength (%s)\" % wavelength.unit)\n",
    "plt.ylabel(\"Counts per bin\")"
   ]
  },
  {
   "cell_type": "markdown",
   "metadata": {
    "collapsed": true
   },
   "source": [
    "** Finish this another time **"
   ]
  },
  {
   "cell_type": "code",
   "execution_count": null,
   "metadata": {
    "collapsed": true
   },
   "outputs": [],
   "source": []
  },
  {
   "cell_type": "code",
   "execution_count": null,
   "metadata": {
    "collapsed": true
   },
   "outputs": [],
   "source": [
    "## Note from Lia -- I just made some random data that goes in a line for now\n",
    "xmin, xmax, my_m, my_b, ysig = 0, 100., 3.0, 2.0, 50.0\n",
    "npoints = 100,\n",
    "aq_x    = np.random.uniform(xmin, xmax, npoints)\n",
    "aq_y    = np.random.normal(my_m * aq_x + my_b, ysig)\n",
    "aq_yerr = np.abs(np.random.normal(0.0, ysig/2.0, npoints))  # Use randomly generated error bars for now"
   ]
  },
  {
   "cell_type": "markdown",
   "metadata": {},
   "source": [
    "Let's make a scatter plot of the data."
   ]
  },
  {
   "cell_type": "code",
   "execution_count": null,
   "metadata": {
    "collapsed": true
   },
   "outputs": [],
   "source": [
    "plt.scatter(aq_x, aq_y, s=20, color='k')\n",
    "plt.xlabel(\"x\")\n",
    "plt.ylabel(\"y\")"
   ]
  },
  {
   "cell_type": "code",
   "execution_count": null,
   "metadata": {
    "collapsed": true
   },
   "outputs": [],
   "source": [
    "plt.scatter(log10_period, k_mag, s=20, color='k')\n",
    "plt.xlabel(\"x\")\n",
    "plt.ylabel(\"y\")\n",
    "\n",
    "plt.plot(xgrid, model0)"
   ]
  }
 ],
 "metadata": {
  "kernelspec": {
   "display_name": "Python 3",
   "language": "python",
   "name": "python3"
  },
  "language_info": {
   "codemirror_mode": {
    "name": "ipython",
    "version": 3
   },
   "file_extension": ".py",
   "mimetype": "text/x-python",
   "name": "python",
   "nbconvert_exporter": "python",
   "pygments_lexer": "ipython3",
   "version": "3.6.2"
  }
 },
 "nbformat": 4,
 "nbformat_minor": 2
}
