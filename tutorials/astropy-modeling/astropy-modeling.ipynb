{
 "cells": [
  {
   "cell_type": "code",
   "execution_count": 18,
   "metadata": {
    "collapsed": true
   },
   "outputs": [],
   "source": [
    "import numpy as np\n",
    "import matplotlib.pyplot as plt\n",
    "\n",
    "import astropy.units as u\n",
    "from astropy.modeling import models, fitting\n",
    "\n",
    "%matplotlib inline"
   ]
  },
  {
   "cell_type": "code",
   "execution_count": null,
   "metadata": {
    "collapsed": true
   },
   "outputs": [],
   "source": [
    "#Load the data\n",
    "\n",
    "\n",
    "\n",
    "#Write your own line function\n",
    "#Linear, Gaussian, and Blackbody model objects in Astropy.modeling\n",
    "#Use astroquery to pull info \n",
    "#Linear -- \n",
    "#Gaussian -- \n",
    "#Write a statistic [include links to materials about something other than chi-square]\n",
    "#Fit with scipy \n",
    "\n",
    "#Making simulated data with noise\n",
    "#Blackbody -- fake the data\n",
    "#Add Noise\n",
    "#Fit it\n",
    "#See if you get the same temp"
   ]
  },
  {
   "cell_type": "markdown",
   "metadata": {},
   "source": [
    "## How to simulate a dataset with noise\n",
    "\n",
    "In this example, we will simulate a black body spectrum with noise."
   ]
  },
  {
   "cell_type": "markdown",
   "metadata": {},
   "source": [
    "First, we will load the [black body module](http://docs.astropy.org/en/stable/modeling/#module-astropy.modeling.blackbody) from `Astropy.modeling`"
   ]
  },
  {
   "cell_type": "code",
   "execution_count": 1,
   "metadata": {
    "collapsed": true
   },
   "outputs": [],
   "source": [
    "from astropy.modeling.blackbody import blackbody_lambda, blackbody_nu"
   ]
  },
  {
   "cell_type": "markdown",
   "metadata": {},
   "source": [
    "Now let's set up our model grid for $\\lambda$ (the wavelength of the light).  Note that $c = \\lambda \\nu$, where $\\nu$ is the frequency and $c$ is the speed of light.\n",
    "\n",
    "We will call the variable `wavelength` because `lambda` is a built-in Python construct that we won't be able to use as a variable name."
   ]
  },
  {
   "cell_type": "code",
   "execution_count": 19,
   "metadata": {
    "collapsed": true
   },
   "outputs": [],
   "source": [
    "wmin, wmax = np.log10(1000.), np.log10(20000.)  # log Angstroms\n",
    "nbins      = 1000.  # Number of \n",
    "wavelength = np.logspace(wmin, wmax, nbins) * u.AA  # Angstroms"
   ]
  },
  {
   "cell_type": "markdown",
   "metadata": {},
   "source": [
    "We'll be using the equation $F_{\\lambda} = ???$ with a reasonable temperature for a stellar surface like our sun."
   ]
  },
  {
   "cell_type": "code",
   "execution_count": 24,
   "metadata": {
    "collapsed": true
   },
   "outputs": [],
   "source": [
    "temperature = 6000. * u.K  # Kelvin\n",
    "intensity_lambda = blackbody_lambda(wavelength, temperature)"
   ]
  },
  {
   "cell_type": "markdown",
   "metadata": {},
   "source": [
    "Let's see what units were returned by the blackbody function."
   ]
  },
  {
   "cell_type": "code",
   "execution_count": 26,
   "metadata": {},
   "outputs": [
    {
     "name": "stdout",
     "output_type": "stream",
     "text": [
      "erg / (Angstrom cm2 s sr)\n"
     ]
    }
   ],
   "source": [
    "print(intensity_lambda.unit)"
   ]
  },
  {
   "cell_type": "markdown",
   "metadata": {},
   "source": [
    "For a perfectly spherical stellar point source, we multiply the intensity by a factor of $\\pi$ (or something) steridians (the sr unit).  \n",
    "\n",
    "If we want to estimate the number of photon counts in our image, then we also need to multiply the flux by the effective area of our telescope, an exposure time, and the energy of the photons as each wavelength."
   ]
  },
  {
   "cell_type": "code",
   "execution_count": 36,
   "metadata": {
    "collapsed": true
   },
   "outputs": [],
   "source": [
    "solid_angle    = np.pi * u.sr\n",
    "effective_area = 1.e6 * u.cm**2\n",
    "exposure_time  = 10.0 * 60. * u.s  # 10 minutes in units of seconds\n",
    "photon_energy  = wavelength.to(u.erg, equivalencies=u.spectral())  # See astropy.units tutorial\n",
    "\n",
    "estimated_counts = intensity_lambda * solid_angle * effective_area * exposure_time / photon_energy"
   ]
  },
  {
   "cell_type": "markdown",
   "metadata": {},
   "source": [
    "What are the units on estimated_counts?  Why?"
   ]
  },
  {
   "cell_type": "code",
   "execution_count": 42,
   "metadata": {},
   "outputs": [
    {
     "data": {
      "text/plain": [
       "<matplotlib.text.Text at 0x18208d76a0>"
      ]
     },
     "execution_count": 42,
     "metadata": {},
     "output_type": "execute_result"
    },
    {
     "data": {
      "image/png": "[encoded data removed]",
      "text/plain": [
       "<matplotlib.figure.Figure at 0x18202b3198>"
      ]
     },
     "metadata": {},
     "output_type": "display_data"
    }
   ],
   "source": [
    "plt.plot(wavelength, estimated_counts)\n",
    "plt.xlabel(\"Wavelength (%s)\" % wavelength.unit)\n",
    "plt.ylabel(\"Counts %s\" % estimated_counts.unit)"
   ]
  },
  {
   "cell_type": "code",
   "execution_count": 26,
   "metadata": {},
   "outputs": [
    {
     "data": {
      "image/png": "[encoded data removed]",
      "text/plain": [
       "<matplotlib.figure.Figure at 0x11a3c5b38>"
      ]
     },
     "metadata": {},
     "output_type": "display_data"
    }
   ],
   "source": [
    "# Generate random data\n",
    "# To begin, we need to define our Guassian parameters (e.g. the mean and standard deviation)\n",
    "mean  = 0 # This is our mean\n",
    "sigma = 100 # This is our standard deviation\n",
    "\n",
    "# To generate our data, we can use the numpy random generator normal distribution function.\n",
    "# Let's create 1000 points for now. \n",
    "gaussian_data = np.random.normal(mean, sigma, 1000)\n",
    "\n",
    "# bin data and plot a histogram; overplot your guassian fit\n",
    "# To visualize our data, let's bin it into 50 bins\n",
    "bins  = 50\n",
    "_ = plt.hist(gaussian_data, bins)\n",
    "\n",
    "#count, bins, ignored = plt.hist(GausData, 30, normed=True)\n",
    "#plt.plot(bins, 1/(sigma * np.sqrt(2 * np.pi)) *\n",
    "#                np.exp( - (bins - mean)**2 / (2 * sigma**2) ),\n",
    "#          linewidth=2, color='r')\n",
    "#plt.show()"
   ]
  },
  {
   "cell_type": "code",
   "execution_count": 29,
   "metadata": {},
   "outputs": [
    {
     "data": {
      "text/plain": [
       "<Container object of 3 artists>"
      ]
     },
     "execution_count": 29,
     "metadata": {},
     "output_type": "execute_result"
    },
    {
     "data": {
      "image/png": "[encoded data removed]",
      "text/plain": [
       "<matplotlib.figure.Figure at 0x11a757f60>"
      ]
     },
     "metadata": {},
     "output_type": "display_data"
    }
   ],
   "source": [
    "hist_values, bin_edges = np.histogram(gaussian_data, bins)\n",
    "hist_error = np.sqrt(hist_values)\n",
    "bin_center = 0.5 * (bin_edges[:-1] + bin_edges[1:])\n",
    "\n",
    "plt.errorbar(bin_center, hist_values, yerr=hist_error)"
   ]
  },
  {
   "cell_type": "markdown",
   "metadata": {},
   "source": [
    "Try playing with the number of data points and see how that changes our error bars. "
   ]
  },
  {
   "cell_type": "code",
   "execution_count": null,
   "metadata": {
    "collapsed": true
   },
   "outputs": [],
   "source": []
  }
 ],
 "metadata": {
  "kernelspec": {
   "display_name": "Python 3",
   "language": "python",
   "name": "python3"
  },
  "language_info": {
   "codemirror_mode": {
    "name": "ipython",
    "version": 3
   },
   "file_extension": ".py",
   "mimetype": "text/x-python",
   "name": "python",
   "nbconvert_exporter": "python",
   "pygments_lexer": "ipython3",
   "version": "3.6.2"
  }
 },
 "nbformat": 4,
 "nbformat_minor": 2
}
