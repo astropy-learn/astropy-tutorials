{
 "metadata": {
  "name": ""
 },
 "nbformat": 3,
 "nbformat_minor": 0,
 "worksheets": [
  {
   "cells": [
    {
     "cell_type": "heading",
     "level": 1,
     "metadata": {},
     "source": [
      "Tutorial : Edit a FITS header"
     ]
    },
    {
     "cell_type": "markdown",
     "metadata": {},
     "source": [
      "This tutorial describes how to read in, edit a FITS header, and then write \n",
      "it back out to disk. For this example we're going to change the `OBJECT` \n",
      "keyword.\n",
      "\n",
      "This tutorial uses [`astropy.io.fits`](http://docs.astropy.org/en/latest/io/fits/index.html), \n",
      "which was formerly released separately as `pyfits`. If you have used \n",
      "`pyfits` to manipulate FITS files then you may already be familiar \n",
      "with the features and syntax of the package. We start by importing\n",
      "the subpackage into our local namespace, and allows us to access the\n",
      "functions and classes as `fits.name_of_function()`. For example, \n",
      "to access the `getdata()` function, we _don't_ have to do \n",
      "`astropy.io.fits.getdata()` and can instead simple use `fits.getdata()`.\n",
      "You may run across old documentation or tutorials that use the name \n",
      "`pyfits`. Such examples will begin with `import pyfits` and then \n",
      "the command `fits.getdata()` (for example) would be written as \n",
      "`pyfits.getdata()`."
     ]
    },
    {
     "cell_type": "code",
     "collapsed": false,
     "input": [
      "from astropy.io import fits"
     ],
     "language": "python",
     "metadata": {},
     "outputs": [],
     "prompt_number": 41
    },
    {
     "cell_type": "markdown",
     "metadata": {},
     "source": [
      "``astropy.io.fits`` provides a lot of flexibility for reading FITS \n",
      "files and headers, but most of the time the convenience functions are\n",
      "the easiest way to access the data. ``fits.getdata()`` reads just the \n",
      "data from a FITS file, but with the `header=True` keyword argument will\n",
      "also read the header. "
     ]
    },
    {
     "cell_type": "code",
     "collapsed": false,
     "input": [
      "data, header = fits.getdata(\"input_file.fits\", header=True)"
     ],
     "language": "python",
     "metadata": {},
     "outputs": [],
     "prompt_number": 42
    },
    {
     "cell_type": "markdown",
     "metadata": {},
     "source": [
      "There is also a dedicated function for reading just the \n",
      "header:"
     ]
    },
    {
     "cell_type": "code",
     "collapsed": false,
     "input": [
      "hdu_number = 0\n",
      "fits.getheader('input_file.fits', hdu_number)"
     ],
     "language": "python",
     "metadata": {},
     "outputs": [
      {
       "metadata": {},
       "output_type": "pyout",
       "prompt_number": 43,
       "text": [
        "SIMPLE  =                    T / conforms to FITS standard                      \n",
        "BITPIX  =                  -64 / array data type                                \n",
        "NAXIS   =                    2 / number of array dimensions                     \n",
        "NAXIS1  =                  100                                                  \n",
        "NAXIS2  =                  100                                                  \n",
        "EXTEND  =                    T                                                  \n",
        "OBJECT  = 'KITTEN  '                                                            "
       ]
      }
     ],
     "prompt_number": 43
    },
    {
     "cell_type": "markdown",
     "metadata": {},
     "source": [
      "but `getdata()` can get both the data and the header, so it is a useful \n",
      "command to remember. Since the primary HDU of a FITS file must contain image data, \n",
      "the data is now stored in a ``numpy`` array. The header is stored in an \n",
      "object that acts like a standard Python dictionary. "
     ]
    },
    {
     "cell_type": "code",
     "collapsed": false,
     "input": [
      "print type(data)\n",
      "print header[\"NAXIS\"]"
     ],
     "language": "python",
     "metadata": {},
     "outputs": [
      {
       "output_type": "stream",
       "stream": "stdout",
       "text": [
        "<type 'numpy.ndarray'>\n",
        "2\n"
       ]
      }
     ],
     "prompt_number": 44
    },
    {
     "cell_type": "markdown",
     "metadata": {},
     "source": [
      "Now let's change the header to give it the correct object:"
     ]
    },
    {
     "cell_type": "code",
     "collapsed": false,
     "input": [
      "header['OBJECT'] = \"M31\""
     ],
     "language": "python",
     "metadata": {},
     "outputs": [],
     "prompt_number": 45
    },
    {
     "cell_type": "markdown",
     "metadata": {},
     "source": [
      "Finally, we have to write out the FITS file. Again, the convenience \n",
      "function for this is the most useful command to remember:"
     ]
    },
    {
     "cell_type": "code",
     "collapsed": false,
     "input": [
      "fits.writeto('output_file.fits', data, header)"
     ],
     "language": "python",
     "metadata": {},
     "outputs": [
      {
       "output_type": "stream",
       "stream": "stderr",
       "text": [
        "ERROR:astropy:IOError: File 'output_file.fits' already exists.\n"
       ]
      },
      {
       "ename": "IOError",
       "evalue": "File 'output_file.fits' already exists.",
       "output_type": "pyerr",
       "traceback": [
        "\u001b[0;31m---------------------------------------------------------------------------\u001b[0m\n\u001b[0;31mIOError\u001b[0m                                   Traceback (most recent call last)",
        "\u001b[0;32m<ipython-input-46-6d7b48336ab4>\u001b[0m in \u001b[0;36m<module>\u001b[0;34m()\u001b[0m\n\u001b[0;32m----> 1\u001b[0;31m \u001b[0mfits\u001b[0m\u001b[0;34m.\u001b[0m\u001b[0mwriteto\u001b[0m\u001b[0;34m(\u001b[0m\u001b[0;34m'output_file.fits'\u001b[0m\u001b[0;34m,\u001b[0m \u001b[0mdata\u001b[0m\u001b[0;34m,\u001b[0m \u001b[0mheader\u001b[0m\u001b[0;34m)\u001b[0m\u001b[0;34m\u001b[0m\u001b[0m\n\u001b[0m",
        "\u001b[0;32m/Library/Python/2.7/site-packages/astropy-0.3.dev5490-py2.7-macosx-10.8-intel.egg/astropy/io/fits/convenience.pyc\u001b[0m in \u001b[0;36mwriteto\u001b[0;34m(filename, data, header, output_verify, clobber, checksum)\u001b[0m\n\u001b[1;32m    404\u001b[0m         \u001b[0mhdu\u001b[0m \u001b[0;34m=\u001b[0m \u001b[0mPrimaryHDU\u001b[0m\u001b[0;34m(\u001b[0m\u001b[0mdata\u001b[0m\u001b[0;34m,\u001b[0m \u001b[0mheader\u001b[0m\u001b[0;34m=\u001b[0m\u001b[0mheader\u001b[0m\u001b[0;34m)\u001b[0m\u001b[0;34m\u001b[0m\u001b[0m\n\u001b[1;32m    405\u001b[0m     hdu.writeto(filename, clobber=clobber, output_verify=output_verify,\n\u001b[0;32m--> 406\u001b[0;31m                 checksum=checksum)\n\u001b[0m\u001b[1;32m    407\u001b[0m \u001b[0;34m\u001b[0m\u001b[0m\n\u001b[1;32m    408\u001b[0m \u001b[0;34m\u001b[0m\u001b[0m\n",
        "\u001b[0;32m/Library/Python/2.7/site-packages/astropy-0.3.dev5490-py2.7-macosx-10.8-intel.egg/astropy/io/fits/hdu/base.pyc\u001b[0m in \u001b[0;36mwriteto\u001b[0;34m(self, name, output_verify, clobber, checksum)\u001b[0m\n\u001b[1;32m    405\u001b[0m         \u001b[0mhdulist\u001b[0m \u001b[0;34m=\u001b[0m \u001b[0mHDUList\u001b[0m\u001b[0;34m(\u001b[0m\u001b[0;34m[\u001b[0m\u001b[0mself\u001b[0m\u001b[0;34m]\u001b[0m\u001b[0;34m)\u001b[0m\u001b[0;34m\u001b[0m\u001b[0m\n\u001b[1;32m    406\u001b[0m         hdulist.writeto(name, output_verify, clobber=clobber,\n\u001b[0;32m--> 407\u001b[0;31m                         checksum=checksum)\n\u001b[0m\u001b[1;32m    408\u001b[0m \u001b[0;34m\u001b[0m\u001b[0m\n\u001b[1;32m    409\u001b[0m     \u001b[0;32mdef\u001b[0m \u001b[0m_get_raw_data\u001b[0m\u001b[0;34m(\u001b[0m\u001b[0mself\u001b[0m\u001b[0;34m,\u001b[0m \u001b[0mshape\u001b[0m\u001b[0;34m,\u001b[0m \u001b[0mcode\u001b[0m\u001b[0;34m,\u001b[0m \u001b[0moffset\u001b[0m\u001b[0;34m)\u001b[0m\u001b[0;34m:\u001b[0m\u001b[0;34m\u001b[0m\u001b[0m\n",
        "\u001b[0;32m/Library/Python/2.7/site-packages/astropy-0.3.dev5490-py2.7-macosx-10.8-intel.egg/astropy/io/fits/hdu/hdulist.pyc\u001b[0m in \u001b[0;36mwriteto\u001b[0;34m(self, fileobj, output_verify, clobber, checksum)\u001b[0m\n\u001b[1;32m    651\u001b[0m                     \u001b[0mos\u001b[0m\u001b[0;34m.\u001b[0m\u001b[0mremove\u001b[0m\u001b[0;34m(\u001b[0m\u001b[0mfilename\u001b[0m\u001b[0;34m)\u001b[0m\u001b[0;34m\u001b[0m\u001b[0m\n\u001b[1;32m    652\u001b[0m                 \u001b[0;32melse\u001b[0m\u001b[0;34m:\u001b[0m\u001b[0;34m\u001b[0m\u001b[0m\n\u001b[0;32m--> 653\u001b[0;31m                     \u001b[0;32mraise\u001b[0m \u001b[0mIOError\u001b[0m\u001b[0;34m(\u001b[0m\u001b[0;34m\"File '%s' already exists.\"\u001b[0m \u001b[0;34m%\u001b[0m \u001b[0mfilename\u001b[0m\u001b[0;34m)\u001b[0m\u001b[0;34m\u001b[0m\u001b[0m\n\u001b[0m\u001b[1;32m    654\u001b[0m         \u001b[0;32melif\u001b[0m \u001b[0;34m(\u001b[0m\u001b[0mhasattr\u001b[0m\u001b[0;34m(\u001b[0m\u001b[0mfileobj\u001b[0m\u001b[0;34m,\u001b[0m \u001b[0;34m'len'\u001b[0m\u001b[0;34m)\u001b[0m \u001b[0;32mand\u001b[0m \u001b[0mfileobj\u001b[0m\u001b[0;34m.\u001b[0m\u001b[0mlen\u001b[0m \u001b[0;34m>\u001b[0m \u001b[0;36m0\u001b[0m\u001b[0;34m)\u001b[0m\u001b[0;34m:\u001b[0m\u001b[0;34m\u001b[0m\u001b[0m\n\u001b[1;32m    655\u001b[0m             \u001b[0;32mif\u001b[0m \u001b[0mclobber\u001b[0m\u001b[0;34m:\u001b[0m\u001b[0;34m\u001b[0m\u001b[0m\n",
        "\u001b[0;31mIOError\u001b[0m: File 'output_file.fits' already exists."
       ]
      },
      {
       "output_type": "stream",
       "stream": "stdout",
       "text": [
        "ERROR: IOError: File 'output_file.fits' already exists. [astropy.io.fits.hdu.hdulist]\n"
       ]
      }
     ],
     "prompt_number": 46
    },
    {
     "cell_type": "markdown",
     "metadata": {},
     "source": [
      "That's it; you're done!"
     ]
    },
    {
     "cell_type": "markdown",
     "metadata": {},
     "source": [
      "Two common more complicated cases are worth mentioning (but if your needs \n",
      "are much more complex, you should consult the full documentation). \n",
      "\n",
      "The first complication is that the FITS file you're examining and \n",
      "editing might have multiple HDU's (extensions), in which case you can \n",
      "specify the extension like this:"
     ]
    },
    {
     "cell_type": "code",
     "collapsed": false,
     "input": [
      "data,header = fits.getdata(\"input_file.fits\", ext=1, header=True)"
     ],
     "language": "python",
     "metadata": {},
     "outputs": [],
     "prompt_number": 47
    },
    {
     "cell_type": "markdown",
     "metadata": {},
     "source": [
      "This will get you the data and header associated with the index=1 extension \n",
      "in the FITS file. Without specifiying a number, getdata() will get the \n",
      "0th extension (equivalent to saying `ext=0`)."
     ]
    },
    {
     "cell_type": "markdown",
     "metadata": {},
     "source": [
      "Another useful tip is if you want to overwrite an existing FITS \n",
      "file. By default, writeto() won't let you do this, so you need to \n",
      "explicitly give it persmission using the `clobber` keyword argument:"
     ]
    },
    {
     "cell_type": "code",
     "collapsed": false,
     "input": [
      "fits.writeto('output_file.fits', data, header, clobber=True)"
     ],
     "language": "python",
     "metadata": {},
     "outputs": [],
     "prompt_number": 48
    },
    {
     "cell_type": "code",
     "collapsed": false,
     "input": [],
     "language": "python",
     "metadata": {},
     "outputs": [],
     "prompt_number": 48
    }
   ],
   "metadata": {}
  }
 ]
}