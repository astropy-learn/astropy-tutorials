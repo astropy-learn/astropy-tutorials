{
 "metadata": {
  "name": "astropy_fits"
 },
 "nbformat": 3,
 "nbformat_minor": 0,
 "worksheets": [
  {
   "cells": [
    {
     "cell_type": "code",
     "collapsed": false,
     "input": [
      "import numpy as np\n",
      "import matplotlib.pyplot as plt"
     ],
     "language": "python",
     "metadata": {},
     "outputs": [],
     "prompt_number": 1
    },
    {
     "cell_type": "heading",
     "level": 1,
     "metadata": {},
     "source": [
      "Viewing and manipulating fits images"
     ]
    },
    {
     "cell_type": "code",
     "collapsed": false,
     "input": [
      "from astropy.io import fits"
     ],
     "language": "python",
     "metadata": {},
     "outputs": [],
     "prompt_number": 2
    },
    {
     "cell_type": "code",
     "collapsed": false,
     "input": [
      "TEST_IMAGE = 'HorseHead.FIT'\n",
      "# Downloaded from World Wide Telescope"
     ],
     "language": "python",
     "metadata": {},
     "outputs": [],
     "prompt_number": 3
    },
    {
     "cell_type": "heading",
     "level": 2,
     "metadata": {},
     "source": [
      "1. Reading fits files with python"
     ]
    },
    {
     "cell_type": "markdown",
     "metadata": {},
     "source": [
      "Open the fits file and find out what it contains."
     ]
    },
    {
     "cell_type": "code",
     "collapsed": false,
     "input": [
      "hdu_list = fits.open( TEST_IMAGE )\n",
      "hdu_list.info()"
     ],
     "language": "python",
     "metadata": {},
     "outputs": [
      {
       "output_type": "stream",
       "stream": "stdout",
       "text": [
        "Filename: HorseHead.FIT\n",
        "No.    Name         Type      Cards   Dimensions   Format\n",
        "0    PRIMARY     PrimaryHDU     161   (891, 893)   int16   \n",
        "1    er.mask     TableHDU        25   1600R x 4C   [F6.2, F6.2, F6.2, F6.2]   \n"
       ]
      }
     ],
     "prompt_number": 4
    },
    {
     "cell_type": "markdown",
     "metadata": {},
     "source": [
      "Generally the image information is located in the PRIMARY block. The blocks are numbered and can be accessed by indexing 'hdu_list'.  For example, lets open the primary block and look at the fits header."
     ]
    },
    {
     "cell_type": "code",
     "collapsed": false,
     "input": [
      "primary = hdu_list[0]\n",
      "primary.header"
     ],
     "language": "python",
     "metadata": {},
     "outputs": [
      {
       "output_type": "pyout",
       "prompt_number": 6,
       "text": [
        "SIMPLE  =                    T /FITS: Compliance                                \n",
        "BITPIX  =                   16 /FITS: I*2 Data                                  \n",
        "NAXIS   =                    2 /FITS: 2-D Image Data                            \n",
        "NAXIS1  =                  891 /FITS: X Dimension                               \n",
        "NAXIS2  =                  893 /FITS: Y Dimension                               \n",
        "EXTEND  =                    T /FITS: File can contain extensions               \n",
        "DATE    = '2014-01-09        '  /FITS: Creation Date                            \n",
        "ORIGIN  = 'STScI/MAST'         /GSSS: STScI Digitized Sky Survey                \n",
        "SURVEY  = 'SERC-ER '           /GSSS: Sky Survey                                \n",
        "REGION  = 'ER768   '           /GSSS: Region Name                               \n",
        "PLATEID = 'A0JP    '           /GSSS: Plate ID                                  \n",
        "SCANNUM = '01      '           /GSSS: Scan Number                               \n",
        "DSCNDNUM= '00      '           /GSSS: Descendant Number                         \n",
        "TELESCID=                    4 /GSSS: Telescope ID                              \n",
        "BANDPASS=                   36 /GSSS: Bandpass Code                             \n",
        "COPYRGHT= 'AAO/ROE '           /GSSS: Copyright Holder                          \n",
        "SITELAT =              -31.277 /Observatory: Latitude                           \n",
        "SITELONG=              210.934 /Observatory: Longitude                          \n",
        "TELESCOP= 'UK Schmidt - Doubl' /Observatory: Telescope                          \n",
        "INSTRUME= 'Photographic Plate' /Detector: Photographic Plate                    \n",
        "EMULSION= 'IIIaF   '           /Detector: Emulsion                              \n",
        "FILTER  = 'OG590   '           /Detector: Filter                                \n",
        "PLTSCALE=                67.20 /Detector: Plate Scale arcsec per mm             \n",
        "PLTSIZEX=              355.000 /Detector: Plate X Dimension mm                  \n",
        "PLTSIZEY=              355.000 /Detector: Plate Y Dimension mm                  \n",
        "PLATERA =        85.5994550000 /Observation: Field centre RA degrees            \n",
        "PLATEDEC=       -4.94660910000 /Observation: Field centre Dec degrees           \n",
        "PLTLABEL= 'OR14052 '           /Observation: Plate Label                        \n",
        "DATE-OBS= '1990-12-22T13:49:00' /Observation: Date/Time                         \n",
        "EXPOSURE=                 65.0 /Observation: Exposure Minutes                   \n",
        "PLTGRADE= 'AD2     '           /Observation: Plate Grade                        \n",
        "OBSHA   =             0.158333 /Observation: Hour Angle                         \n",
        "OBSZD   =              26.3715 /Observation: Zenith Distance                    \n",
        "AIRMASS =              1.11587 /Observation: Airmass                            \n",
        "REFBETA =        66.3196420000 /Observation: Refraction Coeff                   \n",
        "REFBETAP=     -0.0820000000000 /Observation: Refraction Coeff                   \n",
        "REFK1   =        6423.52290000 /Observation: Refraction Coeff                   \n",
        "REFK2   =       -102122.550000 /Observation: Refraction Coeff                   \n",
        "CNPIX1  =                12237 /Scan: X Corner                                  \n",
        "CNPIX2  =                19965 /Scan: Y Corner                                  \n",
        "XPIXELS =                23040 /Scan: X Dimension                               \n",
        "YPIXELS =                23040 /Scan: Y Dimension                               \n",
        "XPIXELSZ=              15.0295 /Scan: Pixel Size microns                        \n",
        "YPIXELSZ=              15.0000 /Scan: Pixel Size microns                        \n",
        "PPO1    =       -3069417.00000 /Scan: Orientation Coeff                         \n",
        "PPO2    =       0.000000000000 /Scan: Orientation Coeff                         \n",
        "PPO3    =        177500.000000 /Scan: Orientation Coeff                         \n",
        "PPO4    =       0.000000000000 /Scan: Orientation Coeff                         \n",
        "PPO5    =        3069417.00000 /Scan: Orientation Coeff                         \n",
        "PPO6    =        177500.000000 /Scan: Orientation Coeff                         \n",
        "PLTRAH  =                    5 /Astrometry: Plate Centre H                      \n",
        "PLTRAM  =                   42 /Astrometry: Plate Centre M                      \n",
        "PLTRAS  =                23.86 /Astrometry: Plate Centre S                      \n",
        "PLTDECSN= '-       '           /Astrometry: Plate Centre +/-                    \n",
        "PLTDECD =                    4 /Astrometry: Plate Centre D                      \n",
        "PLTDECM =                   56 /Astrometry: Plate Centre M                      \n",
        "PLTDECS =                 47.9 /Astrometry: Plate Centre S                      \n",
        "EQUINOX =               2000.0 /Astrometry: Equinox                             \n",
        "AMDX1   =        67.1550859799 /Astrometry: GSC1 Coeff                          \n",
        "AMDX2   =      0.0431478884485 /Astrometry: GSC1 Coeff                          \n",
        "AMDX3   =       -292.435619180 /Astrometry: GSC1 Coeff                          \n",
        "AMDX4   =  -2.68934864702E-005 /Astrometry: GSC1 Coeff                          \n",
        "AMDX5   =   1.99133423290E-005 /Astrometry: GSC1 Coeff                          \n",
        "AMDX6   =  -2.37011931379E-006 /Astrometry: GSC1 Coeff                          \n",
        "AMDX7   =       0.000000000000 /Astrometry: GSC1 Coeff                          \n",
        "AMDX8   =   2.21426387429E-006 /Astrometry: GSC1 Coeff                          \n",
        "AMDX9   =  -8.12841581455E-008 /Astrometry: GSC1 Coeff                          \n",
        "AMDX10  =   2.48169090021E-006 /Astrometry: GSC1 Coeff                          \n",
        "AMDX11  =   2.77618933926E-008 /Astrometry: GSC1 Coeff                          \n",
        "AMDX12  =       0.000000000000 /Astrometry: GSC1 Coeff                          \n",
        "AMDX13  =       0.000000000000 /Astrometry: GSC1 Coeff                          \n",
        "AMDX14  =       0.000000000000 /Astrometry: GSC1 Coeff                          \n",
        "AMDX15  =       0.000000000000 /Astrometry: GSC1 Coeff                          \n",
        "AMDX16  =       0.000000000000 /Astrometry: GSC1 Coeff                          \n",
        "AMDX17  =       0.000000000000 /Astrometry: GSC1 Coeff                          \n",
        "AMDX18  =       0.000000000000 /Astrometry: GSC1 Coeff                          \n",
        "AMDX19  =       0.000000000000 /Astrometry: GSC1 Coeff                          \n",
        "AMDX20  =       0.000000000000 /Astrometry: GSC1 Coeff                          \n",
        "AMDY1   =        67.1593591466 /Astrometry: GSC1 Coeff                          \n",
        "AMDY2   =     -0.0471363749174 /Astrometry: GSC1 Coeff                          \n",
        "AMDY3   =        316.004963520 /Astrometry: GSC1 Coeff                          \n",
        "AMDY4   =   2.86798151430E-005 /Astrometry: GSC1 Coeff                          \n",
        "AMDY5   =  -2.00968236347E-005 /Astrometry: GSC1 Coeff                          \n",
        "AMDY6   =   2.27840393227E-005 /Astrometry: GSC1 Coeff                          \n",
        "AMDY7   =       0.000000000000 /Astrometry: GSC1 Coeff                          \n",
        "AMDY8   =   2.23885090381E-006 /Astrometry: GSC1 Coeff                          \n",
        "AMDY9   =  -2.28360163464E-008 /Astrometry: GSC1 Coeff                          \n",
        "AMDY10  =   2.44828851495E-006 /Astrometry: GSC1 Coeff                          \n",
        "AMDY11  =  -5.76717487998E-008 /Astrometry: GSC1 Coeff                          \n",
        "AMDY12  =       0.000000000000 /Astrometry: GSC1 Coeff                          \n",
        "AMDY13  =       0.000000000000 /Astrometry: GSC1 Coeff                          \n",
        "AMDY14  =       0.000000000000 /Astrometry: GSC1 Coeff                          \n",
        "AMDY15  =       0.000000000000 /Astrometry: GSC1 Coeff                          \n",
        "AMDY16  =       0.000000000000 /Astrometry: GSC1 Coeff                          \n",
        "AMDY17  =       0.000000000000 /Astrometry: GSC1 Coeff                          \n",
        "AMDY18  =       0.000000000000 /Astrometry: GSC1 Coeff                          \n",
        "AMDY19  =       0.000000000000 /Astrometry: GSC1 Coeff                          \n",
        "AMDY20  =       0.000000000000 /Astrometry: GSC1 Coeff                          \n",
        "AMDREX1 =        67.1532034737 /Astrometry: GSC2 Coeff                          \n",
        "AMDREX2 =      0.0434354199559 /Astrometry: GSC2 Coeff                          \n",
        "AMDREX3 =       -292.435438892 /Astrometry: GSC2 Coeff                          \n",
        "AMDREX4 =   4.60919247070E-006 /Astrometry: GSC2 Coeff                          \n",
        "AMDREX5 =  -3.21138058537E-006 /Astrometry: GSC2 Coeff                          \n",
        "AMDREX6 =   7.23651736725E-006 /Astrometry: GSC2 Coeff                          \n",
        "AMDREX7 =       0.000000000000 /Astrometry: GSC2 Coeff                          \n",
        "AMDREX8 =       0.000000000000 /Astrometry: GSC2 Coeff                          \n",
        "AMDREX9 =       0.000000000000 /Astrometry: GSC2 Coeff                          \n",
        "AMDREX10=       0.000000000000 /Astrometry: GSC2 Coeff                          \n",
        "AMDREX11=       0.000000000000 /Astrometry: GSC2 Coeff                          \n",
        "AMDREX12=       0.000000000000 /Astrometry: GSC2 Coeff                          \n",
        "AMDREX13=       0.000000000000 /Astrometry: GSC2 Coeff                          \n",
        "AMDREX14=       0.000000000000 /Astrometry: GSC2 Coeff                          \n",
        "AMDREX15=       0.000000000000 /Astrometry: GSC2 Coeff                          \n",
        "AMDREX16=       0.000000000000 /Astrometry: GSC2 Coeff                          \n",
        "AMDREX17=       0.000000000000 /Astrometry: GSC2 Coeff                          \n",
        "AMDREX18=       0.000000000000 /Astrometry: GSC2 Coeff                          \n",
        "AMDREX19=       0.000000000000 /Astrometry: GSC2 Coeff                          \n",
        "AMDREX20=       0.000000000000 /Astrometry: GSC2 Coeff                          \n",
        "AMDREY1 =        67.1522589487 /Astrometry: GSC2 Coeff                          \n",
        "AMDREY2 =     -0.0481758265285 /Astrometry: GSC2 Coeff                          \n",
        "AMDREY3 =        315.995683716 /Astrometry: GSC2 Coeff                          \n",
        "AMDREY4 =  -7.47397531230E-006 /Astrometry: GSC2 Coeff                          \n",
        "AMDREY5 =   9.55221105409E-007 /Astrometry: GSC2 Coeff                          \n",
        "AMDREY6 =   7.60954485251E-006 /Astrometry: GSC2 Coeff                          \n",
        "AMDREY7 =       0.000000000000 /Astrometry: GSC2 Coeff                          \n",
        "AMDREY8 =       0.000000000000 /Astrometry: GSC2 Coeff                          \n",
        "AMDREY9 =       0.000000000000 /Astrometry: GSC2 Coeff                          \n",
        "AMDREY10=       0.000000000000 /Astrometry: GSC2 Coeff                          \n",
        "AMDREY11=       0.000000000000 /Astrometry: GSC2 Coeff                          \n",
        "AMDREY12=       0.000000000000 /Astrometry: GSC2 Coeff                          \n",
        "AMDREY13=       0.000000000000 /Astrometry: GSC2 Coeff                          \n",
        "AMDREY14=       0.000000000000 /Astrometry: GSC2 Coeff                          \n",
        "AMDREY15=       0.000000000000 /Astrometry: GSC2 Coeff                          \n",
        "AMDREY16=       0.000000000000 /Astrometry: GSC2 Coeff                          \n",
        "AMDREY17=       0.000000000000 /Astrometry: GSC2 Coeff                          \n",
        "AMDREY18=       0.000000000000 /Astrometry: GSC2 Coeff                          \n",
        "AMDREY19=       0.000000000000 /Astrometry: GSC2 Coeff                          \n",
        "AMDREY20=       0.000000000000 /Astrometry: GSC2 Coeff                          \n",
        "ASTRMASK= 'er.mask '           /Astrometry: GSC2 Mask                           \n",
        "WCSAXES =                    2 /GetImage: Number WCS axes                       \n",
        "WCSNAME = 'DSS               ' /GetImage: Local WCS approximation from full plat\n",
        "RADESYS = 'ICRS              ' /GetImage: GSC-II calibration using ICRS system  \n",
        "CTYPE1  = 'RA---TAN          ' /GetImage: RA-Gnomic projection                  \n",
        "CRPIX1  =           446.000000 /GetImage: X reference pixel                     \n",
        "CRVAL1  =            85.274970 /GetImage: RA of reference pixel                 \n",
        "CUNIT1  = 'deg               ' /GetImage: degrees                               \n",
        "CTYPE2  = 'DEC--TAN          ' /GetImage: Dec-Gnomic projection                 \n",
        "CRPIX2  =           447.000000 /GetImage: Y reference pixel                     \n",
        "CRVAL2  =            -2.458265 /GetImage: Dec of reference pixel                \n",
        "CUNIT2  = 'deg               ' /Getimage: degrees                               \n",
        "CD1_1   =        -0.0002802651 /GetImage: rotation matrix coefficient           \n",
        "CD1_2   =         0.0000003159 /GetImage: rotation matrix coefficient           \n",
        "CD2_1   =         0.0000002767 /GetImage: rotation matrix coefficient           \n",
        "CD2_2   =         0.0002798187 /GetImage: rotation matrix coefficient           \n",
        "OBJECT  = 'data              ' /GetImage: Requested Object Name                 \n",
        "DATAMIN =                 3759 /GetImage: Minimum returned pixel value          \n",
        "DATAMAX =                22918 /GetImage: Maximum returned pixel value          \n",
        "OBJCTRA = '05 41 06.000      ' /GetImage: Requested Right Ascension (J2000)     \n",
        "OBJCTDEC= '-02 27 30.00      ' /GetImage: Requested Declination (J2000)         \n",
        "OBJCTX  =             12682.48 /GetImage: Requested X on plate (pixels)         \n",
        "OBJCTY  =             20411.37 /GetImage: Requested Y on plate (pixels)         "
       ]
      }
     ],
     "prompt_number": 6
    },
    {
     "cell_type": "markdown",
     "metadata": {},
     "source": [
      "We can print a particular entry from the fits header by indexing it by name.  In this case, I am printing the image origin and observation date."
     ]
    },
    {
     "cell_type": "code",
     "collapsed": false,
     "input": [
      "print primary.header['ORIGIN']\n",
      "print primary.header['DATE-OBS']\n",
      "# Note that python is case sensitive"
     ],
     "language": "python",
     "metadata": {},
     "outputs": [
      {
       "output_type": "stream",
       "stream": "stdout",
       "text": [
        "STScI/MAST\n",
        "1990-12-22T13:49:00\n"
       ]
      }
     ],
     "prompt_number": 7
    },
    {
     "cell_type": "heading",
     "level": 2,
     "metadata": {},
     "source": [
      "2. Loading the image data"
     ]
    },
    {
     "cell_type": "markdown",
     "metadata": {},
     "source": [
      "\"That's all fine, but I want to look at the image and DO something with it.\""
     ]
    },
    {
     "cell_type": "code",
     "collapsed": false,
     "input": [
      "test_data = primary.data\n",
      "# OR\n",
      "# test_data = hdu_list[0].data"
     ],
     "language": "python",
     "metadata": {},
     "outputs": [],
     "prompt_number": 32
    },
    {
     "cell_type": "markdown",
     "metadata": {},
     "source": [
      "You data is now stored as a 2-D numpy array."
     ]
    },
    {
     "cell_type": "code",
     "collapsed": false,
     "input": [
      "print type( test_data )"
     ],
     "language": "python",
     "metadata": {},
     "outputs": [
      {
       "output_type": "stream",
       "stream": "stdout",
       "text": [
        "<type 'numpy.ndarray'>\n"
       ]
      }
     ],
     "prompt_number": 33
    },
    {
     "cell_type": "markdown",
     "metadata": {},
     "source": [
      "What are the dimensions of the image?  Just look at the shape of the array."
     ]
    },
    {
     "cell_type": "code",
     "collapsed": false,
     "input": [
      "print test_data.shape"
     ],
     "language": "python",
     "metadata": {},
     "outputs": [
      {
       "output_type": "stream",
       "stream": "stdout",
       "text": [
        "(893, 891)\n"
       ]
      }
     ],
     "prompt_number": 34
    },
    {
     "cell_type": "markdown",
     "metadata": {},
     "source": [
      "At this point, we can just close the fits file.  We have stored everything we wanted to a variable."
     ]
    },
    {
     "cell_type": "code",
     "collapsed": false,
     "input": [
      "hdu_list.close()"
     ],
     "language": "python",
     "metadata": {},
     "outputs": [],
     "prompt_number": 35
    },
    {
     "cell_type": "heading",
     "level": 3,
     "metadata": {},
     "source": [
      "SHORT CUT"
     ]
    },
    {
     "cell_type": "markdown",
     "metadata": {},
     "source": [
      "If you don't need to examine the fits header, you can call fits.getdata and bypass the previous steps."
     ]
    },
    {
     "cell_type": "code",
     "collapsed": false,
     "input": [
      "img_data = fits.getdata( TEST_IMAGE )\n",
      "print type( img_data )\n",
      "print img_data.shape"
     ],
     "language": "python",
     "metadata": {},
     "outputs": [
      {
       "output_type": "stream",
       "stream": "stdout",
       "text": [
        "<type 'numpy.ndarray'>\n",
        "(893, 891)\n"
       ]
      }
     ],
     "prompt_number": 36
    },
    {
     "cell_type": "heading",
     "level": 2,
     "metadata": {},
     "source": [
      "3. Viewing the image data and getting basic statistics"
     ]
    },
    {
     "cell_type": "code",
     "collapsed": false,
     "input": [
      "plt.imshow( img_data, cmap='gray' )\n",
      "\n",
      "# To see more color maps\n",
      "# http://wiki.scipy.org/Cookbook/Matplotlib/Show_colormaps"
     ],
     "language": "python",
     "metadata": {},
     "outputs": [
      {
       "output_type": "pyout",
       "prompt_number": 37,
       "text": [
        "<matplotlib.image.AxesImage at 0x10cdc1750>"
       ]
      },
      {
       "output_type": "display_data",
       "png": "[encoded data removed]"
      }
     ],
     "prompt_number": 37
    },
    {
     "cell_type": "markdown",
     "metadata": {},
     "source": [
      "Let's get some basic statistics about our image"
     ]
    },
    {
     "cell_type": "code",
     "collapsed": false,
     "input": [
      "print 'Min:', np.min( img_data )\n",
      "print 'Max:', np.max( img_data )\n",
      "print 'Mean:', np.mean( img_data )\n",
      "print 'Stdev:', np.std( img_data )"
     ],
     "language": "python",
     "metadata": {},
     "outputs": [
      {
       "output_type": "stream",
       "stream": "stdout",
       "text": [
        "Min: 3759\n",
        "Max: 22918\n",
        "Mean: 9831.48167629\n",
        "Stdev: 3032.3927542\n"
       ]
      }
     ],
     "prompt_number": 38
    },
    {
     "cell_type": "markdown",
     "metadata": {},
     "source": [
      "To make a histogram with matplotlib's hist function, we need to cast the data from 2-D to an iterable object using"
     ]
    },
    {
     "cell_type": "raw",
     "metadata": {},
     "source": [
      "img_data.flat"
     ]
    },
    {
     "cell_type": "code",
     "collapsed": false,
     "input": [
      "NBINS = 1000\n",
      "histogram = plt.hist( img_data.flat, NBINS )"
     ],
     "language": "python",
     "metadata": {},
     "outputs": [
      {
       "output_type": "display_data",
       "png": "[encoded data removed]"
      }
     ],
     "prompt_number": 25
    },
    {
     "cell_type": "heading",
     "level": 2,
     "metadata": {},
     "source": [
      "4. Image stacking"
     ]
    },
    {
     "cell_type": "markdown",
     "metadata": {},
     "source": [
      "You can perform math with the image data like any other numpy array.  In this particular example, I will stack several fits images."
     ]
    },
    {
     "cell_type": "code",
     "collapsed": false,
     "input": [
      "IMAGE_LIST = ['elliptical_01.fits','elliptical_02.fits','elliptical_03.fits']\n",
      "\n",
      "# The long way\n",
      "data_concat = []\n",
      "for image in IMAGE_LIST:\n",
      "    data_concat.append( get_image_data(image) )\n",
      "    \n",
      "# The short way\n",
      "# data_concat = [ get_image_data(image) for image in IMAGE_LIST ]"
     ],
     "language": "python",
     "metadata": {},
     "outputs": [
      {
       "ename": "IOError",
       "evalue": "[Errno 2] No such file or directory: 'elliptical_01.fits'",
       "output_type": "pyerr",
       "traceback": [
        "\u001b[0;31m---------------------------------------------------------------------------\u001b[0m\n\u001b[0;31mIOError\u001b[0m                                   Traceback (most recent call last)",
        "\u001b[0;32m<ipython-input-26-133f62e8da69>\u001b[0m in \u001b[0;36m<module>\u001b[0;34m()\u001b[0m\n\u001b[1;32m      4\u001b[0m \u001b[0mdata_concat\u001b[0m \u001b[0;34m=\u001b[0m \u001b[0;34m[\u001b[0m\u001b[0;34m]\u001b[0m\u001b[0;34m\u001b[0m\u001b[0m\n\u001b[1;32m      5\u001b[0m \u001b[0;32mfor\u001b[0m \u001b[0mimage\u001b[0m \u001b[0;32min\u001b[0m \u001b[0mIMAGE_LIST\u001b[0m\u001b[0;34m:\u001b[0m\u001b[0;34m\u001b[0m\u001b[0m\n\u001b[0;32m----> 6\u001b[0;31m     \u001b[0mdata_concat\u001b[0m\u001b[0;34m.\u001b[0m\u001b[0mappend\u001b[0m\u001b[0;34m(\u001b[0m \u001b[0mget_image_data\u001b[0m\u001b[0;34m(\u001b[0m\u001b[0mimage\u001b[0m\u001b[0;34m)\u001b[0m \u001b[0;34m)\u001b[0m\u001b[0;34m\u001b[0m\u001b[0m\n\u001b[0m\u001b[1;32m      7\u001b[0m \u001b[0;34m\u001b[0m\u001b[0m\n\u001b[1;32m      8\u001b[0m \u001b[0;31m# The short way\u001b[0m\u001b[0;34m\u001b[0m\u001b[0;34m\u001b[0m\u001b[0m\n",
        "\u001b[0;32m<ipython-input-24-ef7a96887a88>\u001b[0m in \u001b[0;36mget_image_data\u001b[0;34m(filename)\u001b[0m\n\u001b[1;32m      1\u001b[0m \u001b[0;32mdef\u001b[0m \u001b[0mget_image_data\u001b[0m\u001b[0;34m(\u001b[0m \u001b[0mfilename\u001b[0m \u001b[0;34m)\u001b[0m\u001b[0;34m:\u001b[0m\u001b[0;34m\u001b[0m\u001b[0m\n\u001b[0;32m----> 2\u001b[0;31m     \u001b[0mhdu_list\u001b[0m \u001b[0;34m=\u001b[0m \u001b[0mfits\u001b[0m\u001b[0;34m.\u001b[0m\u001b[0mopen\u001b[0m\u001b[0;34m(\u001b[0m \u001b[0mfilename\u001b[0m \u001b[0;34m)\u001b[0m\u001b[0;34m\u001b[0m\u001b[0m\n\u001b[0m\u001b[1;32m      3\u001b[0m     \u001b[0mresult\u001b[0m   \u001b[0;34m=\u001b[0m \u001b[0mhdu_list\u001b[0m\u001b[0;34m[\u001b[0m\u001b[0;36m0\u001b[0m\u001b[0;34m]\u001b[0m\u001b[0;34m.\u001b[0m\u001b[0mdata\u001b[0m\u001b[0;34m\u001b[0m\u001b[0m\n\u001b[1;32m      4\u001b[0m     \u001b[0mhdu_list\u001b[0m\u001b[0;34m.\u001b[0m\u001b[0mclose\u001b[0m\u001b[0;34m(\u001b[0m\u001b[0;34m)\u001b[0m\u001b[0;34m\u001b[0m\u001b[0m\n\u001b[1;32m      5\u001b[0m     \u001b[0;32mreturn\u001b[0m \u001b[0mresult\u001b[0m\u001b[0;34m\u001b[0m\u001b[0m\n",
        "\u001b[0;32m/opt/local/Library/Frameworks/Python.framework/Versions/2.7/lib/python2.7/site-packages/astropy-0.2.3-py2.7-macosx-10.8-x86_64.egg/astropy/io/fits/hdu/hdulist.pyc\u001b[0m in \u001b[0;36mfitsopen\u001b[0;34m(name, mode, memmap, save_backup, **kwargs)\u001b[0m\n\u001b[1;32m    115\u001b[0m         \u001b[0;32mraise\u001b[0m \u001b[0mValueError\u001b[0m\u001b[0;34m(\u001b[0m\u001b[0;34m'Empty filename: %s'\u001b[0m \u001b[0;34m%\u001b[0m \u001b[0mrepr\u001b[0m\u001b[0;34m(\u001b[0m\u001b[0mname\u001b[0m\u001b[0;34m)\u001b[0m\u001b[0;34m)\u001b[0m\u001b[0;34m\u001b[0m\u001b[0m\n\u001b[1;32m    116\u001b[0m \u001b[0;34m\u001b[0m\u001b[0m\n\u001b[0;32m--> 117\u001b[0;31m     \u001b[0;32mreturn\u001b[0m \u001b[0mHDUList\u001b[0m\u001b[0;34m.\u001b[0m\u001b[0mfromfile\u001b[0m\u001b[0;34m(\u001b[0m\u001b[0mname\u001b[0m\u001b[0;34m,\u001b[0m \u001b[0mmode\u001b[0m\u001b[0;34m,\u001b[0m \u001b[0mmemmap\u001b[0m\u001b[0;34m,\u001b[0m \u001b[0msave_backup\u001b[0m\u001b[0;34m,\u001b[0m \u001b[0;34m**\u001b[0m\u001b[0mkwargs\u001b[0m\u001b[0;34m)\u001b[0m\u001b[0;34m\u001b[0m\u001b[0m\n\u001b[0m\u001b[1;32m    118\u001b[0m \u001b[0;34m\u001b[0m\u001b[0m\n\u001b[1;32m    119\u001b[0m \u001b[0;34m\u001b[0m\u001b[0m\n",
        "\u001b[0;32m/opt/local/Library/Frameworks/Python.framework/Versions/2.7/lib/python2.7/site-packages/astropy-0.2.3-py2.7-macosx-10.8-x86_64.egg/astropy/io/fits/hdu/hdulist.pyc\u001b[0m in \u001b[0;36mfromfile\u001b[0;34m(cls, fileobj, mode, memmap, save_backup, **kwargs)\u001b[0m\n\u001b[1;32m    247\u001b[0m \u001b[0;34m\u001b[0m\u001b[0m\n\u001b[1;32m    248\u001b[0m         return cls._readfrom(fileobj=fileobj, mode=mode, memmap=memmap,\n\u001b[0;32m--> 249\u001b[0;31m                              save_backup=save_backup, **kwargs)\n\u001b[0m\u001b[1;32m    250\u001b[0m \u001b[0;34m\u001b[0m\u001b[0m\n\u001b[1;32m    251\u001b[0m     \u001b[0;34m@\u001b[0m\u001b[0mclassmethod\u001b[0m\u001b[0;34m\u001b[0m\u001b[0m\n",
        "\u001b[0;32m/opt/local/Library/Frameworks/Python.framework/Versions/2.7/lib/python2.7/site-packages/astropy-0.2.3-py2.7-macosx-10.8-x86_64.egg/astropy/io/fits/hdu/hdulist.pyc\u001b[0m in \u001b[0;36m_readfrom\u001b[0;34m(cls, fileobj, data, mode, memmap, save_backup, **kwargs)\u001b[0m\n\u001b[1;32m    775\u001b[0m         \u001b[0;32mif\u001b[0m \u001b[0mfileobj\u001b[0m \u001b[0;32mis\u001b[0m \u001b[0;32mnot\u001b[0m \u001b[0mNone\u001b[0m\u001b[0;34m:\u001b[0m\u001b[0;34m\u001b[0m\u001b[0m\n\u001b[1;32m    776\u001b[0m             \u001b[0;31m# instantiate a FITS file object (ffo)\u001b[0m\u001b[0;34m\u001b[0m\u001b[0;34m\u001b[0m\u001b[0m\n\u001b[0;32m--> 777\u001b[0;31m             \u001b[0mffo\u001b[0m \u001b[0;34m=\u001b[0m \u001b[0m_File\u001b[0m\u001b[0;34m(\u001b[0m\u001b[0mfileobj\u001b[0m\u001b[0;34m,\u001b[0m \u001b[0mmode\u001b[0m\u001b[0;34m=\u001b[0m\u001b[0mmode\u001b[0m\u001b[0;34m,\u001b[0m \u001b[0mmemmap\u001b[0m\u001b[0;34m=\u001b[0m\u001b[0mmemmap\u001b[0m\u001b[0;34m)\u001b[0m\u001b[0;34m\u001b[0m\u001b[0m\n\u001b[0m\u001b[1;32m    778\u001b[0m             \u001b[0mhdulist\u001b[0m \u001b[0;34m=\u001b[0m \u001b[0mcls\u001b[0m\u001b[0;34m(\u001b[0m\u001b[0mfile\u001b[0m\u001b[0;34m=\u001b[0m\u001b[0mffo\u001b[0m\u001b[0;34m)\u001b[0m\u001b[0;34m\u001b[0m\u001b[0m\n\u001b[1;32m    779\u001b[0m         \u001b[0;32melse\u001b[0m\u001b[0;34m:\u001b[0m\u001b[0;34m\u001b[0m\u001b[0m\n",
        "\u001b[0;32m/opt/local/Library/Frameworks/Python.framework/Versions/2.7/lib/python2.7/site-packages/astropy-0.2.3-py2.7-macosx-10.8-x86_64.egg/astropy/io/fits/file.pyc\u001b[0m in \u001b[0;36m__init__\u001b[0;34m(self, fileobj, mode, memmap)\u001b[0m\n\u001b[1;32m     79\u001b[0m                 \u001b[0;31m#\u001b[0m\u001b[0;34m\u001b[0m\u001b[0;34m\u001b[0m\u001b[0m\n\u001b[1;32m     80\u001b[0m             \u001b[0;32mtry\u001b[0m\u001b[0;34m:\u001b[0m\u001b[0;34m\u001b[0m\u001b[0m\n\u001b[0;32m---> 81\u001b[0;31m                 \u001b[0mself\u001b[0m\u001b[0;34m.\u001b[0m\u001b[0mname\u001b[0m\u001b[0;34m,\u001b[0m \u001b[0m_\u001b[0m \u001b[0;34m=\u001b[0m \u001b[0murllib\u001b[0m\u001b[0;34m.\u001b[0m\u001b[0murlretrieve\u001b[0m\u001b[0;34m(\u001b[0m\u001b[0mfileobj\u001b[0m\u001b[0;34m)\u001b[0m\u001b[0;34m\u001b[0m\u001b[0m\n\u001b[0m\u001b[1;32m     82\u001b[0m             \u001b[0;32mexcept\u001b[0m \u001b[0;34m(\u001b[0m\u001b[0mTypeError\u001b[0m\u001b[0;34m,\u001b[0m \u001b[0mValueError\u001b[0m\u001b[0;34m)\u001b[0m\u001b[0;34m:\u001b[0m\u001b[0;34m\u001b[0m\u001b[0m\n\u001b[1;32m     83\u001b[0m                 \u001b[0;31m# A couple different exceptions can occur here when passing a\u001b[0m\u001b[0;34m\u001b[0m\u001b[0;34m\u001b[0m\u001b[0m\n",
        "\u001b[0;32m/opt/local/Library/Frameworks/Python.framework/Versions/2.7/lib/python2.7/urllib.pyc\u001b[0m in \u001b[0;36murlretrieve\u001b[0;34m(url, filename, reporthook, data)\u001b[0m\n\u001b[1;32m     91\u001b[0m     \u001b[0;32mif\u001b[0m \u001b[0;32mnot\u001b[0m \u001b[0m_urlopener\u001b[0m\u001b[0;34m:\u001b[0m\u001b[0;34m\u001b[0m\u001b[0m\n\u001b[1;32m     92\u001b[0m         \u001b[0m_urlopener\u001b[0m \u001b[0;34m=\u001b[0m \u001b[0mFancyURLopener\u001b[0m\u001b[0;34m(\u001b[0m\u001b[0;34m)\u001b[0m\u001b[0;34m\u001b[0m\u001b[0m\n\u001b[0;32m---> 93\u001b[0;31m     \u001b[0;32mreturn\u001b[0m \u001b[0m_urlopener\u001b[0m\u001b[0;34m.\u001b[0m\u001b[0mretrieve\u001b[0m\u001b[0;34m(\u001b[0m\u001b[0murl\u001b[0m\u001b[0;34m,\u001b[0m \u001b[0mfilename\u001b[0m\u001b[0;34m,\u001b[0m \u001b[0mreporthook\u001b[0m\u001b[0;34m,\u001b[0m \u001b[0mdata\u001b[0m\u001b[0;34m)\u001b[0m\u001b[0;34m\u001b[0m\u001b[0m\n\u001b[0m\u001b[1;32m     94\u001b[0m \u001b[0;32mdef\u001b[0m \u001b[0murlcleanup\u001b[0m\u001b[0;34m(\u001b[0m\u001b[0;34m)\u001b[0m\u001b[0;34m:\u001b[0m\u001b[0;34m\u001b[0m\u001b[0m\n\u001b[1;32m     95\u001b[0m     \u001b[0;32mif\u001b[0m \u001b[0m_urlopener\u001b[0m\u001b[0;34m:\u001b[0m\u001b[0;34m\u001b[0m\u001b[0m\n",
        "\u001b[0;32m/opt/local/Library/Frameworks/Python.framework/Versions/2.7/lib/python2.7/urllib.pyc\u001b[0m in \u001b[0;36mretrieve\u001b[0;34m(self, url, filename, reporthook, data)\u001b[0m\n\u001b[1;32m    237\u001b[0m             \u001b[0;32mexcept\u001b[0m \u001b[0mIOError\u001b[0m\u001b[0;34m:\u001b[0m\u001b[0;34m\u001b[0m\u001b[0m\n\u001b[1;32m    238\u001b[0m                 \u001b[0;32mpass\u001b[0m\u001b[0;34m\u001b[0m\u001b[0m\n\u001b[0;32m--> 239\u001b[0;31m         \u001b[0mfp\u001b[0m \u001b[0;34m=\u001b[0m \u001b[0mself\u001b[0m\u001b[0;34m.\u001b[0m\u001b[0mopen\u001b[0m\u001b[0;34m(\u001b[0m\u001b[0murl\u001b[0m\u001b[0;34m,\u001b[0m \u001b[0mdata\u001b[0m\u001b[0;34m)\u001b[0m\u001b[0;34m\u001b[0m\u001b[0m\n\u001b[0m\u001b[1;32m    240\u001b[0m         \u001b[0;32mtry\u001b[0m\u001b[0;34m:\u001b[0m\u001b[0;34m\u001b[0m\u001b[0m\n\u001b[1;32m    241\u001b[0m             \u001b[0mheaders\u001b[0m \u001b[0;34m=\u001b[0m \u001b[0mfp\u001b[0m\u001b[0;34m.\u001b[0m\u001b[0minfo\u001b[0m\u001b[0;34m(\u001b[0m\u001b[0;34m)\u001b[0m\u001b[0;34m\u001b[0m\u001b[0m\n",
        "\u001b[0;32m/opt/local/Library/Frameworks/Python.framework/Versions/2.7/lib/python2.7/urllib.pyc\u001b[0m in \u001b[0;36mopen\u001b[0;34m(self, fullurl, data)\u001b[0m\n\u001b[1;32m    205\u001b[0m         \u001b[0;32mtry\u001b[0m\u001b[0;34m:\u001b[0m\u001b[0;34m\u001b[0m\u001b[0m\n\u001b[1;32m    206\u001b[0m             \u001b[0;32mif\u001b[0m \u001b[0mdata\u001b[0m \u001b[0;32mis\u001b[0m \u001b[0mNone\u001b[0m\u001b[0;34m:\u001b[0m\u001b[0;34m\u001b[0m\u001b[0m\n\u001b[0;32m--> 207\u001b[0;31m                 \u001b[0;32mreturn\u001b[0m \u001b[0mgetattr\u001b[0m\u001b[0;34m(\u001b[0m\u001b[0mself\u001b[0m\u001b[0;34m,\u001b[0m \u001b[0mname\u001b[0m\u001b[0;34m)\u001b[0m\u001b[0;34m(\u001b[0m\u001b[0murl\u001b[0m\u001b[0;34m)\u001b[0m\u001b[0;34m\u001b[0m\u001b[0m\n\u001b[0m\u001b[1;32m    208\u001b[0m             \u001b[0;32melse\u001b[0m\u001b[0;34m:\u001b[0m\u001b[0;34m\u001b[0m\u001b[0m\n\u001b[1;32m    209\u001b[0m                 \u001b[0;32mreturn\u001b[0m \u001b[0mgetattr\u001b[0m\u001b[0;34m(\u001b[0m\u001b[0mself\u001b[0m\u001b[0;34m,\u001b[0m \u001b[0mname\u001b[0m\u001b[0;34m)\u001b[0m\u001b[0;34m(\u001b[0m\u001b[0murl\u001b[0m\u001b[0;34m,\u001b[0m \u001b[0mdata\u001b[0m\u001b[0;34m)\u001b[0m\u001b[0;34m\u001b[0m\u001b[0m\n",
        "\u001b[0;32m/opt/local/Library/Frameworks/Python.framework/Versions/2.7/lib/python2.7/urllib.pyc\u001b[0m in \u001b[0;36mopen_file\u001b[0;34m(self, url)\u001b[0m\n\u001b[1;32m    460\u001b[0m             \u001b[0;32mreturn\u001b[0m \u001b[0mself\u001b[0m\u001b[0;34m.\u001b[0m\u001b[0mopen_ftp\u001b[0m\u001b[0;34m(\u001b[0m\u001b[0murl\u001b[0m\u001b[0;34m)\u001b[0m\u001b[0;34m\u001b[0m\u001b[0m\n\u001b[1;32m    461\u001b[0m         \u001b[0;32melse\u001b[0m\u001b[0;34m:\u001b[0m\u001b[0;34m\u001b[0m\u001b[0m\n\u001b[0;32m--> 462\u001b[0;31m             \u001b[0;32mreturn\u001b[0m \u001b[0mself\u001b[0m\u001b[0;34m.\u001b[0m\u001b[0mopen_local_file\u001b[0m\u001b[0;34m(\u001b[0m\u001b[0murl\u001b[0m\u001b[0;34m)\u001b[0m\u001b[0;34m\u001b[0m\u001b[0m\n\u001b[0m\u001b[1;32m    463\u001b[0m \u001b[0;34m\u001b[0m\u001b[0m\n\u001b[1;32m    464\u001b[0m     \u001b[0;32mdef\u001b[0m \u001b[0mopen_local_file\u001b[0m\u001b[0;34m(\u001b[0m\u001b[0mself\u001b[0m\u001b[0;34m,\u001b[0m \u001b[0murl\u001b[0m\u001b[0;34m)\u001b[0m\u001b[0;34m:\u001b[0m\u001b[0;34m\u001b[0m\u001b[0m\n",
        "\u001b[0;32m/opt/local/Library/Frameworks/Python.framework/Versions/2.7/lib/python2.7/urllib.pyc\u001b[0m in \u001b[0;36mopen_local_file\u001b[0;34m(self, url)\u001b[0m\n\u001b[1;32m    474\u001b[0m             \u001b[0mstats\u001b[0m \u001b[0;34m=\u001b[0m \u001b[0mos\u001b[0m\u001b[0;34m.\u001b[0m\u001b[0mstat\u001b[0m\u001b[0;34m(\u001b[0m\u001b[0mlocalname\u001b[0m\u001b[0;34m)\u001b[0m\u001b[0;34m\u001b[0m\u001b[0m\n\u001b[1;32m    475\u001b[0m         \u001b[0;32mexcept\u001b[0m \u001b[0mOSError\u001b[0m\u001b[0;34m,\u001b[0m \u001b[0me\u001b[0m\u001b[0;34m:\u001b[0m\u001b[0;34m\u001b[0m\u001b[0m\n\u001b[0;32m--> 476\u001b[0;31m             \u001b[0;32mraise\u001b[0m \u001b[0mIOError\u001b[0m\u001b[0;34m(\u001b[0m\u001b[0me\u001b[0m\u001b[0;34m.\u001b[0m\u001b[0merrno\u001b[0m\u001b[0;34m,\u001b[0m \u001b[0me\u001b[0m\u001b[0;34m.\u001b[0m\u001b[0mstrerror\u001b[0m\u001b[0;34m,\u001b[0m \u001b[0me\u001b[0m\u001b[0;34m.\u001b[0m\u001b[0mfilename\u001b[0m\u001b[0;34m)\u001b[0m\u001b[0;34m\u001b[0m\u001b[0m\n\u001b[0m\u001b[1;32m    477\u001b[0m         \u001b[0msize\u001b[0m \u001b[0;34m=\u001b[0m \u001b[0mstats\u001b[0m\u001b[0;34m.\u001b[0m\u001b[0mst_size\u001b[0m\u001b[0;34m\u001b[0m\u001b[0m\n\u001b[1;32m    478\u001b[0m         \u001b[0mmodified\u001b[0m \u001b[0;34m=\u001b[0m \u001b[0memail\u001b[0m\u001b[0;34m.\u001b[0m\u001b[0mutils\u001b[0m\u001b[0;34m.\u001b[0m\u001b[0mformatdate\u001b[0m\u001b[0;34m(\u001b[0m\u001b[0mstats\u001b[0m\u001b[0;34m.\u001b[0m\u001b[0mst_mtime\u001b[0m\u001b[0;34m,\u001b[0m \u001b[0musegmt\u001b[0m\u001b[0;34m=\u001b[0m\u001b[0mTrue\u001b[0m\u001b[0;34m)\u001b[0m\u001b[0;34m\u001b[0m\u001b[0m\n",
        "\u001b[0;31mIOError\u001b[0m: [Errno 2] No such file or directory: 'elliptical_01.fits'"
       ]
      },
      {
       "output_type": "stream",
       "stream": "stdout",
       "text": [
        "ERROR: IOError: [Errno 2] No such file or directory: 'elliptical_01.fits' [urllib]\n"
       ]
      }
     ],
     "prompt_number": 26
    },
    {
     "cell_type": "markdown",
     "metadata": {},
     "source": [
      "Let's see what each image looks like"
     ]
    },
    {
     "cell_type": "code",
     "collapsed": false,
     "input": [
      "for img_data in data_concat:\n",
      "    #plot( img_dat )\n",
      "    plt.figure()"
     ],
     "language": "python",
     "metadata": {},
     "outputs": []
    },
    {
     "cell_type": "markdown",
     "metadata": {},
     "source": [
      "Now we'll take the median of this list 2-D arrays to create a single, median image."
     ]
    },
    {
     "cell_type": "code",
     "collapsed": false,
     "input": [
      "# http://stackoverflow.com/questions/13753251/median-combining-fits-images-in-python\n",
      "median_image = np.median( data_concat, axis=0 )"
     ],
     "language": "python",
     "metadata": {},
     "outputs": []
    },
    {
     "cell_type": "markdown",
     "metadata": {},
     "source": [
      "Plot the result."
     ]
    },
    {
     "cell_type": "code",
     "collapsed": false,
     "input": [],
     "language": "python",
     "metadata": {},
     "outputs": []
    },
    {
     "cell_type": "heading",
     "level": 2,
     "metadata": {},
     "source": [
      "5. Writing image data to fits file"
     ]
    },
    {
     "cell_type": "code",
     "collapsed": false,
     "input": [
      "## Creating a fits header?"
     ],
     "language": "python",
     "metadata": {},
     "outputs": []
    },
    {
     "cell_type": "code",
     "collapsed": false,
     "input": [
      "OUTFILE = 'median_elliptical.fits'\n",
      "\n",
      "hdu = fits.PrimaryHDU( median_data )\n",
      "hdu.writeto( OUTFILE )"
     ],
     "language": "python",
     "metadata": {},
     "outputs": []
    },
    {
     "cell_type": "markdown",
     "metadata": {},
     "source": [
      "This astro-py tutorial was contributed by Lia Corrales (lia@astro.columbia.edu) <br>\n",
      "With help from RGB tutorial from Jessica Lu: http://www.astrobetter.com/making-rgb-images-from-fits-files-with-pythonmatplotlib/ <br>\n",
      "Created 09-Jan-2014"
     ]
    }
   ],
   "metadata": {}
  }
 ]
}