{
 "metadata": {
  "astropy-tutorials": {
   "author": "Lia R. Corrales <lia@astro.columbia.edu>",
   "date": "January 2014",
   "description": "Demonstrates use of astropy.utils.data to download data; astropy.io.fits to open the file; matplotlib to view the image with different color scales and stretches and to make histrograms. Also includes method for simple image stacking.",
   "link_name": "Viewing and manipulating FITS images",
   "name": "",
   "published": true
  },
  "signature": "sha256:56993db1668663f3182da8cd2b7f2eca7ed5e115d7877b4829789b9e65d74df8"
 },
 "nbformat": 3,
 "nbformat_minor": 0,
 "worksheets": [
  {
   "cells": [
    {
     "cell_type": "code",
     "collapsed": false,
     "input": [
      "import numpy as np\n",
      "\n",
      "# Set up matplotlib and use a nicer set of plot parameters\n",
      "%config InlineBackend.rc = {}\n",
      "import matplotlib\n",
      "matplotlib.rc_file(\"../../templates/matplotlibrc\")\n",
      "import matplotlib.pyplot as plt\n",
      "%matplotlib inline"
     ],
     "language": "python",
     "metadata": {
      "slideshow": {
       "slide_type": "skip"
      }
     },
     "outputs": []
    },
    {
     "cell_type": "markdown",
     "metadata": {
      "slideshow": {
       "slide_type": "slide"
      }
     },
     "source": [
      "The following line is needed to download the example FITS files used here."
     ]
    },
    {
     "cell_type": "code",
     "collapsed": false,
     "input": [
      "from astropy.utils.data import download_file"
     ],
     "language": "python",
     "metadata": {},
     "outputs": []
    },
    {
     "cell_type": "heading",
     "level": 1,
     "metadata": {
      "slideshow": {
       "slide_type": "slide"
      }
     },
     "source": [
      "Viewing and manipulating FITS images"
     ]
    },
    {
     "cell_type": "markdown",
     "metadata": {},
     "source": [
      "FITS files are the standard format for all astronomical data.\n",
      "\n",
      "See details on astropy's FITS module here:\n",
      "https://astropy.readthedocs.org/en/latest/io/fits/index.html"
     ]
    },
    {
     "cell_type": "code",
     "collapsed": false,
     "input": [
      "from astropy.io import fits\n",
      "# import pyfits"
     ],
     "language": "python",
     "metadata": {},
     "outputs": []
    },
    {
     "cell_type": "code",
     "collapsed": false,
     "input": [
      "image_file = download_file('http://data.astropy.org/tutorials/FITS-images/HorseHead.fits', cache=True )"
     ],
     "language": "python",
     "metadata": {},
     "outputs": []
    },
    {
     "cell_type": "heading",
     "level": 2,
     "metadata": {
      "slideshow": {
       "slide_type": "slide"
      }
     },
     "source": [
      "Opening FITS files and loading the image data"
     ]
    },
    {
     "cell_type": "markdown",
     "metadata": {},
     "source": [
      "I will open the FITS file and find out what it contains."
     ]
    },
    {
     "cell_type": "code",
     "collapsed": false,
     "input": [
      "hdu_list = fits.open(image_file)\n",
      "hdu_list.info()"
     ],
     "language": "python",
     "metadata": {},
     "outputs": []
    },
    {
     "cell_type": "markdown",
     "metadata": {},
     "source": [
      "Generally the image information is located in the <code>PRIMARY</code> block. The blocks are numbered and can be accessed by indexing <code>hdu_list</code>."
     ]
    },
    {
     "cell_type": "code",
     "collapsed": false,
     "input": [
      "image_data = hdu_list[0].data\n",
      "# image_data = hdu_list['PRIMARY'].data"
     ],
     "language": "python",
     "metadata": {
      "slideshow": {
       "slide_type": "slide"
      }
     },
     "outputs": []
    },
    {
     "cell_type": "markdown",
     "metadata": {},
     "source": [
      "You data is now stored as a 2-D numpy array.  Want to know the dimensions of the image?  Just look at the `shape` of the array."
     ]
    },
    {
     "cell_type": "code",
     "collapsed": false,
     "input": [
      "print(type(image_data))\n",
      "print(image_data.shape)"
     ],
     "language": "python",
     "metadata": {},
     "outputs": []
    },
    {
     "cell_type": "markdown",
     "metadata": {
      "slideshow": {
       "slide_type": "slide"
      }
     },
     "source": [
      "The ``Header`` is also an important component.  The info above tells us it has 161 cards:"
     ]
    },
    {
     "cell_type": "code",
     "collapsed": false,
     "input": [
      "header = hdu_list['PRIMARY'].header"
     ],
     "language": "python",
     "metadata": {},
     "outputs": []
    },
    {
     "cell_type": "code",
     "collapsed": false,
     "input": [
      "header"
     ],
     "language": "python",
     "metadata": {},
     "outputs": []
    },
    {
     "cell_type": "heading",
     "level": 3,
     "metadata": {
      "slideshow": {
       "slide_type": "slide"
      }
     },
     "source": [
      "SHORTCUT"
     ]
    },
    {
     "cell_type": "markdown",
     "metadata": {},
     "source": [
      "If you don't need to examine the FITS header, you can call `fits.getdata` to bypass the previous steps."
     ]
    },
    {
     "cell_type": "code",
     "collapsed": false,
     "input": [
      "image_data = fits.getdata(image_file)\n",
      "print(type(image_data))\n",
      "print(image_data.shape)"
     ],
     "language": "python",
     "metadata": {},
     "outputs": []
    },
    {
     "cell_type": "markdown",
     "metadata": {
      "slideshow": {
       "slide_type": "subslide"
      }
     },
     "source": [
      "Similarly, if you only want the header, you can use `fits.getheader`:"
     ]
    },
    {
     "cell_type": "code",
     "collapsed": false,
     "input": [
      "header = fits.getheader(image_file)"
     ],
     "language": "python",
     "metadata": {},
     "outputs": []
    },
    {
     "cell_type": "heading",
     "level": 2,
     "metadata": {
      "slideshow": {
       "slide_type": "slide"
      }
     },
     "source": [
      "Viewing the image data and getting basic statistics"
     ]
    },
    {
     "cell_type": "code",
     "collapsed": false,
     "input": [
      "plt.imshow(image_data, cmap='gray')\n",
      "plt.colorbar()\n",
      "\n",
      "# To see more color maps\n",
      "# http://wiki.scipy.org/Cookbook/Matplotlib/Show_colormaps"
     ],
     "language": "python",
     "metadata": {},
     "outputs": []
    },
    {
     "cell_type": "markdown",
     "metadata": {
      "slideshow": {
       "slide_type": "slide"
      }
     },
     "source": [
      "Let's get some basic statistics about our image.  If your image contained NaNs, you'd use `np.nanmin` etc below"
     ]
    },
    {
     "cell_type": "code",
     "collapsed": false,
     "input": [
      "print('Min:', np.min(image_data))\n",
      "print('Max:', np.max(image_data))\n",
      "print('Mean:', np.mean(image_data))\n",
      "print('Stdev:', np.std(image_data))"
     ],
     "language": "python",
     "metadata": {},
     "outputs": []
    },
    {
     "cell_type": "heading",
     "level": 3,
     "metadata": {
      "slideshow": {
       "slide_type": "slide"
      }
     },
     "source": [
      "Plotting a histogram"
     ]
    },
    {
     "cell_type": "markdown",
     "metadata": {},
     "source": [
      "To make a histogram with `matplotlib.pyplot.hist()`, I need to cast the data from a 2-D to array to something one dimensional."
     ]
    },
    {
     "cell_type": "markdown",
     "metadata": {},
     "source": [
      "In this case, I am using the iterable python object `img_data.flat`."
     ]
    },
    {
     "cell_type": "code",
     "collapsed": false,
     "input": [
      "print(type(image_data.flat))"
     ],
     "language": "python",
     "metadata": {},
     "outputs": []
    },
    {
     "cell_type": "code",
     "collapsed": false,
     "input": [
      "NBINS = 1000\n",
      "histogram = plt.hist(image_data.flat, NBINS)"
     ],
     "language": "python",
     "metadata": {
      "slideshow": {
       "slide_type": "fragment"
      }
     },
     "outputs": []
    },
    {
     "cell_type": "heading",
     "level": 3,
     "metadata": {
      "slideshow": {
       "slide_type": "slide"
      }
     },
     "source": [
      "Displaying the image with a logarithmic scale"
     ]
    },
    {
     "cell_type": "markdown",
     "metadata": {},
     "source": [
      "Want to use a logarithmic color scale? To do so we need to load the `LogNorm` object from `matplotlib`."
     ]
    },
    {
     "cell_type": "code",
     "collapsed": false,
     "input": [
      "from matplotlib.colors import LogNorm"
     ],
     "language": "python",
     "metadata": {},
     "outputs": []
    },
    {
     "cell_type": "code",
     "collapsed": false,
     "input": [
      "plt.imshow(image_data, cmap='gray', norm=LogNorm())\n",
      "\n",
      "# I chose the tick marks based on the histogram above\n",
      "cbar = plt.colorbar(ticks=[5.e3,1.e4,2.e4])\n",
      "cbar.ax.set_yticklabels(['5,000','10,000','20,000'])"
     ],
     "language": "python",
     "metadata": {},
     "outputs": []
    },
    {
     "cell_type": "heading",
     "level": 2,
     "metadata": {
      "slideshow": {
       "slide_type": "slide"
      }
     },
     "source": [
      "Basic image math: image stacking"
     ]
    },
    {
     "cell_type": "markdown",
     "metadata": {},
     "source": [
      "You can perform math with the image data like any other numpy array.  In this particular example, I will stack several images of M13 taken with a ~10'' telescope."
     ]
    },
    {
     "cell_type": "markdown",
     "metadata": {},
     "source": [
      "I open a series of FITS files and store the data in a list, which I've named `image_concat`."
     ]
    },
    {
     "cell_type": "code",
     "collapsed": false,
     "input": [
      "url_template = 'http://data.astropy.org/tutorials/FITS-images/M13_blue_000{0}.fits'\n",
      "image_list = [download_file(url_template.format(n), cache=True)\n",
      "              for n in ('1','2','3','4','5')]\n",
      "\n",
      "# The long way\n",
      "image_concat = []\n",
      "for image in image_list:\n",
      "    image_concat.append(fits.getdata(image))\n",
      "    \n",
      "# The short way\n",
      "#image_concat = [ fits.getdata(image) for image in IMAGE_LIST ]"
     ],
     "language": "python",
     "metadata": {},
     "outputs": []
    },
    {
     "cell_type": "markdown",
     "metadata": {
      "slideshow": {
       "slide_type": "slide"
      }
     },
     "source": [
      "Now I'll stack the images by averaging my concatenated list."
     ]
    },
    {
     "cell_type": "code",
     "collapsed": false,
     "input": [
      "# The long way - slow, but clear\n",
      "#final_image = np.zeros(shape=image_concat[0].shape)\n",
      "#\n",
      "#for image in image_concat:\n",
      "#    final_image += image\n",
      "# final_image /= len(image_concat)\n",
      "\n",
      "# The short way: numpy will turn your list of images into a 'cube'\n",
      "# with axis=0 being the shortest (stacked) axis\n",
      "final_image = np.mean(image_concat, axis=0)"
     ],
     "language": "python",
     "metadata": {},
     "outputs": []
    },
    {
     "cell_type": "markdown",
     "metadata": {
      "slideshow": {
       "slide_type": "slide"
      }
     },
     "source": [
      "I'm going to show the image, but I want to decide on the best stretch. To do so I'll plot a histogram of the data."
     ]
    },
    {
     "cell_type": "code",
     "collapsed": false,
     "input": [
      "image_hist = plt.hist(final_image.flat, 1000)"
     ],
     "language": "python",
     "metadata": {},
     "outputs": []
    },
    {
     "cell_type": "markdown",
     "metadata": {
      "slideshow": {
       "slide_type": "slide"
      }
     },
     "source": [
      "I'll use the keywords `vmin` and `vmax` to set limits on the color scaling for `imshow`."
     ]
    },
    {
     "cell_type": "code",
     "collapsed": false,
     "input": [
      "plt.imshow(final_image, cmap='gray', vmin=400, vmax=600)\n",
      "plt.colorbar()"
     ],
     "language": "python",
     "metadata": {},
     "outputs": []
    },
    {
     "cell_type": "heading",
     "level": 2,
     "metadata": {
      "slideshow": {
       "slide_type": "slide"
      }
     },
     "source": [
      "Writing image data to a FITS file"
     ]
    },
    {
     "cell_type": "markdown",
     "metadata": {},
     "source": [
      "This is easy to do with the `writeto()` method."
     ]
    },
    {
     "cell_type": "markdown",
     "metadata": {},
     "source": [
      "You will receive an error if the file you are trying to write already exists.  That's why I've set `clobber=True`.\n",
      "\n",
      "Most tools in the `astropy` and python ecosystem use the keyword `overwrite` instead of `clobber`; `clobber` is inherited from IRAF."
     ]
    },
    {
     "cell_type": "code",
     "collapsed": false,
     "input": [
      "outfile = 'stacked_M13_blue.fits'\n",
      "\n",
      "hdu = fits.PrimaryHDU(final_image)\n",
      "hdu.writeto(outfile, clobber=True)"
     ],
     "language": "python",
     "metadata": {},
     "outputs": []
    },
    {
     "cell_type": "heading",
     "level": 1,
     "metadata": {},
     "source": [
      "Using the world coordinate system"
     ]
    },
    {
     "cell_type": "markdown",
     "metadata": {},
     "source": [
      "\"World coordinates\" refer to RA/Dec or Galactic latitude/longitude.\n",
      "\n",
      "The full documentation is available at:\n",
      "http://astropy.readthedocs.org/en/latest/wcs/"
     ]
    },
    {
     "cell_type": "code",
     "collapsed": false,
     "input": [
      "from astropy import wcs"
     ],
     "language": "python",
     "metadata": {},
     "outputs": []
    },
    {
     "cell_type": "markdown",
     "metadata": {},
     "source": [
      "Step 1. Create a `WCS` object"
     ]
    },
    {
     "cell_type": "code",
     "collapsed": false,
     "input": [
      "mywcs = wcs.WCS(header)"
     ],
     "language": "python",
     "metadata": {},
     "outputs": []
    },
    {
     "cell_type": "markdown",
     "metadata": {
      "slideshow": {
       "slide_type": "slide"
      }
     },
     "source": [
      "The most important tools related to a WCS are the conversion from pixels -> wcs and wcs -> pixels, accomplished with `WCS.wcs_pix2world` and `WCS.wcs_world2pix`.\n",
      "\n",
      "The syntax is cumbersome for converting a single pixel:"
     ]
    },
    {
     "cell_type": "code",
     "collapsed": false,
     "input": [
      "xpix, ypix = [50,100]\n",
      "# The '0' indicates that the pixels are indexed starting at 0, the python/c convention\n",
      "# You can also use '1', which indicates the FITS/IRAF/FORTRAN convention\n",
      "(ra,dec), = mywcs.wcs_pix2world([[xpix,ypix]], 0)\n",
      "print(ra,dec)"
     ],
     "language": "python",
     "metadata": {},
     "outputs": []
    },
    {
     "cell_type": "markdown",
     "metadata": {},
     "source": [
      "But convenient for converting an array of pixels:"
     ]
    },
    {
     "cell_type": "code",
     "collapsed": false,
     "input": [
      "pix_coords = [(20,30), (50,10), (500,200)]\n",
      "world_coords = mywcs.wcs_pix2world(pix_coords, 0)\n",
      "print(world_coords)"
     ],
     "language": "python",
     "metadata": {},
     "outputs": []
    },
    {
     "cell_type": "markdown",
     "metadata": {
      "slideshow": {
       "slide_type": "slide"
      }
     },
     "source": [
      "The coordinates can be readily converted to astropy coordinates:"
     ]
    },
    {
     "cell_type": "code",
     "collapsed": false,
     "input": [
      "from astropy import coordinates\n",
      "from astropy import units as u\n",
      "my_coords = coordinates.SkyCoord(world_coords*u.deg, frame='fk5')\n",
      "print(my_coords)\n",
      "print(my_coords.to_string(style='hmsdms'))"
     ],
     "language": "python",
     "metadata": {},
     "outputs": []
    },
    {
     "cell_type": "markdown",
     "metadata": {
      "slideshow": {
       "slide_type": "slide"
      }
     },
     "source": [
      "You can also use WCS to get pixel coordinates for overplotting sources."
     ]
    },
    {
     "cell_type": "code",
     "collapsed": false,
     "input": [
      "horsehead = coordinates.SkyCoord.from_name('Horsehead Nebula')\n",
      "print(horsehead)"
     ],
     "language": "python",
     "metadata": {},
     "outputs": []
    },
    {
     "cell_type": "code",
     "collapsed": false,
     "input": [
      "(hxpix,hypix), = mywcs.wcs_world2pix([(horsehead.ra.deg,\n",
      "                                       horsehead.dec.deg)],0)\n",
      "print(hxpix,hypix)"
     ],
     "language": "python",
     "metadata": {},
     "outputs": []
    },
    {
     "cell_type": "code",
     "collapsed": false,
     "input": [
      "plt.imshow(image_data, cmap='gray', norm=LogNorm())\n",
      "\n",
      "# I chose the tick marks based on the histogram above\n",
      "cbar = plt.colorbar(ticks=[5.e3,1.e4,2.e4])\n",
      "cbar.ax.set_yticklabels(['5,000','10,000','20,000'])\n",
      "plt.plot(hxpix, hypix, 's')"
     ],
     "language": "python",
     "metadata": {
      "slideshow": {
       "slide_type": "slide"
      }
     },
     "outputs": []
    },
    {
     "cell_type": "markdown",
     "metadata": {},
     "source": [
      "You can also create an HDU 'from scratch', but with a WCS header:"
     ]
    },
    {
     "cell_type": "code",
     "collapsed": false,
     "input": [
      "myhdu = fits.PrimaryHDU(data=image_data, header=mywcs.to_header())"
     ],
     "language": "python",
     "metadata": {},
     "outputs": []
    },
    {
     "cell_type": "heading",
     "level": 1,
     "metadata": {},
     "source": [
      "Plotting the world coordinate system"
     ]
    },
    {
     "cell_type": "markdown",
     "metadata": {},
     "source": [
      "Plotting using WCS is a more complicated task and should be left to specialized tools:\n",
      "\n",
      " * http://wcsaxes.rtfd.org/\n",
      " * http://aplpy.github.io/"
     ]
    },
    {
     "cell_type": "code",
     "collapsed": false,
     "input": [
      "import aplpy\n",
      "F = aplpy.FITSFigure(hdu_list[0], figure=plt.figure(1))\n",
      "F.show_grayscale()\n",
      "# Can use world coordinates directly\n",
      "F.show_markers(horsehead.ra.deg, horsehead.dec.deg)"
     ],
     "language": "python",
     "metadata": {
      "slideshow": {
       "slide_type": "slide"
      }
     },
     "outputs": []
    },
    {
     "cell_type": "code",
     "collapsed": false,
     "input": [
      "from wcsaxes import WCSAxes\n",
      "\n",
      "fig = plt.figure()\n",
      "ax = WCSAxes(fig, [0.1, 0.1, 0.8, 0.8], wcs=mywcs)\n",
      "fig.add_axes(ax)  # note that the axes have to be added to the figure\n",
      "ax.imshow(image_data, origin='lower')"
     ],
     "language": "python",
     "metadata": {
      "slideshow": {
       "slide_type": "skip"
      }
     },
     "outputs": []
    }
   ],
   "metadata": {}
  }
 ]
}