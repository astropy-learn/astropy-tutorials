{
 "cells": [
  {
   "cell_type": "markdown",
   "metadata": {
    "id": "UxTXN1HZmv2R"
   },
   "source": [
    "# Edit a FITS header\n",
    "\n",
    "## Authors\n",
    "Adrian Price-Whelan, Adam Ginsburg, Stephanie T. Douglas, Kelle Cruz, Saima Siddiqui, Zihao Chen, Lúthien  Liu\n",
    "\n",
    "## Learning Goals\n",
    "* Read a FITS file \n",
    "* Retrieve FITS header metadata\n",
    "* Edit the FITS header \n",
    "* Write the modified file as a FITS file\n",
    "\n",
    "## Keywords\n",
    "FITS, file input/output\n",
    "\n",
    "## Companion Content\n",
    "To learn more about the FITS file format check out: https://docs.astropy.org/en/stable/io/fits/index.html#\n",
    "\n",
    "## Summary\n",
    "FITS is a useful way of storing and archiving information through multidimensional arrays. Within a FITS file format, the header contains \"cards\" of information including a keyword, a value, and a comment as a way to introduce the data block that follows. Together, the header and data are contained together as a header data unit, or HDU.  \n",
    "\n",
    "In this tutorial we will begin with exploring the different ways we can read information in an FITS file, how to read and edit the header, and then write it out back to disk. For this example we're going to change the `OBJECT` keyword.\n"
   ]
  },
  {
   "cell_type": "code",
   "execution_count": null,
   "metadata": {
    "id": "FMaYcumxmv2U"
   },
   "outputs": [],
   "source": [
    "from astropy.io import fits"
   ]
  },
  {
   "cell_type": "markdown",
   "metadata": {
    "id": "kZZYBsrSmv2Y"
   },
   "source": [
    "The `astropy.io.fits` package provides a lot of flexibility for reading FITS files and headers. `fits.getheader()` is a dedicated function for reading the header. In this example, we are reading the primary HDU (which has the HDU number 0). The output will show you all the cards that the primary HDU has. "
   ]
  },
  {
   "cell_type": "code",
   "execution_count": null,
   "metadata": {
    "id": "rYWSDikzmv2Z"
   },
   "outputs": [],
   "source": [
    "hdu_number = 0 # HDU means header data unit\n",
    "fits.getheader('input_file.fits', hdu_number)"
   ]
  },
  {
   "cell_type": "markdown",
   "metadata": {
    "id": "MGu5Yf7qoF9c"
   },
   "source": [
    "**Thought Question:** *How many cards does the primary HDU have?* "
   ]
  },
  {
   "cell_type": "markdown",
   "metadata": {
    "id": "qkFwDQUCmv2Y"
   },
   "source": [
    "Most of the time, the convenience functions are the easiest way to access the data. `fits.getdata()` reads only the data from a FITS file, but with the `header=True` keyword argument will also read the header. "
   ]
  },
  {
   "cell_type": "code",
   "execution_count": null,
   "metadata": {
    "id": "i6xdEI3wmv2Y"
   },
   "outputs": [],
   "source": [
    "data, header = fits.getdata(\"input_file.fits\", header=True)"
   ]
  },
  {
   "cell_type": "markdown",
   "metadata": {
    "id": "ZcYnmVjOmv2Z"
   },
   "source": [
    "Now we know `getdata()` can get both the data and the header, so it's a useful \n",
    "command to remember. The primary HDU of a FITS file must contain image data, \n",
    "so the data is now stored in a ``numpy`` array. The header is stored in an \n",
    "object that acts like a standard Python dictionary, except that the keys are case-insensitive. \n",
    "\n",
    "If the FITS file you're examining and editing might have multiple HDU's (extensions),  you can specify the extension like this:"
   ]
  },
  {
   "cell_type": "code",
   "execution_count": null,
   "metadata": {
    "id": "saJh59aemv2c"
   },
   "outputs": [],
   "source": [
    "data1, header1 = fits.getdata(\"input_file.fits\", ext=1, header=True)"
   ]
  },
  {
   "cell_type": "markdown",
   "metadata": {
    "id": "iAa7NjKtmv2d"
   },
   "source": [
    "This will get you the data and header associated with the `index=1` extension \n",
    "in the FITS file. Without specifying a number, `getdata()` will get the \n",
    "0th extension (equivalent to saying `ext=0`)."
   ]
  },
  {
   "cell_type": "markdown",
   "metadata": {
    "id": "ml2DVqgRlJwQ"
   },
   "source": [
    "There are alot of other useful commands to remember for reading FITS files:"
   ]
  },
  {
   "cell_type": "markdown",
   "metadata": {
    "id": "LXnCQLIqltzv"
   },
   "source": [
    "1. `fits.open` allows us to look more generally at our data."
   ]
  },
  {
   "cell_type": "markdown",
   "metadata": {
    "id": "tbmPXHehmO8q"
   },
   "source": [
    "2. `fits.getheader` will give you the same output as `fits_inf[0].header`. By changing the HDU number to `fits_inf[1]header`, what will the output be? "
   ]
  },
  {
   "cell_type": "code",
   "execution_count": null,
   "metadata": {
    "id": "YKrZaxbRmv2a"
   },
   "outputs": [],
   "source": [
    "# But hdu_number = 0 is the PRIMARY HDU. How many HDUs are in this file?\n",
    "fits_inf = fits.open(\"input_file.fits\")\n",
    "fits_inf.info() \n",
    "fits_inf[0].header"
   ]
  },
  {
   "cell_type": "markdown",
   "metadata": {
    "id": "z_ddsyRUoVu8"
   },
   "source": [
    "**Thought Question:** *How many HDUS are in this file? Were you right about the number of cards in the primary HDU?*"
   ]
  },
  {
   "cell_type": "markdown",
   "metadata": {
    "id": "AKTWFAyeopR4"
   },
   "source": [
    "**Thought Question:** *What will happen if you type* `fits_inf[2].header`*?*"
   ]
  },
  {
   "cell_type": "markdown",
   "metadata": {
    "id": "UFYUH450mv2b"
   },
   "source": [
    "Now that we know how to read a FITS file, let's change the header. The header is always changed via it’s keyword. The keywords are the 8 letter word to the left when you extract the header info. Let's change the header to give the correct OBJECT:"
   ]
  },
  {
   "cell_type": "code",
   "execution_count": null,
   "metadata": {
    "id": "LOP18OR0mv2b"
   },
   "outputs": [],
   "source": [
    "header['OBJECT'] = \"M31\""
   ]
  },
  {
   "cell_type": "markdown",
   "metadata": {
    "id": "tHfDDzD9o8Ty"
   },
   "source": [
    "The keyword OBJECT was in the primary HDU. \n",
    "\n",
    "<div class=\"alert alert-info\">\n",
    "\n",
    "NOTE: If we wanted to  change a header in another HDU, we could do it by executing the following code. \n",
    "\n",
    "```\n",
    "hdr = hdul[1].header\n",
    "hdr[‘EXAMPLE’] = ‘example :)’\n",
    "```\n",
    "\n",
    "This won't actually run becasue we dont have a EXAMPLE keyword in HDU 1, but this could be useful in the future.\n",
    "<div>"
   ]
  },
  {
   "cell_type": "markdown",
   "metadata": {
    "id": "2EPX5zxGmv2b"
   },
   "source": [
    "Finally, we have to write out the FITS file. Again, the convenience \n",
    "function for this is the most useful command to remember:"
   ]
  },
  {
   "cell_type": "code",
   "execution_count": null,
   "metadata": {
    "id": "Po_Z9nGXmv2c"
   },
   "outputs": [],
   "source": [
    "fits.writeto('output_file.fits', data, header, overwrite=True)"
   ]
  },
  {
   "cell_type": "markdown",
   "metadata": {
    "id": "wXTmxWCSmv2d"
   },
   "source": [
    "If you want to overwrite an existing FITS \n",
    "file. By default, `writeto()` won't let you do this, so you need to \n",
    "explicitly give it permission using the `overwrite` keyword argument:"
   ]
  },
  {
   "cell_type": "code",
   "execution_count": null,
   "metadata": {
    "id": "Sif3LGBgmv2d"
   },
   "outputs": [],
   "source": [
    "fits.writeto('output_file.fits', data, header, overwrite=True)"
   ]
  },
  {
   "cell_type": "markdown",
   "metadata": {
    "id": "2HujAZ7Amv2c"
   },
   "source": [
    "That's it; you're done!"
   ]
  },
  {
   "cell_type": "markdown",
   "metadata": {
    "id": "51Y--P-Zmv2c"
   },
   "source": [
    "For more complicated cases, you should consult the full documentation http://docs.astropy.org/en/stable/io/fits/. \n"
   ]
  },
  {
   "cell_type": "markdown",
   "metadata": {
    "id": "-CxqVv7Vmv2d"
   },
   "source": [
    "An helpful tip is if you want to make a small change to a FITS file, like updating a header keyword, but you don't want to read in and write out the whole file, which can take a while.  Instead you can use the `mode='update'` read mode to do this:"
   ]
  },
  {
   "cell_type": "code",
   "execution_count": null,
   "metadata": {
    "id": "KbM8RWxOmv2d"
   },
   "outputs": [],
   "source": [
    "with fits.open('input_file.fits', mode='update') as filehandle:\n",
    "    filehandle[0].header['MYHDRKW'] = \"My Header Keyword\""
   ]
  },
  {
   "cell_type": "markdown",
   "metadata": {
    "id": "K1_WE8Obmv2e"
   },
   "source": [
    "## Exercise"
   ]
  },
  {
   "cell_type": "markdown",
   "metadata": {
    "id": "RSdvjG_1mv2e"
   },
   "source": [
    "Read in the file you just wrote and add three header keywords:\n",
    "\n",
    "1. 'RA' for the Right Ascension of M31\n",
    "2. 'DEC' for the Declination of M31\n",
    "3. 'RADECSRC' with text indicating where you found the RA/Dec (web URL, textbook name, your photographic memory, etc.)\n",
    "\n",
    "Then write the updated header back out to a new file: "
   ]
  },
  {
   "cell_type": "code",
   "execution_count": null,
   "metadata": {
    "id": "6YjEp_temv2e"
   },
   "outputs": [],
   "source": []
  }
 ],
 "metadata": {
  "astropy-tutorials": {
   "author": "Adrian M. Price-Whelan <adrn@astro.columbia.edu>",
   "date": "July 2013",
   "description": "Demonstrates how to read in, edit a FITS header, and then write it back out to disk using astropy.io.fits.",
   "link_name": "Editing a FITS header",
   "name": "",
   "published": true
  },
  "colab": {
   "collapsed_sections": [],
   "name": "FITS-header.ipynb",
   "provenance": []
  },
  "language_info": {
   "codemirror_mode": {
    "name": "ipython",
    "version": 3
   },
   "file_extension": ".py",
   "mimetype": "text/x-python",
   "name": "python",
   "nbconvert_exporter": "python",
   "pygments_lexer": "ipython3"
  }
 },
 "nbformat": 4,
 "nbformat_minor": 1
}
