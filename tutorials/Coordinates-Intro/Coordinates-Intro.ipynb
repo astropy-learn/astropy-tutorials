{
 "cells": [
  {
   "cell_type": "markdown",
   "metadata": {},
   "source": [
    "# Intro to astropy.coordinates library"
   ]
  },
  {
   "cell_type": "markdown",
   "metadata": {},
   "source": [
    "## Learning Goals\n",
    "- will be able to do stuff"
   ]
  },
  {
   "cell_type": "markdown",
   "metadata": {},
   "source": [
    "In this tutorial, we're going to investigate the area of the sky around the picturesque group of galaxies named \"Hickson Compact Group 7\". download an image and do something with it's coordinates Let's start by considering a field around "
   ]
  },
  {
   "cell_type": "markdown",
   "metadata": {},
   "source": [
    "### Imports"
   ]
  },
  {
   "cell_type": "code",
   "execution_count": 2,
   "metadata": {
    "collapsed": true
   },
   "outputs": [],
   "source": [
    "# Python standard-library\n",
    "from urllib.parse import urlencode\n",
    "from urllib.request import urlretrieve\n",
    "\n",
    "# Third-party dependencies\n",
    "from astropy import units as u\n",
    "from astropy.coordinates import SkyCoord\n",
    "from astropy.table import Table\n",
    "import numpy as np\n",
    "from IPython.display import Image\n",
    "\n",
    "# Set up matplotlib and use a nicer set of plot parameters\n",
    "from astropy.visualization import astropy_mpl_style\n",
    "import matplotlib.pyplot as plt\n",
    "plt.style.use(astropy_mpl_style)\n",
    "%matplotlib inline"
   ]
  },
  {
   "cell_type": "markdown",
   "metadata": {},
   "source": [
    "## Describing on-sky locations with `coordinates`"
   ]
  },
  {
   "cell_type": "markdown",
   "metadata": {},
   "source": [
    "The `SkyCoord` class in the `astropy.coordinates` package is used to represent celestial coordinates. First, we'll make a SkyCoord object based on our object's name, \"Hickson Compact Group 7\", or \"HCG 7\" for short. Most astronomical object names can be found by [SESAME](http://cdsweb.u-strasbg.fr/cgi-bin/Sesame), a service which queries Simbad, NED, and VizieR and returns the object's type and its J2000 position. This service can be used via the `SkyCoord.from_name()` [class method](https://julien.danjou.info/blog/2013/guide-python-static-class-abstract-methods). "
   ]
  },
  {
   "cell_type": "code",
   "execution_count": 3,
   "metadata": {
    "collapsed": true
   },
   "outputs": [],
   "source": [
    "# initialize a SkyCood object named hcg7_center at the location of HCG 7\n",
    "hcg7_center = SkyCoord.from_name('HCG 7')"
   ]
  },
  {
   "cell_type": "markdown",
   "metadata": {},
   "source": [
    "<div class=\"alert alert-info\">\n",
    "Note that this requires an internet connection.  If you don't have one, execute this line instead:\n",
    "</div>"
   ]
  },
  {
   "cell_type": "code",
   "execution_count": 4,
   "metadata": {
    "collapsed": true
   },
   "outputs": [],
   "source": [
    "# uncomment and run this line if you don't have an internet connection\n",
    "#hcg7_center = SkyCoord(9.81625*u.deg, 0.88806*u.deg, frame='icrs')"
   ]
  },
  {
   "cell_type": "code",
   "execution_count": 13,
   "metadata": {},
   "outputs": [
    {
     "data": {
      "text/plain": [
       "<SkyCoord (ICRS): (ra, dec) in deg\n",
       "    ( 9.849602,  0.87817)>"
      ]
     },
     "execution_count": 13,
     "metadata": {},
     "output_type": "execute_result"
    }
   ],
   "source": [
    "hcg7_center"
   ]
  },
  {
   "cell_type": "markdown",
   "metadata": {},
   "source": [
    "We see that, according to SESAME, HCG 7 is located at ra = 9.849 deg and dec = 0.878 deg. "
   ]
  },
  {
   "cell_type": "markdown",
   "metadata": {},
   "source": [
    "This object we just created has various useful ways of accessing the information contained within it.  In particular, the ``ra`` and ``dec`` attributes are specialized [``Quantity``](http://docs.astropy.org/en/stable/units/index.html) objects (actually, a subclass called [``Angle``](http://docs.astropy.org/en/stable/api/astropy.coordinates.Angle.html), which in turn is subclassed by [``Latitude``](http://docs.astropy.org/en/stable/api/astropy.coordinates.Latitude.html) and [``Longitude``](http://docs.astropy.org/en/stable/api/astropy.coordinates.Longitude.html)).  These objects store angles and provide pretty representations of those angles, as well as some useful attributes to quickly convert to common angle units:"
   ]
  },
  {
   "cell_type": "code",
   "execution_count": 13,
   "metadata": {},
   "outputs": [
    {
     "data": {
      "text/plain": [
       "(astropy.coordinates.angles.Longitude, astropy.coordinates.angles.Latitude)"
      ]
     },
     "execution_count": 13,
     "metadata": {},
     "output_type": "execute_result"
    }
   ],
   "source": [
    "type(hcg7_center.ra), type(hcg7_center.dec)"
   ]
  },
  {
   "cell_type": "code",
   "execution_count": 14,
   "metadata": {},
   "outputs": [
    {
     "data": {
      "text/plain": [
       "(<Longitude 9.849602 deg>, <Latitude 0.87817 deg>)"
      ]
     },
     "execution_count": 14,
     "metadata": {},
     "output_type": "execute_result"
    }
   ],
   "source": [
    "hcg7_center.ra, hcg7_center.dec"
   ]
  },
  {
   "cell_type": "markdown",
   "metadata": {},
   "source": []
  },
  {
   "cell_type": "code",
   "execution_count": null,
   "metadata": {
    "collapsed": true
   },
   "outputs": [],
   "source": []
  },
  {
   "cell_type": "markdown",
   "metadata": {},
   "source": [
    " To do anything with this, we need to get an object that represents the coordinates of the center of this group.\n",
    "\n",
    "  A `SkyCoord` can be created from angles as shown below.  It's also wise to explicitly specify the frame your coordinates are in, although this is not strictly necessary because the default is ICRS. \n",
    "\n",
    "(If you're not sure what ICRS is, it's basically safe to think of it as an approximation to an equatorial system at the J2000 equinox)."
   ]
  },
  {
   "cell_type": "code",
   "execution_count": 4,
   "metadata": {},
   "outputs": [
    {
     "name": "stdout",
     "output_type": "stream",
     "text": [
      "<SkyCoord (ICRS): (ra, dec) in deg\n",
      "    ( 9.81625,  0.88806)>\n"
     ]
    }
   ],
   "source": [
    "print(hcg7_center)"
   ]
  },
  {
   "cell_type": "markdown",
   "metadata": {},
   "source": [
    "SkyCoord will also accept string-formatted coordinates either as separate strings for ra/dec or a single string.  You'll have to give units, though, if they aren't part of the string itself."
   ]
  },
  {
   "cell_type": "code",
   "execution_count": 5,
   "metadata": {
    "scrolled": false
   },
   "outputs": [
    {
     "data": {
      "text/plain": [
       "<SkyCoord (ICRS): (ra, dec) in deg\n",
       "    ( 9.81625,  0.88806)>"
      ]
     },
     "execution_count": 5,
     "metadata": {},
     "output_type": "execute_result"
    }
   ],
   "source": [
    "SkyCoord('0h39m15.9s', '0d53m17.016s', frame='icrs')"
   ]
  },
  {
   "cell_type": "markdown",
   "metadata": {},
   "source": []
  },
  {
   "cell_type": "code",
   "execution_count": 7,
   "metadata": {},
   "outputs": [
    {
     "data": {
      "text/plain": [
       "(astropy.coordinates.angles.Longitude, astropy.coordinates.angles.Latitude)"
      ]
     },
     "execution_count": 7,
     "metadata": {},
     "output_type": "execute_result"
    }
   ],
   "source": []
  },
  {
   "cell_type": "code",
   "execution_count": 8,
   "metadata": {},
   "outputs": [
    {
     "data": {
      "text/latex": [
       "$0^\\circ52{}^\\prime41.412{}^{\\prime\\prime}$"
      ],
      "text/plain": [
       "<Latitude 0.87817 deg>"
      ]
     },
     "execution_count": 8,
     "metadata": {},
     "output_type": "execute_result"
    }
   ],
   "source": [
    "hcg7_center.dec"
   ]
  },
  {
   "cell_type": "code",
   "execution_count": 9,
   "metadata": {},
   "outputs": [
    {
     "data": {
      "text/latex": [
       "$9^\\circ50{}^\\prime58.5672{}^{\\prime\\prime}$"
      ],
      "text/plain": [
       "<Longitude 9.849602 deg>"
      ]
     },
     "execution_count": 9,
     "metadata": {},
     "output_type": "execute_result"
    }
   ],
   "source": [
    "hcg7_center.ra"
   ]
  },
  {
   "cell_type": "code",
   "execution_count": 10,
   "metadata": {},
   "outputs": [
    {
     "data": {
      "text/plain": [
       "0.6566401333333335"
      ]
     },
     "execution_count": 10,
     "metadata": {},
     "output_type": "execute_result"
    }
   ],
   "source": [
    "hcg7_center.ra.hour"
   ]
  },
  {
   "cell_type": "markdown",
   "metadata": {},
   "source": [
    "Now that we have a `SkyCoord` object, we can try to use it to access data from the [Sloan Digitial Sky Survey](http://www.sdss.org/) (SDSS).  Let's start by trying to get a picture using the SDSS image cutout service to make sure HCG7 is in the SDSS footprint and has good image quality.\n",
    "\n",
    "This requires an internet connection, but if it fails, don't worry: the file is included in the repository so you can just let it use the local file``'HCG7_SDSS_cutout.jpg'``, defined at the top of the cell.  "
   ]
  },
  {
   "cell_type": "code",
   "execution_count": 13,
   "metadata": {},
   "outputs": [
    {
     "data": {
      "text/plain": [
       "('HCG7_SDSS_cutout.jpg', <http.client.HTTPMessage at 0x112af7400>)"
      ]
     },
     "execution_count": 13,
     "metadata": {},
     "output_type": "execute_result"
    }
   ],
   "source": [
    "impix = 1024\n",
    "imsize = 12*u.arcmin\n",
    "cutoutbaseurl = 'http://skyservice.pha.jhu.edu/DR12/ImgCutout/getjpeg.aspx'\n",
    "query_string = urlencode(dict(ra=hcg7_center.ra.deg, \n",
    "                              dec=hcg7_center.dec.deg, \n",
    "                              width=impix, height=impix, \n",
    "                              scale=imsize.to(u.arcsec).value/impix))\n",
    "url = cutoutbaseurl + '?' + query_string\n",
    "\n",
    "# this downloads the image to your disk\n",
    "urlretrieve(url, 'HCG7_SDSS_cutout.jpg')"
   ]
  },
  {
   "cell_type": "code",
   "execution_count": null,
   "metadata": {
    "collapsed": true
   },
   "outputs": [],
   "source": [
    "Image('HCG7_SDSS_cutout.jpg')"
   ]
  },
  {
   "cell_type": "markdown",
   "metadata": {},
   "source": [
    "Very pretty!"
   ]
  },
  {
   "cell_type": "markdown",
   "metadata": {},
   "source": [
    "### Exercise 1"
   ]
  },
  {
   "cell_type": "markdown",
   "metadata": {},
   "source": [
    "Create a `SkyCoord` of some other astronomical object you find interesting. Using only a single method/function call, get a string with the RA/Dec in the form 'HH:MM:SS.S DD:MM:SS.S'.  Check your answer against an academic paper or some web site like [SIMBAD](http://simbad.u-strasbg.fr/simbad/) that will show you sexigesimal coordinates for the object.\n",
    "\n",
    "(Hint: `SkyCoord.to_string()` might be worth reading up on)"
   ]
  },
  {
   "cell_type": "code",
   "execution_count": 14,
   "metadata": {
    "collapsed": true
   },
   "outputs": [],
   "source": [
    "coord = SkyCoord.from_name('M13')"
   ]
  },
  {
   "cell_type": "markdown",
   "metadata": {},
   "source": [
    "Now get an image of that object from the Digitized Sky Survey and download it and/or show it in the notebook. Bonus points if you figure out the (one-line) trick to get it to display in the notebook *without* ever downloading the file yourself.\n",
    "\n",
    "(Hint: STScI has an easy-to-access [copy of the DSS](https://archive.stsci.edu/dss/).  The pattern to follow for the web URL is ``http://archive.stsci.edu/cgi-bin/dss_search?f=GIF&ra=RA&dec=DEC``)"
   ]
  },
  {
   "cell_type": "markdown",
   "metadata": {
    "collapsed": true
   },
   "source": [
    "## Passing in an array of coordinates"
   ]
  },
  {
   "cell_type": "markdown",
   "metadata": {},
   "source": [
    "If we have many coordinates(say from a data table) we can pass them all into astropy coordinates. Let's first read in a table of coordinates from 2MASS using astropy Table:"
   ]
  },
  {
   "cell_type": "code",
   "execution_count": 21,
   "metadata": {},
   "outputs": [],
   "source": [
    "hcg7_2mass = Table.read('HCG7_2MASS.tbl', format='ascii')"
   ]
  },
  {
   "cell_type": "markdown",
   "metadata": {},
   "source": [
    "We can look at the data table below:"
   ]
  },
  {
   "cell_type": "code",
   "execution_count": 24,
   "metadata": {},
   "outputs": [
    {
     "data": {
      "text/html": [
       "&lt;Table masked=True length=23&gt;\n",
       "<table id=\"table4582387216\" class=\"table-striped table-bordered table-condensed\">\n",
       "<thead><tr><th>designation</th><th>ra</th><th>dec</th><th>r_k20fe</th><th>j_m_k20fe</th><th>j_msig_k20fe</th><th>j_flg_k20fe</th><th>h_m_k20fe</th><th>h_msig_k20fe</th><th>h_flg_k20fe</th><th>k_m_k20fe</th><th>k_msig_k20fe</th><th>k_flg_k20fe</th><th>k_ba</th><th>k_phi</th><th>sup_ba</th><th>sup_phi</th><th>r_ext</th><th>j_m_ext</th><th>j_msig_ext</th><th>h_m_ext</th><th>h_msig_ext</th><th>k_m_ext</th><th>k_msig_ext</th><th>cc_flg</th><th>dist</th><th>angle</th></tr></thead>\n",
       "<thead><tr><th></th><th>deg</th><th>deg</th><th>arcsec</th><th>mag</th><th>mag</th><th></th><th>mag</th><th>mag</th><th></th><th>mag</th><th>mag</th><th></th><th></th><th>deg</th><th></th><th>deg</th><th>arcsec</th><th>mag</th><th>mag</th><th>mag</th><th>mag</th><th>mag</th><th>mag</th><th></th><th>arcsec</th><th>deg</th></tr></thead>\n",
       "<thead><tr><th>str16</th><th>float64</th><th>float64</th><th>float64</th><th>float64</th><th>float64</th><th>int64</th><th>float64</th><th>float64</th><th>int64</th><th>float64</th><th>float64</th><th>int64</th><th>float64</th><th>int64</th><th>float64</th><th>int64</th><th>float64</th><th>float64</th><th>float64</th><th>float64</th><th>float64</th><th>float64</th><th>float64</th><th>str1</th><th>float64</th><th>float64</th></tr></thead>\n",
       "<tr><td>00402069+0052508</td><td>10.086218</td><td>0.880798</td><td>9.4</td><td>13.835</td><td>0.068</td><td>0</td><td>13.01</td><td>0.086</td><td>0</td><td>12.588</td><td>0.089</td><td>0</td><td>0.8</td><td>70</td><td>0.82</td><td>35</td><td>18.62</td><td>13.632</td><td>0.088</td><td>12.744</td><td>0.104</td><td>12.398</td><td>0.105</td><td>0</td><td>972.120611</td><td>91.538952</td></tr>\n",
       "<tr><td>00395984+0103545</td><td>9.99935</td><td>1.06514</td><td>12.9</td><td>12.925</td><td>0.035</td><td>0</td><td>12.183</td><td>0.042</td><td>0</td><td>11.89</td><td>0.067</td><td>0</td><td>0.8</td><td>35</td><td>0.7</td><td>40</td><td>35.9</td><td>12.469</td><td>0.048</td><td>11.91</td><td>0.066</td><td>11.522</td><td>0.087</td><td>0</td><td>916.927636</td><td>45.951861</td></tr>\n",
       "<tr><td>00401849+0049448</td><td>10.077062</td><td>0.82913</td><td>6.0</td><td>14.918</td><td>0.086</td><td>0</td><td>14.113</td><td>0.107</td><td>0</td><td>13.714</td><td>0.103</td><td>0</td><td>0.6</td><td>-15</td><td>1.0</td><td>90</td><td>11.35</td><td>14.631</td><td>0.121</td><td>13.953</td><td>0.169</td><td>13.525</td><td>0.161</td><td>0</td><td>962.489231</td><td>102.73149</td></tr>\n",
       "<tr><td>00395277+0057124</td><td>9.969907</td><td>0.953472</td><td>5.3</td><td>14.702</td><td>0.049</td><td>0</td><td>14.248</td><td>0.069</td><td>0</td><td>13.899</td><td>0.095</td><td>0</td><td>0.6</td><td>-60</td><td>0.44</td><td>-50</td><td>10.59</td><td>14.62</td><td>0.144</td><td>14.15</td><td>0.296</td><td>13.73</td><td>0.2</td><td>0</td><td>601.136444</td><td>66.93659</td></tr>\n",
       "<tr><td>00401864+0047245</td><td>10.077704</td><td>0.790143</td><td>7.6</td><td>15.585</td><td>0.134</td><td>1</td><td>15.003</td><td>0.18</td><td>1</td><td>14.049</td><td>0.142</td><td>1</td><td>0.5</td><td>30</td><td>0.46</td><td>30</td><td>14.48</td><td>14.977</td><td>0.138</td><td>14.855</td><td>0.303</td><td>13.653</td><td>0.18</td><td>0</td><td>1004.982128</td><td>110.53147</td></tr>\n",
       "<tr><td>00393485+0051355</td><td>9.895219</td><td>0.859882</td><td>39.3</td><td>11.415</td><td>0.031</td><td>3</td><td>10.755</td><td>0.044</td><td>3</td><td>10.514</td><td>0.068</td><td>3</td><td>0.6</td><td>-30</td><td>0.7</td><td>-60</td><td>92.29</td><td>11.415</td><td>0.018</td><td>10.155</td><td>0.054</td><td>9.976</td><td>0.085</td><td>0</td><td>301.813395</td><td>109.639102</td></tr>\n",
       "<tr><td>00392964+0103495</td><td>9.873526</td><td>1.063769</td><td>10.9</td><td>14.463</td><td>0.065</td><td>0</td><td>13.618</td><td>0.067</td><td>0</td><td>13.258</td><td>0.091</td><td>0</td><td>0.4</td><td>55</td><td>0.28</td><td>60</td><td>20.35</td><td>14.2</td><td>0.086</td><td>13.363</td><td>0.091</td><td>13.101</td><td>0.133</td><td>0</td><td>665.301415</td><td>18.051526</td></tr>\n",
       "<tr><td>00403343+0049079</td><td>10.139293</td><td>0.818865</td><td>5.0</td><td>15.484</td><td>0.15</td><td>0</td><td>--</td><td>--</td><td>--</td><td>13.97</td><td>0.137</td><td>0</td><td>1.0</td><td>90</td><td>1.0</td><td>90</td><td>10.05</td><td>15.035</td><td>0.183</td><td>14.725</td><td>0.0</td><td>13.654</td><td>0.189</td><td>0</td><td>1189.207905</td><td>102.088788</td></tr>\n",
       "<tr><td>00393319+0035505</td><td>9.888305</td><td>0.597381</td><td>11.5</td><td>13.156</td><td>0.033</td><td>0</td><td>12.509</td><td>0.043</td><td>0</td><td>12.073</td><td>0.059</td><td>0</td><td>0.6</td><td>-55</td><td>0.52</td><td>-40</td><td>21.64</td><td>13.026</td><td>0.04</td><td>12.247</td><td>0.046</td><td>11.978</td><td>0.065</td><td>0</td><td>1078.11027</td><td>166.0785</td></tr>\n",
       "<tr><td>...</td><td>...</td><td>...</td><td>...</td><td>...</td><td>...</td><td>...</td><td>...</td><td>...</td><td>...</td><td>...</td><td>...</td><td>...</td><td>...</td><td>...</td><td>...</td><td>...</td><td>...</td><td>...</td><td>...</td><td>...</td><td>...</td><td>...</td><td>...</td><td>...</td><td>...</td><td>...</td></tr>\n",
       "<tr><td>00391798+0041588</td><td>9.824936</td><td>0.699687</td><td>6.1</td><td>15.685</td><td>0.168</td><td>0</td><td>14.89</td><td>0.191</td><td>0</td><td>14.003</td><td>0.155</td><td>0</td><td>1.0</td><td>90</td><td>1.0</td><td>90</td><td>11.4</td><td>15.677</td><td>0.312</td><td>14.415</td><td>0.226</td><td>13.568</td><td>0.19</td><td>0</td><td>678.863209</td><td>177.360117</td></tr>\n",
       "<tr><td>00384796+0034572</td><td>9.699858</td><td>0.582578</td><td>5.1</td><td>14.925</td><td>0.077</td><td>0</td><td>14.224</td><td>0.114</td><td>0</td><td>13.536</td><td>0.079</td><td>0</td><td>1.0</td><td>90</td><td>1.0</td><td>90</td><td>10.2</td><td>14.839</td><td>0.133</td><td>14.111</td><td>0.192</td><td>13.461</td><td>0.137</td><td>0</td><td>1176.842625</td><td>200.856597</td></tr>\n",
       "<tr><td>00390392+0050579</td><td>9.766345</td><td>0.849419</td><td>5.0</td><td>14.895</td><td>0.07</td><td>0</td><td>14.238</td><td>0.087</td><td>0</td><td>13.834</td><td>0.11</td><td>0</td><td>1.0</td><td>90</td><td>1.0</td><td>90</td><td>10.05</td><td>14.706</td><td>0.107</td><td>14.033</td><td>0.132</td><td>13.75</td><td>0.187</td><td>0</td><td>227.201453</td><td>232.24689</td></tr>\n",
       "<tr><td>00391339+0051508</td><td>9.805797</td><td>0.864135</td><td>52.8</td><td>10.362</td><td>0.014</td><td>0</td><td>9.631</td><td>0.017</td><td>0</td><td>9.334</td><td>0.024</td><td>0</td><td>0.3</td><td>-15</td><td>0.4</td><td>-15</td><td>75.02</td><td>10.279</td><td>0.015</td><td>9.527</td><td>0.016</td><td>9.247</td><td>0.023</td><td>0</td><td>93.990015</td><td>203.598476</td></tr>\n",
       "<tr><td>00391786+0054458</td><td>9.824418</td><td>0.912743</td><td>27.9</td><td>11.082</td><td>0.016</td><td>0</td><td>10.384</td><td>0.022</td><td>0</td><td>10.147</td><td>0.032</td><td>0</td><td>0.5</td><td>5</td><td>0.7</td><td>5</td><td>42.75</td><td>10.914</td><td>0.018</td><td>10.251</td><td>0.021</td><td>10.031</td><td>0.03</td><td>0</td><td>93.596555</td><td>18.308033</td></tr>\n",
       "<tr><td>00385879+0057269</td><td>9.744971</td><td>0.957478</td><td>5.0</td><td>15.535</td><td>0.122</td><td>0</td><td>14.796</td><td>0.145</td><td>0</td><td>14.278</td><td>0.165</td><td>0</td><td>1.0</td><td>90</td><td>1.0</td><td>90</td><td>10.05</td><td>15.535</td><td>0.122</td><td>14.623</td><td>0.227</td><td>14.147</td><td>0.269</td><td>0</td><td>358.163568</td><td>314.246475</td></tr>\n",
       "<tr><td>00391879+0053308</td><td>9.828303</td><td>0.891909</td><td>15.4</td><td>13.044</td><td>0.047</td><td>0</td><td>12.412</td><td>0.063</td><td>0</td><td>12.077</td><td>0.094</td><td>0</td><td>0.8</td><td>60</td><td>0.74</td><td>65</td><td>23.62</td><td>12.755</td><td>0.048</td><td>12.283</td><td>0.072</td><td>11.713</td><td>0.096</td><td>0</td><td>45.544562</td><td>72.287562</td></tr>\n",
       "<tr><td>00391213+0102408</td><td>9.80055</td><td>1.044691</td><td>5.0</td><td>15.568</td><td>0.126</td><td>0</td><td>15.047</td><td>0.181</td><td>0</td><td>14.356</td><td>0.176</td><td>0</td><td>1.0</td><td>90</td><td>1.0</td><td>90</td><td>10.05</td><td>15.295</td><td>0.181</td><td>15.047</td><td>0.181</td><td>14.067</td><td>0.25</td><td>0</td><td>566.696375</td><td>354.276982</td></tr>\n",
       "<tr><td>00383990+0104442</td><td>9.666268</td><td>1.078968</td><td>5.3</td><td>15.255</td><td>0.108</td><td>0</td><td>14.232</td><td>0.121</td><td>0</td><td>13.873</td><td>0.113</td><td>0</td><td>1.0</td><td>90</td><td>1.0</td><td>90</td><td>10.44</td><td>15.151</td><td>0.18</td><td>13.812</td><td>0.149</td><td>13.552</td><td>0.155</td><td>0</td><td>873.946372</td><td>321.851314</td></tr>\n",
       "<tr><td>00384916+0050212</td><td>9.704872</td><td>0.839244</td><td>5.1</td><td>15.075</td><td>0.088</td><td>0</td><td>14.651</td><td>0.17</td><td>0</td><td>13.804</td><td>0.101</td><td>0</td><td>1.0</td><td>90</td><td>1.0</td><td>90</td><td>10.2</td><td>15.053</td><td>0.159</td><td>14.651</td><td>0.17</td><td>13.682</td><td>0.171</td><td>0</td><td>437.740484</td><td>246.331036</td></tr>\n",
       "</table>"
      ],
      "text/plain": [
       "<Table masked=True length=23>\n",
       "  designation        ra      dec    r_k20fe ... cc_flg     dist      angle   \n",
       "                    deg      deg     arcsec ...           arcsec      deg    \n",
       "     str16        float64  float64  float64 ...  str1    float64    float64  \n",
       "---------------- --------- -------- ------- ... ------ ----------- ----------\n",
       "00402069+0052508 10.086218 0.880798     9.4 ...      0  972.120611  91.538952\n",
       "00395984+0103545   9.99935  1.06514    12.9 ...      0  916.927636  45.951861\n",
       "00401849+0049448 10.077062  0.82913     6.0 ...      0  962.489231  102.73149\n",
       "00395277+0057124  9.969907 0.953472     5.3 ...      0  601.136444   66.93659\n",
       "00401864+0047245 10.077704 0.790143     7.6 ...      0 1004.982128  110.53147\n",
       "00393485+0051355  9.895219 0.859882    39.3 ...      0  301.813395 109.639102\n",
       "00392964+0103495  9.873526 1.063769    10.9 ...      0  665.301415  18.051526\n",
       "00403343+0049079 10.139293 0.818865     5.0 ...      0 1189.207905 102.088788\n",
       "00393319+0035505  9.888305 0.597381    11.5 ...      0  1078.11027   166.0785\n",
       "             ...       ...      ...     ... ...    ...         ...        ...\n",
       "00391798+0041588  9.824936 0.699687     6.1 ...      0  678.863209 177.360117\n",
       "00384796+0034572  9.699858 0.582578     5.1 ...      0 1176.842625 200.856597\n",
       "00390392+0050579  9.766345 0.849419     5.0 ...      0  227.201453  232.24689\n",
       "00391339+0051508  9.805797 0.864135    52.8 ...      0   93.990015 203.598476\n",
       "00391786+0054458  9.824418 0.912743    27.9 ...      0   93.596555  18.308033\n",
       "00385879+0057269  9.744971 0.957478     5.0 ...      0  358.163568 314.246475\n",
       "00391879+0053308  9.828303 0.891909    15.4 ...      0   45.544562  72.287562\n",
       "00391213+0102408   9.80055 1.044691     5.0 ...      0  566.696375 354.276982\n",
       "00383990+0104442  9.666268 1.078968     5.3 ...      0  873.946372 321.851314\n",
       "00384916+0050212  9.704872 0.839244     5.1 ...      0  437.740484 246.331036"
      ]
     },
     "execution_count": 24,
     "metadata": {},
     "output_type": "execute_result"
    }
   ],
   "source": [
    "hcg7_2mass"
   ]
  },
  {
   "cell_type": "markdown",
   "metadata": {},
   "source": [
    "If we wanted to make an list of coordinates we could use a for-loop:"
   ]
  },
  {
   "cell_type": "code",
   "execution_count": 42,
   "metadata": {},
   "outputs": [
    {
     "name": "stdout",
     "output_type": "stream",
     "text": [
      "[<SkyCoord (ICRS): (ra, dec) in deg\n",
      "    ( 10.086218,  0.880798)>, <SkyCoord (ICRS): (ra, dec) in deg\n",
      "    ( 9.99935,  1.06514)>, <SkyCoord (ICRS): (ra, dec) in deg\n",
      "    ( 10.077062,  0.82913)>, <SkyCoord (ICRS): (ra, dec) in deg\n",
      "    ( 9.969907,  0.953472)>, <SkyCoord (ICRS): (ra, dec) in deg\n",
      "    ( 10.077704,  0.790143)>, <SkyCoord (ICRS): (ra, dec) in deg\n",
      "    ( 9.895219,  0.859882)>, <SkyCoord (ICRS): (ra, dec) in deg\n",
      "    ( 9.873526,  1.063769)>, <SkyCoord (ICRS): (ra, dec) in deg\n",
      "    ( 10.139293,  0.818865)>, <SkyCoord (ICRS): (ra, dec) in deg\n",
      "    ( 9.888305,  0.597381)>, <SkyCoord (ICRS): (ra, dec) in deg\n",
      "    ( 9.959649,  0.595693)>, <SkyCoord (ICRS): (ra, dec) in deg\n",
      "    ( 9.928026,  0.627663)>, <SkyCoord (ICRS): (ra, dec) in deg\n",
      "    ( 9.912468,  0.642384)>, <SkyCoord (ICRS): (ra, dec) in deg\n",
      "    ( 10.028815,  0.683197)>, <SkyCoord (ICRS): (ra, dec) in deg\n",
      "    ( 9.824936,  0.699687)>, <SkyCoord (ICRS): (ra, dec) in deg\n",
      "    ( 9.699858,  0.582578)>, <SkyCoord (ICRS): (ra, dec) in deg\n",
      "    ( 9.766345,  0.849419)>, <SkyCoord (ICRS): (ra, dec) in deg\n",
      "    ( 9.805797,  0.864135)>, <SkyCoord (ICRS): (ra, dec) in deg\n",
      "    ( 9.824418,  0.912743)>, <SkyCoord (ICRS): (ra, dec) in deg\n",
      "    ( 9.744971,  0.957478)>, <SkyCoord (ICRS): (ra, dec) in deg\n",
      "    ( 9.828303,  0.891909)>, <SkyCoord (ICRS): (ra, dec) in deg\n",
      "    ( 9.80055,  1.044691)>, <SkyCoord (ICRS): (ra, dec) in deg\n",
      "    ( 9.666268,  1.078968)>, <SkyCoord (ICRS): (ra, dec) in deg\n",
      "    ( 9.704872,  0.839244)>]\n"
     ]
    }
   ],
   "source": [
    "coordinates_2mass = []  # start with an empty list\n",
    "#for i in range(len(hcg7_2mass['ra'])):\n",
    "    #ra = hcg7_2mass['ra'][i]\n",
    "    #dec = hcg7_2mass['dec'][i]\n",
    "    \n",
    "for i, (ra, dec) in enumerate(zip(hcg7_2mass['ra'], hcg7_2mass['dec'])):\n",
    "    coordinates_2mass.append(SkyCoord(ra*u.deg, dec*u.deg))  # add a new coordinate\n",
    "    \n",
    "print(coordinates_2mass)"
   ]
  },
  {
   "cell_type": "markdown",
   "metadata": {},
   "source": [
    "We can make this even easier though! We can pass SkyCoord arrays of coordinates and get an array back:"
   ]
  },
  {
   "cell_type": "code",
   "execution_count": 40,
   "metadata": {},
   "outputs": [
    {
     "name": "stdout",
     "output_type": "stream",
     "text": [
      "<SkyCoord (ICRS): (ra, dec) in deg\n",
      "    [( 10.086218,  0.880798), (  9.99935 ,  1.06514 ),\n",
      "     ( 10.077062,  0.82913 ), (  9.969907,  0.953472),\n",
      "     ( 10.077704,  0.790143), (  9.895219,  0.859882),\n",
      "     (  9.873526,  1.063769), ( 10.139293,  0.818865),\n",
      "     (  9.888305,  0.597381), (  9.959649,  0.595693),\n",
      "     (  9.928026,  0.627663), (  9.912468,  0.642384),\n",
      "     ( 10.028815,  0.683197), (  9.824936,  0.699687),\n",
      "     (  9.699858,  0.582578), (  9.766345,  0.849419),\n",
      "     (  9.805797,  0.864135), (  9.824418,  0.912743),\n",
      "     (  9.744971,  0.957478), (  9.828303,  0.891909),\n",
      "     (  9.80055 ,  1.044691), (  9.666268,  1.078968),\n",
      "     (  9.704872,  0.839244)]>\n"
     ]
    }
   ],
   "source": [
    "# this table already has units associated with the columns so we do not need to specify them\n",
    "coordinates_2mass = SkyCoord(hcg7_2mass['ra'], hcg7_2mass['dec'])\n",
    "print(coordinates_2mass)"
   ]
  },
  {
   "cell_type": "code",
   "execution_count": null,
   "metadata": {
    "collapsed": true
   },
   "outputs": [],
   "source": []
  }
 ],
 "metadata": {
  "kernelspec": {
   "display_name": "Python [default]",
   "language": "python",
   "name": "python3"
  },
  "language_info": {
   "codemirror_mode": {
    "name": "ipython",
    "version": 3
   },
   "file_extension": ".py",
   "mimetype": "text/x-python",
   "name": "python",
   "nbconvert_exporter": "python",
   "pygments_lexer": "ipython3",
   "version": "3.6.2"
  }
 },
 "nbformat": 4,
 "nbformat_minor": 2
}
