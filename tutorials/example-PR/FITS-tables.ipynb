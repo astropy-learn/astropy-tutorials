{
 "cells": [
  {
   "cell_type": "markdown",
   "metadata": {
    "id": "Mb0-v-tzcpN6"
   },
   "source": [
    "# Working with Chandra FITS tables\n",
    "\n",
    "## Authors\n",
    "Lia Corrales, Kris Stern, Lúthien  Liu, Zihao Chen, Saima Siddiqui\n",
    "\n",
    "## Learning Goals\n",
    "* Download a Chandra FITS table file from a URL \n",
    "* Open a Chandra FITS table file and view table contents\n",
    "* Make a 2D histogram with the event list data\n",
    "* Close the FITS file after use\n",
    "\n",
    "## Keywords\n",
    "FITS, file input/output, table, numpy, matplotlib, histogram\n",
    "\n",
    "\n",
    "## Summary\n",
    "\n",
    "Chandra image data is stored in FITS files, frequently referred to as \"event lists\". Any time a photon interacts with the detector, the position, time, and energy of the photon (referred to as an \"event\") is stored. Thus Chandra event lists are stored as table data, where the position and energy information is stored in the columns and each row corresponds to a separate photon interaction.\n",
    "\n",
    "In this tutorial, we will use `astropy.utils.data` to download a Chandra FITS file, then use `astropy.io.fits` and `astropy.table` to open the file. Lastly, we will use `matplotlib` to visualize the Chandra event list as a histogram, effectively producing an X-ray image of the sky."
   ]
  },
  {
   "cell_type": "code",
   "execution_count": null,
   "metadata": {
    "executionInfo": {
     "elapsed": 1823,
     "status": "ok",
     "timestamp": 1653633618286,
     "user": {
      "displayName": "Lúthien Xinyue LIU",
      "userId": "10124145052980374756"
     },
     "user_tz": -480
    },
    "id": "vfrMqJd9cpN9"
   },
   "outputs": [],
   "source": [
    "import numpy as np\n",
    "from astropy.io import fits\n",
    "from astropy.table import Table\n",
    "from matplotlib.colors import LogNorm\n",
    "\n",
    "# Set up matplotlib\n",
    "import matplotlib.pyplot as plt\n",
    "%matplotlib inline"
   ]
  },
  {
   "cell_type": "markdown",
   "metadata": {
    "id": "IexsOCvKcpN-"
   },
   "source": [
    "The following line is needed to download the example FITS files used in this tutorial."
   ]
  },
  {
   "cell_type": "code",
   "execution_count": null,
   "metadata": {
    "executionInfo": {
     "elapsed": 10,
     "status": "ok",
     "timestamp": 1653633618288,
     "user": {
      "displayName": "Lúthien Xinyue LIU",
      "userId": "10124145052980374756"
     },
     "user_tz": -480
    },
    "id": "0zp1lvcEcpN_"
   },
   "outputs": [],
   "source": [
    "from astropy.utils.data import download_file"
   ]
  },
  {
   "cell_type": "markdown",
   "metadata": {
    "id": "6u1ChU47cpN_"
   },
   "source": [
    "FITS files often contain large amounts of multi-dimensional data and tables.  \n",
    "\n",
    "In this particular example, we'll open a FITS file from a Chandra observation of the Galactic Center.  The file contains a list of events with x and y coordinates, energy, and various other pieces of information."
   ]
  },
  {
   "cell_type": "code",
   "execution_count": null,
   "metadata": {
    "executionInfo": {
     "elapsed": 1010,
     "status": "ok",
     "timestamp": 1653633619290,
     "user": {
      "displayName": "Lúthien Xinyue LIU",
      "userId": "10124145052980374756"
     },
     "user_tz": -480
    },
    "id": "r6F-JgTCcpN_"
   },
   "outputs": [],
   "source": [
    "event_filename = download_file('http://data.astropy.org/tutorials/FITS-tables/chandra_events.fits', \n",
    "                               cache=True)"
   ]
  },
  {
   "cell_type": "markdown",
   "metadata": {
    "id": "me6HB0RrcpOA"
   },
   "source": [
    "## Opening the FITS file and viewing table contents"
   ]
  },
  {
   "cell_type": "markdown",
   "metadata": {
    "id": "Cp_kqCg4cpOA"
   },
   "source": [
    "Since the file is big, let's open it with `memmap=True` to prevent RAM storage issues."
   ]
  },
  {
   "cell_type": "code",
   "execution_count": null,
   "metadata": {
    "executionInfo": {
     "elapsed": 26,
     "status": "ok",
     "timestamp": 1653633619292,
     "user": {
      "displayName": "Lúthien Xinyue LIU",
      "userId": "10124145052980374756"
     },
     "user_tz": -480
    },
    "id": "2ABOyWmxcpOB"
   },
   "outputs": [],
   "source": [
    "hdu_list = fits.open(event_filename, memmap=True)"
   ]
  },
  {
   "cell_type": "code",
   "execution_count": null,
   "metadata": {
    "colab": {
     "base_uri": "https://localhost:8080/"
    },
    "executionInfo": {
     "elapsed": 25,
     "status": "ok",
     "timestamp": 1653633619293,
     "user": {
      "displayName": "Lúthien Xinyue LIU",
      "userId": "10124145052980374756"
     },
     "user_tz": -480
    },
    "id": "yEuBPS8ycpOB",
    "outputId": "34421c3e-c314-453c-8bf0-9cba29f52fc7"
   },
   "outputs": [],
   "source": [
    "hdu_list.info()"
   ]
  },
  {
   "cell_type": "markdown",
   "metadata": {
    "id": "FCoyC8sIcpOC"
   },
   "source": [
    "In this case, we're interested in reading EVENTS, which contains information about each X-ray photon that hit the detector."
   ]
  },
  {
   "cell_type": "markdown",
   "metadata": {
    "id": "kTHnKQPicpOC"
   },
   "source": [
    "To find out what information the table contains, let's print the column names."
   ]
  },
  {
   "cell_type": "code",
   "execution_count": null,
   "metadata": {
    "colab": {
     "base_uri": "https://localhost:8080/"
    },
    "executionInfo": {
     "elapsed": 19,
     "status": "ok",
     "timestamp": 1653633619293,
     "user": {
      "displayName": "Lúthien Xinyue LIU",
      "userId": "10124145052980374756"
     },
     "user_tz": -480
    },
    "id": "CfQyzNPNcpOC",
    "outputId": "77a51740-584d-4e30-b12b-0b9326c21613"
   },
   "outputs": [],
   "source": [
    "print(hdu_list[1].columns)"
   ]
  },
  {
   "cell_type": "markdown",
   "metadata": {
    "id": "YpH2-4qPcpOC"
   },
   "source": [
    "Now we'll take this data and convert it into an [astropy table](http://docs.astropy.org/en/stable/table/). While it's possible to access FITS tables directly from the ``.data`` attribute, using [Table](http://docs.astropy.org/en/stable/api/astropy.table.Table.html#astropy.table.Table) tends to make a variety of common tasks more convenient."
   ]
  },
  {
   "cell_type": "code",
   "execution_count": null,
   "metadata": {
    "executionInfo": {
     "elapsed": 599,
     "status": "ok",
     "timestamp": 1653633619878,
     "user": {
      "displayName": "Lúthien Xinyue LIU",
      "userId": "10124145052980374756"
     },
     "user_tz": -480
    },
    "id": "n7zMyhRhcpOD"
   },
   "outputs": [],
   "source": [
    "evt_data = Table(hdu_list[1].data)"
   ]
  },
  {
   "cell_type": "markdown",
   "metadata": {
    "id": "sEmGEMR1cpOD"
   },
   "source": [
    "For example, a preview of the table is easily viewed by simply running a cell with the table as the last line:"
   ]
  },
  {
   "cell_type": "code",
   "execution_count": null,
   "metadata": {
    "colab": {
     "base_uri": "https://localhost:8080/",
     "height": 875
    },
    "executionInfo": {
     "elapsed": 14,
     "status": "ok",
     "timestamp": 1653633619881,
     "user": {
      "displayName": "Lúthien Xinyue LIU",
      "userId": "10124145052980374756"
     },
     "user_tz": -480
    },
    "id": "c00cCz9McpOD",
    "outputId": "0695b039-3ec4-4273-91dd-956cfd611c4d"
   },
   "outputs": [],
   "source": [
    "evt_data"
   ]
  },
  {
   "cell_type": "markdown",
   "metadata": {
    "id": "86Qa6PUucpOD"
   },
   "source": [
    "We can extract data from the table by referencing the column name. Let's try making a histogram for the energy of each photon, which will give us a sense for the spectrum (folded with the detector's efficiency)."
   ]
  },
  {
   "cell_type": "code",
   "execution_count": null,
   "metadata": {
    "colab": {
     "base_uri": "https://localhost:8080/",
     "height": 298
    },
    "executionInfo": {
     "elapsed": 964,
     "status": "ok",
     "timestamp": 1653633620835,
     "user": {
      "displayName": "Lúthien Xinyue LIU",
      "userId": "10124145052980374756"
     },
     "user_tz": -480
    },
    "id": "9YkZY2wqcpOE",
    "outputId": "f14c41f8-57fe-4ec7-d9f9-94caa94f19bc"
   },
   "outputs": [],
   "source": [
    "energy_hist = plt.hist(evt_data['energy'], bins='auto')\n",
    "plt.xlabel('Energy (eV)')\n",
    "plt.ylabel('Number of photon events')"
   ]
  },
  {
   "cell_type": "markdown",
   "metadata": {
    "id": "Zd7bVk4IcpOE"
   },
   "source": [
    "## Making a 2D histogram with some table data"
   ]
  },
  {
   "cell_type": "markdown",
   "metadata": {
    "id": "E8U-se8zcpOE"
   },
   "source": [
    "We'll make an image by binning the x and y coordinates of the events into a 2D histogram."
   ]
  },
  {
   "cell_type": "markdown",
   "metadata": {
    "id": "cEqsE2U1cpOE"
   },
   "source": [
    "This particular observation spans five CCD chips.  First, we determine the events that only fell on the main (ACIS-I) chips, which have number ids 0, 1, 2, and 3."
   ]
  },
  {
   "cell_type": "code",
   "execution_count": null,
   "metadata": {
    "colab": {
     "base_uri": "https://localhost:8080/"
    },
    "executionInfo": {
     "elapsed": 211,
     "status": "ok",
     "timestamp": 1653633621038,
     "user": {
      "displayName": "Lúthien Xinyue LIU",
      "userId": "10124145052980374756"
     },
     "user_tz": -480
    },
    "id": "Mb4RHcJLcpOE",
    "outputId": "25f79ac5-d4e8-4b66-e27e-b46616a6f85f"
   },
   "outputs": [],
   "source": [
    "ii = np.in1d(evt_data['ccd_id'], [0, 1, 2, 3])\n",
    "np.sum(ii)"
   ]
  },
  {
   "cell_type": "markdown",
   "metadata": {
    "id": "zUYM11V5cpOF"
   },
   "source": [
    "### Method 1: Use numpy to make a 2D histogram and imshow to display it"
   ]
  },
  {
   "cell_type": "markdown",
   "metadata": {
    "id": "fh5bDy-gcpOF"
   },
   "source": [
    "This method allows us to create an image without stretching:"
   ]
  },
  {
   "cell_type": "code",
   "execution_count": null,
   "metadata": {
    "colab": {
     "base_uri": "https://localhost:8080/",
     "height": 298
    },
    "executionInfo": {
     "elapsed": 393,
     "status": "ok",
     "timestamp": 1653633621425,
     "user": {
      "displayName": "Lúthien Xinyue LIU",
      "userId": "10124145052980374756"
     },
     "user_tz": -480
    },
    "id": "hw-xj7pdcpOF",
    "outputId": "fb4c2ea2-d6de-44f3-b262-c08e612a5f9a"
   },
   "outputs": [],
   "source": [
    "NBINS = (100,100)\n",
    "\n",
    "\n",
    "img_zero, yedges, xedges = np.histogram2d(evt_data['x'][ii], evt_data['y'][ii], NBINS)\n",
    "\n",
    "extent = [xedges[0], xedges[-1], yedges[0], yedges[-1]]\n",
    "\n",
    "plt.imshow(img_zero, extent=extent, interpolation='nearest', cmap='gist_yarg', origin='lower', norm=LogNorm())\n",
    "\n",
    "plt.xlabel('x')\n",
    "plt.ylabel('y')\n",
    "\n",
    "# To see more color maps\n",
    "# http://wiki.scipy.org/Cookbook/Matplotlib/Show_colormaps\n",
    "\n",
    "#needs to add norm=LogNorm() in imshow"
   ]
  },
  {
   "cell_type": "markdown",
   "metadata": {
    "id": "2z9PQUh9cpOF"
   },
   "source": [
    "### Method 2: Use hist2d with a log-normal color scheme"
   ]
  },
  {
   "cell_type": "code",
   "execution_count": null,
   "metadata": {
    "colab": {
     "base_uri": "https://localhost:8080/",
     "height": 298
    },
    "executionInfo": {
     "elapsed": 1145,
     "status": "ok",
     "timestamp": 1653633622562,
     "user": {
      "displayName": "Lúthien Xinyue LIU",
      "userId": "10124145052980374756"
     },
     "user_tz": -480
    },
    "id": "tjB8Rxa1cpOG",
    "outputId": "b8b3acfb-e506-4f13-f84d-e9c90db128c5"
   },
   "outputs": [],
   "source": [
    "NBINS = (100,100)\n",
    "img_zero_mpl = plt.hist2d(evt_data['x'][ii], evt_data['y'][ii], NBINS, \n",
    "                          cmap='viridis', norm=LogNorm())\n",
    "\n",
    "cbar = plt.colorbar(ticks=[1.0,3.0,6.0])\n",
    "cbar.ax.set_yticklabels(['1','3','6'])\n",
    "\n",
    "plt.xlabel('x')\n",
    "plt.ylabel('y')"
   ]
  },
  {
   "cell_type": "markdown",
   "metadata": {
    "id": "Gggs4qvFcpOG"
   },
   "source": [
    "## Close the FITS file"
   ]
  },
  {
   "cell_type": "markdown",
   "metadata": {
    "id": "KNYSKxLucpOG"
   },
   "source": [
    "When you're done using a FITS file, it's often a good idea to close it.  That way you can be sure it won't continue using up excess memory or file handles on your computer.  (This happens automatically when you close Python, but you never know how long that might be...)"
   ]
  },
  {
   "cell_type": "code",
   "execution_count": null,
   "metadata": {
    "executionInfo": {
     "elapsed": 9,
     "status": "ok",
     "timestamp": 1653633622564,
     "user": {
      "displayName": "Lúthien Xinyue LIU",
      "userId": "10124145052980374756"
     },
     "user_tz": -480
    },
    "id": "AI8mrIGWcpOG"
   },
   "outputs": [],
   "source": [
    "hdu_list.close()"
   ]
  },
  {
   "cell_type": "markdown",
   "metadata": {
    "id": "cwSittwlcpOG"
   },
   "source": [
    "## Exercises"
   ]
  },
  {
   "cell_type": "markdown",
   "metadata": {
    "id": "zX5Gr3CdcpOH"
   },
   "source": [
    "Make a scatter plot of the same data you histogrammed above.  The [plt.scatter](http://matplotlib.org/api/pyplot_api.html#matplotlib.pyplot.scatter) function is your friend for this.  What are the pros and cons of doing it this way?"
   ]
  },
  {
   "cell_type": "code",
   "execution_count": null,
   "metadata": {
    "colab": {
     "base_uri": "https://localhost:8080/",
     "height": 265
    },
    "executionInfo": {
     "elapsed": 3059,
     "status": "ok",
     "timestamp": 1653633625615,
     "user": {
      "displayName": "Lúthien Xinyue LIU",
      "userId": "10124145052980374756"
     },
     "user_tz": -480
    },
    "id": "haxhlHMIcpOH",
    "outputId": "57a69786-c1b1-496d-8cda-53365172d482"
   },
   "outputs": [],
   "source": [
    "energy_scatter = plt.scatter(evt_data['x'][ii], evt_data['y'][ii])"
   ]
  },
  {
   "cell_type": "markdown",
   "metadata": {
    "id": "84C-9XGUcpOH"
   },
   "source": [
    "Try the same with the [plt.hexbin](http://matplotlib.org/api/pyplot_api.html#matplotlib.pyplot.hexbin) plotting function. Which do you think looks better for this kind of data?"
   ]
  },
  {
   "cell_type": "code",
   "execution_count": null,
   "metadata": {
    "colab": {
     "base_uri": "https://localhost:8080/",
     "height": 265
    },
    "executionInfo": {
     "elapsed": 883,
     "status": "ok",
     "timestamp": 1653633626495,
     "user": {
      "displayName": "Lúthien Xinyue LIU",
      "userId": "10124145052980374756"
     },
     "user_tz": -480
    },
    "id": "s-aWczHzcpOH",
    "outputId": "da36640f-2991-4dc9-bc3d-440ad311c164"
   },
   "outputs": [],
   "source": [
    "energy_hex = plt.hexbin(evt_data['x'][ii], evt_data['y'][ii])"
   ]
  },
  {
   "cell_type": "markdown",
   "metadata": {
    "id": "sB7gbTBBcpOH"
   },
   "source": [
    "Choose an energy range to make a slice of the FITS table, then plot it. How does the image change with different energy ranges?"
   ]
  },
  {
   "cell_type": "code",
   "execution_count": null,
   "metadata": {
    "colab": {
     "base_uri": "https://localhost:8080/",
     "height": 304
    },
    "executionInfo": {
     "elapsed": 1314,
     "status": "ok",
     "timestamp": 1653633651760,
     "user": {
      "displayName": "Lúthien Xinyue LIU",
      "userId": "10124145052980374756"
     },
     "user_tz": -480
    },
    "id": "Hq1VDm35cpOH",
    "outputId": "5f0c7d85-ba4b-460d-89cf-aef88fa6ff64"
   },
   "outputs": [],
   "source": [
    "NBINS = (100,100)\n",
    "img_zero_mpl = plt.hist2d([3500,5000], [3500,5000], NBINS,\n",
    "                          cmap='viridis', norm=LogNorm())\n",
    "\n",
    "cbar = plt.colorbar(ticks=[1.0,3.0,6.0])\n",
    "cbar.ax.set_yticklabels(['1','3','6'])\n",
    "\n",
    "plt.xlabel('x')\n",
    "plt.ylabel('y')"
   ]
  }
 ],
 "metadata": {
  "astropy-tutorials": {
   "author": "Lia R. Corrales <lia@astro.columbia.edu>",
   "date": "January 2014",
   "description": "astropy.utils.data to download the file, astropy.io.fits to open and view the file, matplotlib for making both 1D and 2D histograms of the data.",
   "link_name": "Viewing and manipulating data from FITS tables",
   "name": "",
   "published": true
  },
  "colab": {
   "name": "FITS-tables.ipynb",
   "provenance": []
  },
  "kernelspec": {
   "display_name": "Python 3 (ipykernel)",
   "language": "python",
   "name": "python3"
  },
  "language_info": {
   "codemirror_mode": {
    "name": "ipython",
    "version": 3
   },
   "file_extension": ".py",
   "mimetype": "text/x-python",
   "name": "python",
   "nbconvert_exporter": "python",
   "pygments_lexer": "ipython3",
   "version": "3.7.3"
  }
 },
 "nbformat": 4,
 "nbformat_minor": 1
}
