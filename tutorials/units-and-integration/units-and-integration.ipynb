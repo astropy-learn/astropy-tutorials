{
 "cells": [
  {
   "cell_type": "markdown",
   "metadata": {},
   "source": [
    "# Using `scipy.integrate`\n",
    "\n",
    "This module will teach you how to integrate in the `astropy` and scientific python environment."
   ]
  },
  {
   "cell_type": "markdown",
   "metadata": {},
   "source": [
    "## The Planck function\n",
    "\n",
    "The Planck function describes how a black-body radiates energy. We will explore how to find bolometric luminosity using the Planck function in both frequency and wavelength space."
   ]
  },
  {
   "cell_type": "code",
   "execution_count": 1,
   "metadata": {},
   "outputs": [],
   "source": [
    "import numpy as np\n",
    "from scipy import integrate\n",
    "from astropy.modeling.blackbody import blackbody_lambda, blackbody_nu, BlackBody1D\n",
    "from astropy import units as u, constants as c\n",
    "import matplotlib.pyplot as plt"
   ]
  },
  {
   "cell_type": "markdown",
   "metadata": {},
   "source": [
    "Let's say we have a black-body at 5000 Kelvin. We can find out the total power output from this object, but integrating the Planck function. The simplest way to do this is by approximating the integral using the trapezoid rule. Let's do this first using the frequency definition of the Planck function.\n",
    "\n",
    "We will define a photon frequency grid, and evaluate the Planck function at those frequencies. Those will be used to numerically integrate."
   ]
  },
  {
   "cell_type": "code",
   "execution_count": 2,
   "metadata": {},
   "outputs": [
    {
     "data": {
      "image/png": "[encoded data removed]",
      "text/plain": [
       "<matplotlib.figure.Figure at 0x7fbf1f550b38>"
      ]
     },
     "metadata": {},
     "output_type": "display_data"
    }
   ],
   "source": [
    "nu = np.linspace(1., 3000., 1000) * u.THz\n",
    "bb5000K_nu = blackbody_nu(in_x=nu, temperature=5000. * u.Kelvin)\n",
    "plt.plot(nu, bb5000K_nu)\n",
    "plt.xlabel(r'$\\nu ~ [{\\rm THz}]$')\n",
    "plt.ylabel(r'$I_{\\nu} ~ [{\\rm erg/s/cm^2/Hz/sr}]$')\n",
    "plt.title('Planck function in frequency')\n",
    "plt.show()"
   ]
  },
  {
   "cell_type": "code",
   "execution_count": 3,
   "metadata": {},
   "outputs": [
    {
     "name": "stderr",
     "output_type": "stream",
     "text": [
      "WARNING: UnitsWarning: 'erg/s/cm2/sr' contains multiple slashes, which is discouraged by the FITS standard [astropy.units.format.generic]\n"
     ]
    },
    {
     "data": {
      "text/latex": [
       "$1.1280834 \\times 10^{10} \\; \\mathrm{\\frac{erg}{s\\,sr\\,cm^{2}}}$"
      ],
      "text/plain": [
       "<Quantity 11280833528.711555 erg / (cm2 s sr)>"
      ]
     },
     "execution_count": 3,
     "metadata": {},
     "output_type": "execute_result"
    }
   ],
   "source": [
    "np.trapz(x=nu, y=bb5000K_nu).to('erg/s/cm2/sr')"
   ]
  },
  {
   "cell_type": "markdown",
   "metadata": {},
   "source": [
    "Now we can do something similar, but for a wavelength grid. We want to integrate over an equivalent wavelength range to the frequency range we did earlier. We can transform the maximum frequency into the corresponding (minimum) wavelength by using the `.to()` method, with the addition of an *equivalency*."
   ]
  },
  {
   "cell_type": "code",
   "execution_count": 4,
   "metadata": {},
   "outputs": [
    {
     "data": {
      "image/png": "[encoded data removed]",
      "text/plain": [
       "<matplotlib.figure.Figure at 0x7fbf1f2d2400>"
      ]
     },
     "metadata": {},
     "output_type": "display_data"
    }
   ],
   "source": [
    "lam = np.linspace(nu.max().to(u.AA, equivalencies=u.spectral()),\n",
    "                  nu.min().to(u.AA, equivalencies=u.spectral()), 1000)\n",
    "bb5000K_lam = blackbody_lambda(in_x=lam, temperature=5000. * u.Kelvin)\n",
    "plt.plot(lam, bb5000K_lam)\n",
    "plt.xlabel(r'$\\lambda ~ [{\\rm \\AA}]$')\n",
    "plt.ylabel(r'$I_{\\lambda} ~ [{\\rm erg/s/cm^2/\\AA/sr}]$')\n",
    "plt.title('Planck function in wavelength')\n",
    "plt.show()"
   ]
  },
  {
   "cell_type": "code",
   "execution_count": 10,
   "metadata": {},
   "outputs": [
    {
     "name": "stderr",
     "output_type": "stream",
     "text": [
      "WARNING: UnitsWarning: 'erg/s/cm2/sr' contains multiple slashes, which is discouraged by the FITS standard [astropy.units.format.generic]\n"
     ]
    },
    {
     "data": {
      "text/latex": [
       "$1.1467744 \\times 10^{10} \\; \\mathrm{\\frac{erg}{s\\,sr\\,cm^{2}}}$"
      ],
      "text/plain": [
       "<Quantity 11467744400.928753 erg / (cm2 s sr)>"
      ]
     },
     "execution_count": 10,
     "metadata": {},
     "output_type": "execute_result"
    }
   ],
   "source": [
    "np.trapz(x=lam, y=bb5000K_lam).to('erg/s/cm2/sr')"
   ]
  },
  {
   "cell_type": "markdown",
   "metadata": {},
   "source": [
    "## The stellar initial mass function (IMF)\n",
    "\n",
    "The stellar initial mass function tells us how many of each mass of stars are formed. In particular, low-mass stars are much more abundant than high-mass stars are. Let's explore more of the functionality of `astropy` using this concept.\n",
    "\n",
    "Normally, people think of the IMF as a power-law probability density function. Let's write a little class to help us keep track of that..."
   ]
  },
  {
   "cell_type": "code",
   "execution_count": 11,
   "metadata": {},
   "outputs": [],
   "source": [
    "class PowerLawPDF(object):\n",
    "    def __init__(self, gamma, B=1.):\n",
    "        self.gamma = gamma\n",
    "        self.B = B\n",
    "    def __call__(self, x):\n",
    "        return x**gamma / self.B"
   ]
  },
  {
   "cell_type": "markdown",
   "metadata": {},
   "source": [
    "Now we can "
   ]
  },
  {
   "cell_type": "markdown",
   "metadata": {},
   "source": [
    "## Challenge problems\n",
    "\n",
    "* Try to derive a relationship between recent star-formation rate and $H\\alpha$ flux. How does this depend on the slope and endpoints of the IMF?\n",
    " * **this needs more fleshing out, a few resources to look at**"
   ]
  },
  {
   "cell_type": "code",
   "execution_count": null,
   "metadata": {},
   "outputs": [],
   "source": []
  }
 ],
 "metadata": {
  "kernelspec": {
   "display_name": "Python 3",
   "language": "python",
   "name": "python3"
  },
  "language_info": {
   "codemirror_mode": {
    "name": "ipython",
    "version": 3
   },
   "file_extension": ".py",
   "mimetype": "text/x-python",
   "name": "python",
   "nbconvert_exporter": "python",
   "pygments_lexer": "ipython3",
   "version": "3.6.2"
  }
 },
 "nbformat": 4,
 "nbformat_minor": 2
}
